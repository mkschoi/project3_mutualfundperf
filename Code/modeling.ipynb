{
 "cells": [
  {
   "cell_type": "markdown",
   "metadata": {},
   "source": [
    "# Model Selection and Testing"
   ]
  },
  {
   "cell_type": "code",
   "execution_count": 70,
   "metadata": {},
   "outputs": [],
   "source": [
    "import model_utils as mu\n",
    "import numpy as np\n",
    "import pandas as pd\n",
    "\n",
    "import seaborn as sns\n",
    "import matplotlib.pyplot as plt\n",
    "%matplotlib inline\n",
    "import pickle as pkl\n",
    "\n",
    "from sklearn.linear_model import LogisticRegression\n",
    "from sklearn.neighbors import KNeighborsClassifier\n",
    "from sklearn.tree import DecisionTreeClassifier\n",
    "from sklearn.ensemble import RandomForestClassifier\n",
    "from sklearn.svm import SVC\n",
    "from sklearn.naive_bayes import GaussianNB\n",
    "from xgboost import XGBClassifier\n",
    "\n",
    "from sklearn.metrics import classification_report, confusion_matrix, accuracy_score, precision_score, recall_score, precision_recall_curve, f1_score, roc_curve, roc_auc_score, log_loss\n",
    "from sklearn.inspection import permutation_importance"
   ]
  },
  {
   "cell_type": "markdown",
   "metadata": {},
   "source": [
    "## Find the best classification model using Gridsearch cross-validation - comparing accuracy, precision, recall, f1, roc, and log-loss scores"
   ]
  },
  {
   "cell_type": "markdown",
   "metadata": {},
   "source": [
    "### Baseline model"
   ]
  },
  {
   "cell_type": "code",
   "execution_count": 2,
   "metadata": {},
   "outputs": [],
   "source": [
    "df_mf_train = pd.read_csv('../Data/df_mf_train.csv')"
   ]
  },
  {
   "cell_type": "code",
   "execution_count": 3,
   "metadata": {},
   "outputs": [
    {
     "data": {
      "text/html": [
       "<div>\n",
       "<style scoped>\n",
       "    .dataframe tbody tr th:only-of-type {\n",
       "        vertical-align: middle;\n",
       "    }\n",
       "\n",
       "    .dataframe tbody tr th {\n",
       "        vertical-align: top;\n",
       "    }\n",
       "\n",
       "    .dataframe thead th {\n",
       "        text-align: right;\n",
       "    }\n",
       "</style>\n",
       "<table border=\"1\" class=\"dataframe\">\n",
       "  <thead>\n",
       "    <tr style=\"text-align: right;\">\n",
       "      <th></th>\n",
       "      <th>Ticker</th>\n",
       "      <th>Morningstar Sustainability Rating</th>\n",
       "      <th>ROE Last Year (%)</th>\n",
       "      <th>Debt/Capital Last Year (%)</th>\n",
       "      <th>No. of Holdings in Portfolio</th>\n",
       "      <th>% Assets in Top 10 Holdings</th>\n",
       "      <th>Turnover Ratio (%)</th>\n",
       "      <th>Average Manager Tenure (years)</th>\n",
       "      <th>Expense Ratio (%)</th>\n",
       "      <th>Minimum Initial Purchase ($)</th>\n",
       "      <th>Total Assets ($ mil)</th>\n",
       "      <th>3-year Annualized Return vs. S&amp;P500</th>\n",
       "      <th>Outperform / Underperform</th>\n",
       "      <th>No-load Funds (Yes=1, No=0)</th>\n",
       "      <th>Closed to New Investors (Yes=1, No=0)</th>\n",
       "    </tr>\n",
       "  </thead>\n",
       "  <tbody>\n",
       "    <tr>\n",
       "      <th>0</th>\n",
       "      <td>VFTNX</td>\n",
       "      <td>4</td>\n",
       "      <td>28.22</td>\n",
       "      <td>45.19</td>\n",
       "      <td>470</td>\n",
       "      <td>30.13</td>\n",
       "      <td>18</td>\n",
       "      <td>5</td>\n",
       "      <td>0.12</td>\n",
       "      <td>5000000</td>\n",
       "      <td>10798</td>\n",
       "      <td>4.48</td>\n",
       "      <td>1</td>\n",
       "      <td>1</td>\n",
       "      <td>0</td>\n",
       "    </tr>\n",
       "    <tr>\n",
       "      <th>1</th>\n",
       "      <td>JCNNX</td>\n",
       "      <td>1</td>\n",
       "      <td>10.25</td>\n",
       "      <td>48.60</td>\n",
       "      <td>45</td>\n",
       "      <td>44.05</td>\n",
       "      <td>68</td>\n",
       "      <td>4</td>\n",
       "      <td>0.58</td>\n",
       "      <td>1000000</td>\n",
       "      <td>3785</td>\n",
       "      <td>7.61</td>\n",
       "      <td>1</td>\n",
       "      <td>1</td>\n",
       "      <td>0</td>\n",
       "    </tr>\n",
       "    <tr>\n",
       "      <th>2</th>\n",
       "      <td>PMJPX</td>\n",
       "      <td>4</td>\n",
       "      <td>0.62</td>\n",
       "      <td>46.75</td>\n",
       "      <td>782</td>\n",
       "      <td>12.57</td>\n",
       "      <td>202</td>\n",
       "      <td>6</td>\n",
       "      <td>0.63</td>\n",
       "      <td>1000000</td>\n",
       "      <td>552</td>\n",
       "      <td>-4.02</td>\n",
       "      <td>0</td>\n",
       "      <td>1</td>\n",
       "      <td>0</td>\n",
       "    </tr>\n",
       "    <tr>\n",
       "      <th>3</th>\n",
       "      <td>WMICX</td>\n",
       "      <td>2</td>\n",
       "      <td>-6.53</td>\n",
       "      <td>30.18</td>\n",
       "      <td>75</td>\n",
       "      <td>25.07</td>\n",
       "      <td>75</td>\n",
       "      <td>10</td>\n",
       "      <td>1.66</td>\n",
       "      <td>2000</td>\n",
       "      <td>1410</td>\n",
       "      <td>23.85</td>\n",
       "      <td>1</td>\n",
       "      <td>1</td>\n",
       "      <td>0</td>\n",
       "    </tr>\n",
       "    <tr>\n",
       "      <th>4</th>\n",
       "      <td>STAEX</td>\n",
       "      <td>3</td>\n",
       "      <td>24.25</td>\n",
       "      <td>45.50</td>\n",
       "      <td>39</td>\n",
       "      <td>47.94</td>\n",
       "      <td>16</td>\n",
       "      <td>8</td>\n",
       "      <td>1.02</td>\n",
       "      <td>1000</td>\n",
       "      <td>287</td>\n",
       "      <td>9.69</td>\n",
       "      <td>1</td>\n",
       "      <td>0</td>\n",
       "      <td>0</td>\n",
       "    </tr>\n",
       "  </tbody>\n",
       "</table>\n",
       "</div>"
      ],
      "text/plain": [
       "  Ticker  Morningstar Sustainability Rating  ROE Last Year (%)  \\\n",
       "0  VFTNX                                  4              28.22   \n",
       "1  JCNNX                                  1              10.25   \n",
       "2  PMJPX                                  4               0.62   \n",
       "3  WMICX                                  2              -6.53   \n",
       "4  STAEX                                  3              24.25   \n",
       "\n",
       "   Debt/Capital Last Year (%)  No. of Holdings in Portfolio  \\\n",
       "0                       45.19                           470   \n",
       "1                       48.60                            45   \n",
       "2                       46.75                           782   \n",
       "3                       30.18                            75   \n",
       "4                       45.50                            39   \n",
       "\n",
       "   % Assets in Top 10 Holdings  Turnover Ratio (%)  \\\n",
       "0                        30.13                  18   \n",
       "1                        44.05                  68   \n",
       "2                        12.57                 202   \n",
       "3                        25.07                  75   \n",
       "4                        47.94                  16   \n",
       "\n",
       "   Average Manager Tenure (years)  Expense Ratio (%)  \\\n",
       "0                               5               0.12   \n",
       "1                               4               0.58   \n",
       "2                               6               0.63   \n",
       "3                              10               1.66   \n",
       "4                               8               1.02   \n",
       "\n",
       "   Minimum Initial Purchase ($)  Total Assets ($ mil)  \\\n",
       "0                       5000000                 10798   \n",
       "1                       1000000                  3785   \n",
       "2                       1000000                   552   \n",
       "3                          2000                  1410   \n",
       "4                          1000                   287   \n",
       "\n",
       "   3-year Annualized Return vs. S&P500  Outperform / Underperform  \\\n",
       "0                                 4.48                          1   \n",
       "1                                 7.61                          1   \n",
       "2                                -4.02                          0   \n",
       "3                                23.85                          1   \n",
       "4                                 9.69                          1   \n",
       "\n",
       "   No-load Funds (Yes=1, No=0)  Closed to New Investors (Yes=1, No=0)  \n",
       "0                            1                                      0  \n",
       "1                            1                                      0  \n",
       "2                            1                                      0  \n",
       "3                            1                                      0  \n",
       "4                            0                                      0  "
      ]
     },
     "execution_count": 3,
     "metadata": {},
     "output_type": "execute_result"
    }
   ],
   "source": [
    "df_mf_train.head()"
   ]
  },
  {
   "cell_type": "code",
   "execution_count": 4,
   "metadata": {},
   "outputs": [],
   "source": [
    "X_train_base = df_mf_train.drop(['Ticker','3-year Annualized Return vs. S&P500','Outperform / Underperform'], axis=1)\n",
    "y_train_base = df_mf_train['Outperform / Underperform']"
   ]
  },
  {
   "cell_type": "markdown",
   "metadata": {},
   "source": [
    "#### Logistic regression"
   ]
  },
  {
   "cell_type": "code",
   "execution_count": 5,
   "metadata": {},
   "outputs": [],
   "source": [
    "param_grid_log = {'C': [10, 50, 100]} "
   ]
  },
  {
   "cell_type": "code",
   "execution_count": 6,
   "metadata": {},
   "outputs": [],
   "source": [
    "log_scores_list = mu.gridsearch_cv_scores(X_train_base, y_train_base, LogisticRegression, param_grid_log, 5)"
   ]
  },
  {
   "cell_type": "markdown",
   "metadata": {},
   "source": [
    "#### K nearest neighbors"
   ]
  },
  {
   "cell_type": "code",
   "execution_count": 7,
   "metadata": {},
   "outputs": [],
   "source": [
    "param_grid_knn = {'n_neighbors': range(1,11), 'weights': ['uniform', 'distance'], 'metric': ['euclidean','manhattan']} "
   ]
  },
  {
   "cell_type": "code",
   "execution_count": 8,
   "metadata": {},
   "outputs": [],
   "source": [
    "knn_scores_list = mu.gridsearch_cv_scores(X_train_base, y_train_base, KNeighborsClassifier, param_grid_knn, 5)"
   ]
  },
  {
   "cell_type": "markdown",
   "metadata": {},
   "source": [
    "#### Decision Tree "
   ]
  },
  {
   "cell_type": "code",
   "execution_count": 9,
   "metadata": {},
   "outputs": [],
   "source": [
    "param_grid_dtree = {'criterion': ['gini','entropy'], 'max_depth': range(5,10), 'min_samples_split': range(1,5), 'min_samples_leaf': range(1,3)} "
   ]
  },
  {
   "cell_type": "code",
   "execution_count": 10,
   "metadata": {},
   "outputs": [],
   "source": [
    "dtree_scores_list = mu.gridsearch_cv_scores(X_train_base, y_train_base, DecisionTreeClassifier, param_grid_dtree, 5)"
   ]
  },
  {
   "cell_type": "markdown",
   "metadata": {},
   "source": [
    "#### Random forest"
   ]
  },
  {
   "cell_type": "code",
   "execution_count": 11,
   "metadata": {},
   "outputs": [],
   "source": [
    "param_grid_rfc = {'bootstrap': [False],\n",
    "                  'max_depth': [10],\n",
    "                  'max_features': ['auto'],\n",
    "                  'min_samples_leaf': [1, 2],\n",
    "                  'min_samples_split': [2, 3],\n",
    "                  'n_estimators': [50, 75]\n",
    "                 }"
   ]
  },
  {
   "cell_type": "code",
   "execution_count": 12,
   "metadata": {},
   "outputs": [],
   "source": [
    "rfc_scores_list = mu.gridsearch_cv_scores(X_train_base, y_train_base, RandomForestClassifier, param_grid_rfc, 5)"
   ]
  },
  {
   "cell_type": "markdown",
   "metadata": {},
   "source": [
    "#### Support Vector Machine"
   ]
  },
  {
   "cell_type": "code",
   "execution_count": 13,
   "metadata": {},
   "outputs": [],
   "source": [
    "param_grid_svc = {'C': [100], 'gamma': [0.2,0.5,1], 'kernel': ['rbf']} "
   ]
  },
  {
   "cell_type": "code",
   "execution_count": 14,
   "metadata": {},
   "outputs": [],
   "source": [
    "svm_scores_list = mu.gridsearch_cv_scores(X_train_base, y_train_base, SVC, param_grid_svc, 5)"
   ]
  },
  {
   "cell_type": "markdown",
   "metadata": {},
   "source": [
    "#### Naive Bayes"
   ]
  },
  {
   "cell_type": "code",
   "execution_count": 15,
   "metadata": {},
   "outputs": [],
   "source": [
    "param_grid_nb = {'var_smoothing': np.logspace(0,-9, num=100)}"
   ]
  },
  {
   "cell_type": "code",
   "execution_count": 16,
   "metadata": {},
   "outputs": [],
   "source": [
    "nb_scores_list = mu.gridsearch_cv_scores(X_train_base, y_train_base, GaussianNB, param_grid_nb, 5)"
   ]
  },
  {
   "cell_type": "markdown",
   "metadata": {},
   "source": [
    "#### XG Boost"
   ]
  },
  {
   "cell_type": "code",
   "execution_count": 17,
   "metadata": {},
   "outputs": [],
   "source": [
    "param_grid_xgb = {'n_estimators': [100],  \n",
    "                  'max_depth': range(3,5),\n",
    "                  'learning_rate': [0.5,0.6],\n",
    "                  'subsample': [0.7, 0.9],\n",
    "                  'colsample_bytree': [0.5,0.6]\n",
    "                 }"
   ]
  },
  {
   "cell_type": "code",
   "execution_count": 18,
   "metadata": {},
   "outputs": [
    {
     "name": "stderr",
     "output_type": "stream",
     "text": [
      "/Users/mike/anaconda3/lib/python3.8/site-packages/xgboost/sklearn.py:888: UserWarning: The use of label encoder in XGBClassifier is deprecated and will be removed in a future release. To remove this warning, do the following: 1) Pass option use_label_encoder=False when constructing XGBClassifier object; and 2) Encode your labels (y) as integers starting with 0, i.e. 0, 1, 2, ..., [num_class - 1].\n",
      "  warnings.warn(label_encoder_deprecation_msg, UserWarning)\n"
     ]
    },
    {
     "name": "stdout",
     "output_type": "stream",
     "text": [
      "[01:46:12] WARNING: /Users/travis/build/dmlc/xgboost/src/learner.cc:1061: Starting in XGBoost 1.3.0, the default evaluation metric used with the objective 'binary:logistic' was changed from 'error' to 'logloss'. Explicitly set eval_metric if you'd like to restore the old behavior.\n"
     ]
    }
   ],
   "source": [
    "xgb_scores_list = mu.gridsearch_cv_scores(X_train_base, y_train_base, XGBClassifier, param_grid_xgb, 5)"
   ]
  },
  {
   "cell_type": "markdown",
   "metadata": {},
   "source": [
    "### Model Set 2"
   ]
  },
  {
   "cell_type": "code",
   "execution_count": 19,
   "metadata": {},
   "outputs": [],
   "source": [
    "df2_mf_train = pd.read_csv('../Data/df2_mf_train.csv')"
   ]
  },
  {
   "cell_type": "code",
   "execution_count": 20,
   "metadata": {},
   "outputs": [
    {
     "data": {
      "text/html": [
       "<div>\n",
       "<style scoped>\n",
       "    .dataframe tbody tr th:only-of-type {\n",
       "        vertical-align: middle;\n",
       "    }\n",
       "\n",
       "    .dataframe tbody tr th {\n",
       "        vertical-align: top;\n",
       "    }\n",
       "\n",
       "    .dataframe thead th {\n",
       "        text-align: right;\n",
       "    }\n",
       "</style>\n",
       "<table border=\"1\" class=\"dataframe\">\n",
       "  <thead>\n",
       "    <tr style=\"text-align: right;\">\n",
       "      <th></th>\n",
       "      <th>Ticker</th>\n",
       "      <th>Debt/Capital Last Year (%)</th>\n",
       "      <th>% Assets in Top 10 Holdings</th>\n",
       "      <th>3-year Annualized Return vs. S&amp;P500</th>\n",
       "      <th>Outperform / Underperform</th>\n",
       "    </tr>\n",
       "  </thead>\n",
       "  <tbody>\n",
       "    <tr>\n",
       "      <th>0</th>\n",
       "      <td>VFTNX</td>\n",
       "      <td>45.19</td>\n",
       "      <td>30.13</td>\n",
       "      <td>4.48</td>\n",
       "      <td>1</td>\n",
       "    </tr>\n",
       "    <tr>\n",
       "      <th>1</th>\n",
       "      <td>JCNNX</td>\n",
       "      <td>48.60</td>\n",
       "      <td>44.05</td>\n",
       "      <td>7.61</td>\n",
       "      <td>1</td>\n",
       "    </tr>\n",
       "    <tr>\n",
       "      <th>2</th>\n",
       "      <td>PMJPX</td>\n",
       "      <td>46.75</td>\n",
       "      <td>12.57</td>\n",
       "      <td>-4.02</td>\n",
       "      <td>0</td>\n",
       "    </tr>\n",
       "    <tr>\n",
       "      <th>3</th>\n",
       "      <td>WMICX</td>\n",
       "      <td>30.18</td>\n",
       "      <td>25.07</td>\n",
       "      <td>23.85</td>\n",
       "      <td>1</td>\n",
       "    </tr>\n",
       "    <tr>\n",
       "      <th>4</th>\n",
       "      <td>STAEX</td>\n",
       "      <td>45.50</td>\n",
       "      <td>47.94</td>\n",
       "      <td>9.69</td>\n",
       "      <td>1</td>\n",
       "    </tr>\n",
       "  </tbody>\n",
       "</table>\n",
       "</div>"
      ],
      "text/plain": [
       "  Ticker  Debt/Capital Last Year (%)  % Assets in Top 10 Holdings  \\\n",
       "0  VFTNX                       45.19                        30.13   \n",
       "1  JCNNX                       48.60                        44.05   \n",
       "2  PMJPX                       46.75                        12.57   \n",
       "3  WMICX                       30.18                        25.07   \n",
       "4  STAEX                       45.50                        47.94   \n",
       "\n",
       "   3-year Annualized Return vs. S&P500  Outperform / Underperform  \n",
       "0                                 4.48                          1  \n",
       "1                                 7.61                          1  \n",
       "2                                -4.02                          0  \n",
       "3                                23.85                          1  \n",
       "4                                 9.69                          1  "
      ]
     },
     "execution_count": 20,
     "metadata": {},
     "output_type": "execute_result"
    }
   ],
   "source": [
    "df2_mf_train.head()"
   ]
  },
  {
   "cell_type": "code",
   "execution_count": 21,
   "metadata": {},
   "outputs": [],
   "source": [
    "X2_train = df2_mf_train.drop(['Ticker','3-year Annualized Return vs. S&P500','Outperform / Underperform'], axis=1)\n",
    "y2_train = df2_mf_train['Outperform / Underperform']"
   ]
  },
  {
   "cell_type": "markdown",
   "metadata": {},
   "source": [
    "#### Logistic regression"
   ]
  },
  {
   "cell_type": "code",
   "execution_count": 22,
   "metadata": {},
   "outputs": [],
   "source": [
    "param_grid2_log = {'penalty': ['l1','l2'], 'C': [10, 50, 100]} "
   ]
  },
  {
   "cell_type": "code",
   "execution_count": 23,
   "metadata": {},
   "outputs": [],
   "source": [
    "log2_scores_list = mu.gridsearch_cv_scores(X2_train, y2_train, LogisticRegression, param_grid2_log, 5)"
   ]
  },
  {
   "cell_type": "markdown",
   "metadata": {},
   "source": [
    "#### K nearest neighbors"
   ]
  },
  {
   "cell_type": "code",
   "execution_count": 24,
   "metadata": {},
   "outputs": [],
   "source": [
    "param_grid2_knn = {'n_neighbors': list(range(3,5)), 'weights': ['uniform', 'distance'], 'metric': ['euclidean','manhattan']} "
   ]
  },
  {
   "cell_type": "code",
   "execution_count": 25,
   "metadata": {},
   "outputs": [],
   "source": [
    "knn2_scores_list = mu.gridsearch_cv_scores(X2_train, y2_train, KNeighborsClassifier, param_grid2_knn, 5)"
   ]
  },
  {
   "cell_type": "markdown",
   "metadata": {},
   "source": [
    "#### Decision Tree "
   ]
  },
  {
   "cell_type": "code",
   "execution_count": 26,
   "metadata": {},
   "outputs": [],
   "source": [
    "param_grid2_dtree = {'criterion': ['gini','entropy'], 'max_depth': range(5,10), 'min_samples_split': range(1,5), 'min_samples_leaf': range(1,3)} "
   ]
  },
  {
   "cell_type": "code",
   "execution_count": 27,
   "metadata": {},
   "outputs": [],
   "source": [
    "dtree2_scores_list = mu.gridsearch_cv_scores(X2_train, y2_train, DecisionTreeClassifier, param_grid2_dtree, 5)"
   ]
  },
  {
   "cell_type": "markdown",
   "metadata": {},
   "source": [
    "#### Random forest"
   ]
  },
  {
   "cell_type": "code",
   "execution_count": 28,
   "metadata": {},
   "outputs": [],
   "source": [
    "param_grid2_rfc = {'bootstrap': [False],\n",
    "              'max_depth': [10],\n",
    "              'max_features': ['auto'],\n",
    "              'min_samples_leaf': [1, 2],\n",
    "              'min_samples_split': [2, 3],\n",
    "              'n_estimators': [25, 50]\n",
    "             }"
   ]
  },
  {
   "cell_type": "code",
   "execution_count": 29,
   "metadata": {},
   "outputs": [],
   "source": [
    "rfc2_scores_list = mu.gridsearch_cv_scores(X2_train, y2_train, RandomForestClassifier, param_grid2_rfc, 5)"
   ]
  },
  {
   "cell_type": "markdown",
   "metadata": {},
   "source": [
    "#### Support Vector Machine"
   ]
  },
  {
   "cell_type": "code",
   "execution_count": 30,
   "metadata": {},
   "outputs": [],
   "source": [
    "param_grid2_svc = {'C': [10000, 20000], 'gamma': [1], 'kernel': ['rbf']} "
   ]
  },
  {
   "cell_type": "code",
   "execution_count": 31,
   "metadata": {},
   "outputs": [],
   "source": [
    "svm2_scores_list = mu.gridsearch_cv_scores(X2_train, y2_train, SVC, param_grid2_svc, 5)"
   ]
  },
  {
   "cell_type": "markdown",
   "metadata": {},
   "source": [
    "#### Naive Bayes"
   ]
  },
  {
   "cell_type": "code",
   "execution_count": 32,
   "metadata": {},
   "outputs": [],
   "source": [
    "param_grid2_nb = {'var_smoothing': np.logspace(0,-20, 50)}"
   ]
  },
  {
   "cell_type": "code",
   "execution_count": 33,
   "metadata": {},
   "outputs": [],
   "source": [
    "nb2_scores_list = mu.gridsearch_cv_scores(X2_train, y2_train, GaussianNB, param_grid2_nb, 5)"
   ]
  },
  {
   "cell_type": "markdown",
   "metadata": {},
   "source": [
    "#### XG Boost"
   ]
  },
  {
   "cell_type": "code",
   "execution_count": 34,
   "metadata": {},
   "outputs": [],
   "source": [
    "param_grid2_xgb = {'n_estimators': [100],  \n",
    "                  'max_depth': range(2,4),\n",
    "                  'learning_rate': [0.5],\n",
    "                  'subsample': [0.5,0.75],\n",
    "                  'colsample_bytree': [0.25,0.5]\n",
    "                  }"
   ]
  },
  {
   "cell_type": "code",
   "execution_count": 35,
   "metadata": {},
   "outputs": [
    {
     "name": "stderr",
     "output_type": "stream",
     "text": [
      "/Users/mike/anaconda3/lib/python3.8/site-packages/xgboost/sklearn.py:888: UserWarning: The use of label encoder in XGBClassifier is deprecated and will be removed in a future release. To remove this warning, do the following: 1) Pass option use_label_encoder=False when constructing XGBClassifier object; and 2) Encode your labels (y) as integers starting with 0, i.e. 0, 1, 2, ..., [num_class - 1].\n",
      "  warnings.warn(label_encoder_deprecation_msg, UserWarning)\n"
     ]
    },
    {
     "name": "stdout",
     "output_type": "stream",
     "text": [
      "[01:50:38] WARNING: /Users/travis/build/dmlc/xgboost/src/learner.cc:1061: Starting in XGBoost 1.3.0, the default evaluation metric used with the objective 'binary:logistic' was changed from 'error' to 'logloss'. Explicitly set eval_metric if you'd like to restore the old behavior.\n"
     ]
    }
   ],
   "source": [
    "xgb2_scores_list = mu.gridsearch_cv_scores(X2_train, y2_train, XGBClassifier, param_grid2_xgb, 5)"
   ]
  },
  {
   "cell_type": "markdown",
   "metadata": {},
   "source": [
    "### Model Set 3"
   ]
  },
  {
   "cell_type": "code",
   "execution_count": 36,
   "metadata": {},
   "outputs": [],
   "source": [
    "df3_mf_train = pd.read_csv('../Data/df3_mf_train.csv')"
   ]
  },
  {
   "cell_type": "code",
   "execution_count": 37,
   "metadata": {},
   "outputs": [
    {
     "data": {
      "text/html": [
       "<div>\n",
       "<style scoped>\n",
       "    .dataframe tbody tr th:only-of-type {\n",
       "        vertical-align: middle;\n",
       "    }\n",
       "\n",
       "    .dataframe tbody tr th {\n",
       "        vertical-align: top;\n",
       "    }\n",
       "\n",
       "    .dataframe thead th {\n",
       "        text-align: right;\n",
       "    }\n",
       "</style>\n",
       "<table border=\"1\" class=\"dataframe\">\n",
       "  <thead>\n",
       "    <tr style=\"text-align: right;\">\n",
       "      <th></th>\n",
       "      <th>Ticker</th>\n",
       "      <th>ROE Last Year (%)</th>\n",
       "      <th>Debt/Capital Last Year (%)</th>\n",
       "      <th>No. of Holdings in Portfolio</th>\n",
       "      <th>% Assets in Top 10 Holdings</th>\n",
       "      <th>Closed to New Investors (Yes=1, No=0)</th>\n",
       "      <th>3-year Annualized Return vs. S&amp;P500</th>\n",
       "      <th>Outperform / Underperform</th>\n",
       "    </tr>\n",
       "  </thead>\n",
       "  <tbody>\n",
       "    <tr>\n",
       "      <th>0</th>\n",
       "      <td>VFTNX</td>\n",
       "      <td>28.22</td>\n",
       "      <td>45.19</td>\n",
       "      <td>470</td>\n",
       "      <td>30.13</td>\n",
       "      <td>0</td>\n",
       "      <td>4.48</td>\n",
       "      <td>1</td>\n",
       "    </tr>\n",
       "    <tr>\n",
       "      <th>1</th>\n",
       "      <td>JCNNX</td>\n",
       "      <td>10.25</td>\n",
       "      <td>48.60</td>\n",
       "      <td>45</td>\n",
       "      <td>44.05</td>\n",
       "      <td>0</td>\n",
       "      <td>7.61</td>\n",
       "      <td>1</td>\n",
       "    </tr>\n",
       "    <tr>\n",
       "      <th>2</th>\n",
       "      <td>PMJPX</td>\n",
       "      <td>0.62</td>\n",
       "      <td>46.75</td>\n",
       "      <td>782</td>\n",
       "      <td>12.57</td>\n",
       "      <td>0</td>\n",
       "      <td>-4.02</td>\n",
       "      <td>0</td>\n",
       "    </tr>\n",
       "    <tr>\n",
       "      <th>3</th>\n",
       "      <td>WMICX</td>\n",
       "      <td>-6.53</td>\n",
       "      <td>30.18</td>\n",
       "      <td>75</td>\n",
       "      <td>25.07</td>\n",
       "      <td>0</td>\n",
       "      <td>23.85</td>\n",
       "      <td>1</td>\n",
       "    </tr>\n",
       "    <tr>\n",
       "      <th>4</th>\n",
       "      <td>STAEX</td>\n",
       "      <td>24.25</td>\n",
       "      <td>45.50</td>\n",
       "      <td>39</td>\n",
       "      <td>47.94</td>\n",
       "      <td>0</td>\n",
       "      <td>9.69</td>\n",
       "      <td>1</td>\n",
       "    </tr>\n",
       "  </tbody>\n",
       "</table>\n",
       "</div>"
      ],
      "text/plain": [
       "  Ticker  ROE Last Year (%)  Debt/Capital Last Year (%)  \\\n",
       "0  VFTNX              28.22                       45.19   \n",
       "1  JCNNX              10.25                       48.60   \n",
       "2  PMJPX               0.62                       46.75   \n",
       "3  WMICX              -6.53                       30.18   \n",
       "4  STAEX              24.25                       45.50   \n",
       "\n",
       "   No. of Holdings in Portfolio  % Assets in Top 10 Holdings  \\\n",
       "0                           470                        30.13   \n",
       "1                            45                        44.05   \n",
       "2                           782                        12.57   \n",
       "3                            75                        25.07   \n",
       "4                            39                        47.94   \n",
       "\n",
       "   Closed to New Investors (Yes=1, No=0)  3-year Annualized Return vs. S&P500  \\\n",
       "0                                      0                                 4.48   \n",
       "1                                      0                                 7.61   \n",
       "2                                      0                                -4.02   \n",
       "3                                      0                                23.85   \n",
       "4                                      0                                 9.69   \n",
       "\n",
       "   Outperform / Underperform  \n",
       "0                          1  \n",
       "1                          1  \n",
       "2                          0  \n",
       "3                          1  \n",
       "4                          1  "
      ]
     },
     "execution_count": 37,
     "metadata": {},
     "output_type": "execute_result"
    }
   ],
   "source": [
    "df3_mf_train.head()"
   ]
  },
  {
   "cell_type": "code",
   "execution_count": 38,
   "metadata": {},
   "outputs": [],
   "source": [
    "X3_train = df3_mf_train.drop(['Ticker','3-year Annualized Return vs. S&P500','Outperform / Underperform'], axis=1)\n",
    "y3_train = df3_mf_train['Outperform / Underperform']"
   ]
  },
  {
   "cell_type": "markdown",
   "metadata": {},
   "source": [
    "#### Logistic regression"
   ]
  },
  {
   "cell_type": "code",
   "execution_count": 39,
   "metadata": {},
   "outputs": [],
   "source": [
    "param_grid3_log = {'penalty': ['l1','l2'], 'C': [10, 50, 100]} "
   ]
  },
  {
   "cell_type": "code",
   "execution_count": 40,
   "metadata": {},
   "outputs": [],
   "source": [
    "log3_scores_list = mu.gridsearch_cv_scores(X3_train, y3_train, LogisticRegression, param_grid3_log, 5)"
   ]
  },
  {
   "cell_type": "markdown",
   "metadata": {},
   "source": [
    "#### K nearest neighbors"
   ]
  },
  {
   "cell_type": "code",
   "execution_count": 41,
   "metadata": {},
   "outputs": [],
   "source": [
    "param_grid3_knn = {'n_neighbors': list(range(3,5)), 'weights': ['uniform', 'distance'], 'metric': ['euclidean','manhattan']} "
   ]
  },
  {
   "cell_type": "code",
   "execution_count": 42,
   "metadata": {},
   "outputs": [],
   "source": [
    "knn3_scores_list = mu.gridsearch_cv_scores(X3_train, y3_train, KNeighborsClassifier, param_grid3_knn, 5)"
   ]
  },
  {
   "cell_type": "markdown",
   "metadata": {},
   "source": [
    "#### Decision Tree "
   ]
  },
  {
   "cell_type": "code",
   "execution_count": 43,
   "metadata": {},
   "outputs": [],
   "source": [
    "param_grid3_dtree = {'criterion': ['gini','entropy'], 'max_depth': range(5,10), 'min_samples_split': range(1,5), 'min_samples_leaf': range(1,3)} "
   ]
  },
  {
   "cell_type": "code",
   "execution_count": 44,
   "metadata": {},
   "outputs": [],
   "source": [
    "dtree3_scores_list = mu.gridsearch_cv_scores(X3_train, y3_train, DecisionTreeClassifier, param_grid3_dtree, 5)"
   ]
  },
  {
   "cell_type": "markdown",
   "metadata": {},
   "source": [
    "#### Random forest"
   ]
  },
  {
   "cell_type": "code",
   "execution_count": 45,
   "metadata": {},
   "outputs": [],
   "source": [
    "param_grid3_rfc = {'bootstrap': [False],\n",
    "              'max_depth': [5, 10, 15],\n",
    "              'max_features': ['auto'],\n",
    "              'min_samples_leaf': [1, 2],\n",
    "              'min_samples_split': [2, 3],\n",
    "              'n_estimators': [75, 100, 125]\n",
    "             }"
   ]
  },
  {
   "cell_type": "code",
   "execution_count": 46,
   "metadata": {},
   "outputs": [],
   "source": [
    "rfc3_scores_list = mu.gridsearch_cv_scores(X3_train, y3_train, RandomForestClassifier, param_grid3_rfc, 5)"
   ]
  },
  {
   "cell_type": "markdown",
   "metadata": {},
   "source": [
    "#### Support Vector Machine"
   ]
  },
  {
   "cell_type": "code",
   "execution_count": 47,
   "metadata": {},
   "outputs": [],
   "source": [
    "param_grid3_svc = {'C': [10000, 20000], 'gamma': [1], 'kernel': ['rbf']} "
   ]
  },
  {
   "cell_type": "code",
   "execution_count": 48,
   "metadata": {},
   "outputs": [],
   "source": [
    "svm3_scores_list = mu.gridsearch_cv_scores(X3_train, y3_train, SVC, param_grid3_svc, 5)"
   ]
  },
  {
   "cell_type": "markdown",
   "metadata": {},
   "source": [
    "#### Naive Bayes"
   ]
  },
  {
   "cell_type": "code",
   "execution_count": 49,
   "metadata": {},
   "outputs": [],
   "source": [
    "param_grid3_nb = {'var_smoothing': np.logspace(0,-20, 50)}"
   ]
  },
  {
   "cell_type": "code",
   "execution_count": 50,
   "metadata": {},
   "outputs": [],
   "source": [
    "nb3_scores_list = mu.gridsearch_cv_scores(X3_train, y3_train, GaussianNB, param_grid3_nb, 5)"
   ]
  },
  {
   "cell_type": "markdown",
   "metadata": {},
   "source": [
    "#### XG Boost"
   ]
  },
  {
   "cell_type": "code",
   "execution_count": 51,
   "metadata": {},
   "outputs": [],
   "source": [
    "param_grid3_xgb = {'n_estimators': [100],  \n",
    "                  'max_depth': range(3,5),\n",
    "                  'learning_rate': [0.4, 0.6],\n",
    "                  'subsample': [0.5,0.75],\n",
    "                  'colsample_bytree': [0.75, 1]\n",
    "                }"
   ]
  },
  {
   "cell_type": "code",
   "execution_count": 52,
   "metadata": {},
   "outputs": [
    {
     "name": "stderr",
     "output_type": "stream",
     "text": [
      "/Users/mike/anaconda3/lib/python3.8/site-packages/xgboost/sklearn.py:888: UserWarning: The use of label encoder in XGBClassifier is deprecated and will be removed in a future release. To remove this warning, do the following: 1) Pass option use_label_encoder=False when constructing XGBClassifier object; and 2) Encode your labels (y) as integers starting with 0, i.e. 0, 1, 2, ..., [num_class - 1].\n",
      "  warnings.warn(label_encoder_deprecation_msg, UserWarning)\n"
     ]
    },
    {
     "name": "stdout",
     "output_type": "stream",
     "text": [
      "[01:58:28] WARNING: /Users/travis/build/dmlc/xgboost/src/learner.cc:1061: Starting in XGBoost 1.3.0, the default evaluation metric used with the objective 'binary:logistic' was changed from 'error' to 'logloss'. Explicitly set eval_metric if you'd like to restore the old behavior.\n"
     ]
    }
   ],
   "source": [
    "xgb3_scores_list = mu.gridsearch_cv_scores(X3_train, y3_train, XGBClassifier, param_grid3_xgb, 5)"
   ]
  },
  {
   "cell_type": "markdown",
   "metadata": {},
   "source": [
    "## Put the CV results into dataframes"
   ]
  },
  {
   "cell_type": "markdown",
   "metadata": {},
   "source": [
    "### Baseline"
   ]
  },
  {
   "cell_type": "code",
   "execution_count": 55,
   "metadata": {},
   "outputs": [
    {
     "data": {
      "text/html": [
       "<div>\n",
       "<style scoped>\n",
       "    .dataframe tbody tr th:only-of-type {\n",
       "        vertical-align: middle;\n",
       "    }\n",
       "\n",
       "    .dataframe tbody tr th {\n",
       "        vertical-align: top;\n",
       "    }\n",
       "\n",
       "    .dataframe thead th {\n",
       "        text-align: right;\n",
       "    }\n",
       "</style>\n",
       "<table border=\"1\" class=\"dataframe\">\n",
       "  <thead>\n",
       "    <tr style=\"text-align: right;\">\n",
       "      <th></th>\n",
       "      <th>Accuracy</th>\n",
       "      <th>Precision</th>\n",
       "      <th>Recall</th>\n",
       "      <th>F1 Score</th>\n",
       "      <th>ROC AUC Score</th>\n",
       "      <th>Log-loss</th>\n",
       "    </tr>\n",
       "  </thead>\n",
       "  <tbody>\n",
       "    <tr>\n",
       "      <th>Logistic Regression</th>\n",
       "      <td>0.523847</td>\n",
       "      <td>0.518401</td>\n",
       "      <td>0.482143</td>\n",
       "      <td>0.368679</td>\n",
       "      <td>0.614556</td>\n",
       "      <td>0.685671</td>\n",
       "    </tr>\n",
       "    <tr>\n",
       "      <th>K-nearest Neighbors</th>\n",
       "      <td>0.922670</td>\n",
       "      <td>0.910140</td>\n",
       "      <td>0.907738</td>\n",
       "      <td>0.908789</td>\n",
       "      <td>0.964892</td>\n",
       "      <td>0.762923</td>\n",
       "    </tr>\n",
       "    <tr>\n",
       "      <th>Decision Tree</th>\n",
       "      <td>0.903468</td>\n",
       "      <td>0.904854</td>\n",
       "      <td>0.866071</td>\n",
       "      <td>0.883470</td>\n",
       "      <td>0.941199</td>\n",
       "      <td>1.007828</td>\n",
       "    </tr>\n",
       "    <tr>\n",
       "      <th>Random Forest</th>\n",
       "      <td>0.954514</td>\n",
       "      <td>0.966366</td>\n",
       "      <td>0.917262</td>\n",
       "      <td>0.941597</td>\n",
       "      <td>0.986391</td>\n",
       "      <td>0.193953</td>\n",
       "    </tr>\n",
       "    <tr>\n",
       "      <th>Support Vector Machine</th>\n",
       "      <td>0.772559</td>\n",
       "      <td>1.000000</td>\n",
       "      <td>0.464286</td>\n",
       "      <td>0.633598</td>\n",
       "      <td>0.870387</td>\n",
       "      <td>NaN</td>\n",
       "    </tr>\n",
       "    <tr>\n",
       "      <th>Naive Bayes</th>\n",
       "      <td>0.585541</td>\n",
       "      <td>0.684954</td>\n",
       "      <td>0.058929</td>\n",
       "      <td>0.107066</td>\n",
       "      <td>0.613794</td>\n",
       "      <td>1.231576</td>\n",
       "    </tr>\n",
       "    <tr>\n",
       "      <th>XGBoost</th>\n",
       "      <td>0.958055</td>\n",
       "      <td>0.959434</td>\n",
       "      <td>0.941071</td>\n",
       "      <td>0.950113</td>\n",
       "      <td>0.985104</td>\n",
       "      <td>0.139328</td>\n",
       "    </tr>\n",
       "  </tbody>\n",
       "</table>\n",
       "</div>"
      ],
      "text/plain": [
       "                        Accuracy  Precision    Recall  F1 Score  \\\n",
       "Logistic Regression     0.523847   0.518401  0.482143  0.368679   \n",
       "K-nearest Neighbors     0.922670   0.910140  0.907738  0.908789   \n",
       "Decision Tree           0.903468   0.904854  0.866071  0.883470   \n",
       "Random Forest           0.954514   0.966366  0.917262  0.941597   \n",
       "Support Vector Machine  0.772559   1.000000  0.464286  0.633598   \n",
       "Naive Bayes             0.585541   0.684954  0.058929  0.107066   \n",
       "XGBoost                 0.958055   0.959434  0.941071  0.950113   \n",
       "\n",
       "                        ROC AUC Score  Log-loss  \n",
       "Logistic Regression          0.614556  0.685671  \n",
       "K-nearest Neighbors          0.964892  0.762923  \n",
       "Decision Tree                0.941199  1.007828  \n",
       "Random Forest                0.986391  0.193953  \n",
       "Support Vector Machine       0.870387       NaN  \n",
       "Naive Bayes                  0.613794  1.231576  \n",
       "XGBoost                      0.985104  0.139328  "
      ]
     },
     "execution_count": 55,
     "metadata": {},
     "output_type": "execute_result"
    }
   ],
   "source": [
    "df_scores_base = pd.DataFrame([log_scores_list, knn_scores_list, dtree_scores_list, rfc_scores_list,\n",
    "                               svm_scores_list, nb_scores_list, xgb_scores_list],\n",
    "                              index=['Logistic Regression','K-nearest Neighbors','Decision Tree','Random Forest',\n",
    "                                     'Support Vector Machine','Naive Bayes','XGBoost'],\n",
    "                              columns=['Accuracy','Precision','Recall','F1 Score','ROC AUC Score','Log-loss']\n",
    "                             )\n",
    "df_scores_base"
   ]
  },
  {
   "cell_type": "code",
   "execution_count": 56,
   "metadata": {},
   "outputs": [],
   "source": [
    "df_scores_base.to_csv('../Data/df_scores_base.csv')"
   ]
  },
  {
   "cell_type": "markdown",
   "metadata": {},
   "source": [
    "### Model set 2"
   ]
  },
  {
   "cell_type": "code",
   "execution_count": 57,
   "metadata": {},
   "outputs": [
    {
     "data": {
      "text/html": [
       "<div>\n",
       "<style scoped>\n",
       "    .dataframe tbody tr th:only-of-type {\n",
       "        vertical-align: middle;\n",
       "    }\n",
       "\n",
       "    .dataframe tbody tr th {\n",
       "        vertical-align: top;\n",
       "    }\n",
       "\n",
       "    .dataframe thead th {\n",
       "        text-align: right;\n",
       "    }\n",
       "</style>\n",
       "<table border=\"1\" class=\"dataframe\">\n",
       "  <thead>\n",
       "    <tr style=\"text-align: right;\">\n",
       "      <th></th>\n",
       "      <th>Accuracy</th>\n",
       "      <th>Precision</th>\n",
       "      <th>Recall</th>\n",
       "      <th>F1 Score</th>\n",
       "      <th>ROC AUC Score</th>\n",
       "      <th>Log-loss</th>\n",
       "    </tr>\n",
       "  </thead>\n",
       "  <tbody>\n",
       "    <tr>\n",
       "      <th>Logistic Regression</th>\n",
       "      <td>0.751073</td>\n",
       "      <td>0.744968</td>\n",
       "      <td>0.629167</td>\n",
       "      <td>0.682144</td>\n",
       "      <td>0.812052</td>\n",
       "      <td>0.562080</td>\n",
       "    </tr>\n",
       "    <tr>\n",
       "      <th>K-nearest Neighbors</th>\n",
       "      <td>0.945924</td>\n",
       "      <td>0.933470</td>\n",
       "      <td>0.939881</td>\n",
       "      <td>0.936557</td>\n",
       "      <td>0.966200</td>\n",
       "      <td>1.116546</td>\n",
       "    </tr>\n",
       "    <tr>\n",
       "      <th>Decision Tree</th>\n",
       "      <td>0.838011</td>\n",
       "      <td>0.804402</td>\n",
       "      <td>0.822024</td>\n",
       "      <td>0.813152</td>\n",
       "      <td>0.905191</td>\n",
       "      <td>1.079240</td>\n",
       "    </tr>\n",
       "    <tr>\n",
       "      <th>Random Forest</th>\n",
       "      <td>0.889571</td>\n",
       "      <td>0.862888</td>\n",
       "      <td>0.882143</td>\n",
       "      <td>0.874530</td>\n",
       "      <td>0.954864</td>\n",
       "      <td>0.302651</td>\n",
       "    </tr>\n",
       "    <tr>\n",
       "      <th>Support Vector Machine</th>\n",
       "      <td>0.949207</td>\n",
       "      <td>0.943911</td>\n",
       "      <td>0.936310</td>\n",
       "      <td>0.939948</td>\n",
       "      <td>0.956607</td>\n",
       "      <td>NaN</td>\n",
       "    </tr>\n",
       "    <tr>\n",
       "      <th>Naive Bayes</th>\n",
       "      <td>0.737677</td>\n",
       "      <td>0.750428</td>\n",
       "      <td>0.572619</td>\n",
       "      <td>0.649460</td>\n",
       "      <td>0.813131</td>\n",
       "      <td>0.563076</td>\n",
       "    </tr>\n",
       "    <tr>\n",
       "      <th>XGBoost</th>\n",
       "      <td>0.859998</td>\n",
       "      <td>0.843365</td>\n",
       "      <td>0.823214</td>\n",
       "      <td>0.833127</td>\n",
       "      <td>0.921535</td>\n",
       "      <td>0.360518</td>\n",
       "    </tr>\n",
       "  </tbody>\n",
       "</table>\n",
       "</div>"
      ],
      "text/plain": [
       "                        Accuracy  Precision    Recall  F1 Score  \\\n",
       "Logistic Regression     0.751073   0.744968  0.629167  0.682144   \n",
       "K-nearest Neighbors     0.945924   0.933470  0.939881  0.936557   \n",
       "Decision Tree           0.838011   0.804402  0.822024  0.813152   \n",
       "Random Forest           0.889571   0.862888  0.882143  0.874530   \n",
       "Support Vector Machine  0.949207   0.943911  0.936310  0.939948   \n",
       "Naive Bayes             0.737677   0.750428  0.572619  0.649460   \n",
       "XGBoost                 0.859998   0.843365  0.823214  0.833127   \n",
       "\n",
       "                        ROC AUC Score  Log-loss  \n",
       "Logistic Regression          0.812052  0.562080  \n",
       "K-nearest Neighbors          0.966200  1.116546  \n",
       "Decision Tree                0.905191  1.079240  \n",
       "Random Forest                0.954864  0.302651  \n",
       "Support Vector Machine       0.956607       NaN  \n",
       "Naive Bayes                  0.813131  0.563076  \n",
       "XGBoost                      0.921535  0.360518  "
      ]
     },
     "execution_count": 57,
     "metadata": {},
     "output_type": "execute_result"
    }
   ],
   "source": [
    "df_scores_m2 = pd.DataFrame([log2_scores_list, knn2_scores_list, dtree2_scores_list, rfc2_scores_list,\n",
    "                             svm2_scores_list, nb2_scores_list, xgb2_scores_list],\n",
    "                              index=['Logistic Regression','K-nearest Neighbors','Decision Tree','Random Forest',\n",
    "                                     'Support Vector Machine','Naive Bayes','XGBoost'],\n",
    "                              columns=['Accuracy','Precision','Recall','F1 Score','ROC AUC Score','Log-loss']\n",
    "                             )\n",
    "df_scores_m2"
   ]
  },
  {
   "cell_type": "code",
   "execution_count": 58,
   "metadata": {},
   "outputs": [],
   "source": [
    "df_scores_m2.to_csv('../Data/df_scores_m2.csv')"
   ]
  },
  {
   "cell_type": "markdown",
   "metadata": {},
   "source": [
    "### Model set 3"
   ]
  },
  {
   "cell_type": "code",
   "execution_count": 59,
   "metadata": {},
   "outputs": [
    {
     "data": {
      "text/html": [
       "<div>\n",
       "<style scoped>\n",
       "    .dataframe tbody tr th:only-of-type {\n",
       "        vertical-align: middle;\n",
       "    }\n",
       "\n",
       "    .dataframe tbody tr th {\n",
       "        vertical-align: top;\n",
       "    }\n",
       "\n",
       "    .dataframe thead th {\n",
       "        text-align: right;\n",
       "    }\n",
       "</style>\n",
       "<table border=\"1\" class=\"dataframe\">\n",
       "  <thead>\n",
       "    <tr style=\"text-align: right;\">\n",
       "      <th></th>\n",
       "      <th>Accuracy</th>\n",
       "      <th>Precision</th>\n",
       "      <th>Recall</th>\n",
       "      <th>F1 Score</th>\n",
       "      <th>ROC AUC Score</th>\n",
       "      <th>Log-loss</th>\n",
       "    </tr>\n",
       "  </thead>\n",
       "  <tbody>\n",
       "    <tr>\n",
       "      <th>Logistic Regression</th>\n",
       "      <td>0.753094</td>\n",
       "      <td>0.745017</td>\n",
       "      <td>0.636905</td>\n",
       "      <td>0.686506</td>\n",
       "      <td>0.823723</td>\n",
       "      <td>0.545974</td>\n",
       "    </tr>\n",
       "    <tr>\n",
       "      <th>K-nearest Neighbors</th>\n",
       "      <td>0.950220</td>\n",
       "      <td>0.942725</td>\n",
       "      <td>0.939881</td>\n",
       "      <td>0.941253</td>\n",
       "      <td>0.969291</td>\n",
       "      <td>0.957380</td>\n",
       "    </tr>\n",
       "    <tr>\n",
       "      <th>Decision Tree</th>\n",
       "      <td>0.867328</td>\n",
       "      <td>0.891512</td>\n",
       "      <td>0.785119</td>\n",
       "      <td>0.836796</td>\n",
       "      <td>0.934762</td>\n",
       "      <td>0.795829</td>\n",
       "    </tr>\n",
       "    <tr>\n",
       "      <th>Random Forest</th>\n",
       "      <td>0.961591</td>\n",
       "      <td>0.962027</td>\n",
       "      <td>0.944048</td>\n",
       "      <td>0.953246</td>\n",
       "      <td>0.991800</td>\n",
       "      <td>0.107238</td>\n",
       "    </tr>\n",
       "    <tr>\n",
       "      <th>Support Vector Machine</th>\n",
       "      <td>0.936572</td>\n",
       "      <td>0.997186</td>\n",
       "      <td>0.852976</td>\n",
       "      <td>0.919416</td>\n",
       "      <td>0.990076</td>\n",
       "      <td>NaN</td>\n",
       "    </tr>\n",
       "    <tr>\n",
       "      <th>Naive Bayes</th>\n",
       "      <td>0.719483</td>\n",
       "      <td>0.797325</td>\n",
       "      <td>0.454762</td>\n",
       "      <td>0.579098</td>\n",
       "      <td>0.828139</td>\n",
       "      <td>0.661503</td>\n",
       "    </tr>\n",
       "    <tr>\n",
       "      <th>XGBoost</th>\n",
       "      <td>0.953000</td>\n",
       "      <td>0.944639</td>\n",
       "      <td>0.944643</td>\n",
       "      <td>0.944599</td>\n",
       "      <td>0.980224</td>\n",
       "      <td>0.160522</td>\n",
       "    </tr>\n",
       "  </tbody>\n",
       "</table>\n",
       "</div>"
      ],
      "text/plain": [
       "                        Accuracy  Precision    Recall  F1 Score  \\\n",
       "Logistic Regression     0.753094   0.745017  0.636905  0.686506   \n",
       "K-nearest Neighbors     0.950220   0.942725  0.939881  0.941253   \n",
       "Decision Tree           0.867328   0.891512  0.785119  0.836796   \n",
       "Random Forest           0.961591   0.962027  0.944048  0.953246   \n",
       "Support Vector Machine  0.936572   0.997186  0.852976  0.919416   \n",
       "Naive Bayes             0.719483   0.797325  0.454762  0.579098   \n",
       "XGBoost                 0.953000   0.944639  0.944643  0.944599   \n",
       "\n",
       "                        ROC AUC Score  Log-loss  \n",
       "Logistic Regression          0.823723  0.545974  \n",
       "K-nearest Neighbors          0.969291  0.957380  \n",
       "Decision Tree                0.934762  0.795829  \n",
       "Random Forest                0.991800  0.107238  \n",
       "Support Vector Machine       0.990076       NaN  \n",
       "Naive Bayes                  0.828139  0.661503  \n",
       "XGBoost                      0.980224  0.160522  "
      ]
     },
     "execution_count": 59,
     "metadata": {},
     "output_type": "execute_result"
    }
   ],
   "source": [
    "df_scores_m3 = pd.DataFrame([log3_scores_list, knn3_scores_list, dtree3_scores_list, rfc3_scores_list,\n",
    "                             svm3_scores_list, nb3_scores_list, xgb3_scores_list],\n",
    "                              index=['Logistic Regression','K-nearest Neighbors','Decision Tree','Random Forest',\n",
    "                                     'Support Vector Machine','Naive Bayes','XGBoost'],\n",
    "                              columns=['Accuracy','Precision','Recall','F1 Score','ROC AUC Score','Log-loss']\n",
    "                             )\n",
    "df_scores_m3"
   ]
  },
  {
   "cell_type": "code",
   "execution_count": 60,
   "metadata": {},
   "outputs": [],
   "source": [
    "df_scores_m3.to_csv('../Data/df_scores_m3.csv')"
   ]
  },
  {
   "cell_type": "markdown",
   "metadata": {},
   "source": [
    "## Final Model Testing"
   ]
  },
  {
   "cell_type": "code",
   "execution_count": 61,
   "metadata": {},
   "outputs": [],
   "source": [
    "rfc3 = RandomForestClassifier(bootstrap=False, max_depth=15, max_features='auto',\n",
    "                              min_samples_leaf=1, min_samples_split=2, n_estimators=100)"
   ]
  },
  {
   "cell_type": "code",
   "execution_count": 62,
   "metadata": {},
   "outputs": [
    {
     "data": {
      "text/plain": [
       "RandomForestClassifier(bootstrap=False, max_depth=15)"
      ]
     },
     "execution_count": 62,
     "metadata": {},
     "output_type": "execute_result"
    }
   ],
   "source": [
    "rfc3.fit(X3_train, y3_train)"
   ]
  },
  {
   "cell_type": "code",
   "execution_count": 63,
   "metadata": {},
   "outputs": [],
   "source": [
    "df3_mf_test = pd.read_csv('../Data/df3_mf_test.csv')\n",
    "\n",
    "X3_test = df3_mf_test.drop(['Ticker','3-year Annualized Return vs. S&P500','Outperform / Underperform'], axis=1)\n",
    "y3_test = df3_mf_test['Outperform / Underperform']"
   ]
  },
  {
   "cell_type": "code",
   "execution_count": 64,
   "metadata": {},
   "outputs": [
    {
     "data": {
      "text/plain": [
       "0.9136212624584718"
      ]
     },
     "execution_count": 64,
     "metadata": {},
     "output_type": "execute_result"
    }
   ],
   "source": [
    "rfc3.score(X3_test, y3_test)"
   ]
  },
  {
   "cell_type": "code",
   "execution_count": 65,
   "metadata": {},
   "outputs": [],
   "source": [
    "pred3_rfc = rfc3.predict(X3_test)"
   ]
  },
  {
   "cell_type": "markdown",
   "metadata": {},
   "source": [
    "### Classification report - accuracy, precision, recall, and f1 scores"
   ]
  },
  {
   "cell_type": "code",
   "execution_count": 68,
   "metadata": {
    "scrolled": true
   },
   "outputs": [
    {
     "name": "stdout",
     "output_type": "stream",
     "text": [
      "              precision    recall  f1-score   support\n",
      "\n",
      "           0       0.91      0.95      0.93       680\n",
      "           1       0.93      0.87      0.90       524\n",
      "\n",
      "    accuracy                           0.91      1204\n",
      "   macro avg       0.92      0.91      0.91      1204\n",
      "weighted avg       0.91      0.91      0.91      1204\n",
      "\n"
     ]
    }
   ],
   "source": [
    "print(classification_report(y3_test,pred3_rfc))"
   ]
  },
  {
   "cell_type": "markdown",
   "metadata": {},
   "source": [
    "### Confusion matrix"
   ]
  },
  {
   "cell_type": "code",
   "execution_count": 71,
   "metadata": {},
   "outputs": [
    {
     "data": {
      "image/png": "[encoded data removed]",
      "text/plain": [
       "<Figure size 900x600 with 2 Axes>"
      ]
     },
     "metadata": {
      "needs_background": "light"
     },
     "output_type": "display_data"
    }
   ],
   "source": [
    "rfc_confusion = confusion_matrix(y3_test,pred3_rfc)\n",
    "plt.figure(dpi=150)\n",
    "hm = sns.heatmap(rfc_confusion, cmap=plt.cm.Blues, annot=True, square=True, fmt='g')\n",
    "hm.set_xticklabels(labels=['Underperform','Outperform'], rotation=0)\n",
    "hm.set_yticklabels(labels=['Underperform','Outperform'], rotation=90, va='center')\n",
    "hm.tick_params(left=False, bottom=False)\n",
    "\n",
    "plt.xlabel('Predicted', fontsize=13)\n",
    "plt.ylabel('Actual', fontsize=13)\n",
    "plt.title('Random Forest Model Confusion Matrix', fontsize=15)\n",
    "plt.tight_layout()\n",
    "plt.savefig('../Charts/test_confusion_matrix.png')"
   ]
  },
  {
   "cell_type": "markdown",
   "metadata": {},
   "source": [
    "### Precision and recall curves"
   ]
  },
  {
   "cell_type": "code",
   "execution_count": 72,
   "metadata": {},
   "outputs": [
    {
     "data": {
      "image/png": "[encoded data removed]",
      "text/plain": [
       "<Figure size 576x360 with 1 Axes>"
      ]
     },
     "metadata": {
      "needs_background": "light"
     },
     "output_type": "display_data"
    }
   ],
   "source": [
    "# We can also use the probabilities to make a curve showing us how recall \n",
    "# and thresholds trade off \n",
    "\n",
    "grid_pred_proba_rfc = rfc3.predict_proba(X3_test)[:,1]\n",
    "precision_curve, recall_curve, threshold_curve = precision_recall_curve(y3_test, grid_pred_proba_rfc)\n",
    "\n",
    "plt.figure(figsize=(8,5))\n",
    "plt.plot(threshold_curve, precision_curve[1:],label='precision')\n",
    "plt.plot(threshold_curve, recall_curve[1:], label='recall')\n",
    "plt.legend(loc='lower left')\n",
    "plt.xlabel('Threshold (above this probability, label as underperform)');\n",
    "plt.title('Precision and Recall Curves', fontsize=15)\n",
    "plt.tight_layout()\n",
    "plt.savefig('../Charts/test_precision_recall_thres.png')"
   ]
  },
  {
   "cell_type": "code",
   "execution_count": 73,
   "metadata": {},
   "outputs": [
    {
     "data": {
      "image/png": "[encoded data removed]",
      "text/plain": [
       "<Figure size 576x360 with 1 Axes>"
      ]
     },
     "metadata": {
      "needs_background": "light"
     },
     "output_type": "display_data"
    }
   ],
   "source": [
    "plt.figure(figsize=(8,5))\n",
    "plt.plot(recall_curve[1:], precision_curve[1:],label='precision')\n",
    "plt.xlabel(\"Recall\")\n",
    "plt.ylabel(\"Precision\")\n",
    "plt.title(\"Precision-Recall Curve\")\n",
    "plt.tight_layout()\n",
    "plt.savefig('../Charts/test_precision_recall.png')"
   ]
  },
  {
   "cell_type": "markdown",
   "metadata": {},
   "source": [
    "### ROC curve"
   ]
  },
  {
   "cell_type": "code",
   "execution_count": 76,
   "metadata": {},
   "outputs": [
    {
     "name": "stdout",
     "output_type": "stream",
     "text": [
      "ROC AUC score =  0.9736739447687471\n"
     ]
    },
    {
     "data": {
      "image/png": "[encoded data removed]",
      "text/plain": [
       "<Figure size 576x432 with 1 Axes>"
      ]
     },
     "metadata": {
      "needs_background": "light"
     },
     "output_type": "display_data"
    }
   ],
   "source": [
    "fpr, tpr, thresoholds = roc_curve(y3_test, grid_pred_proba_rfc)\n",
    "\n",
    "plt.figure(figsize=(8,6))\n",
    "plt.plot(fpr, tpr,lw=2)\n",
    "plt.plot([0,1],[0,1],c='red',ls='--')\n",
    "plt.xlim([-0.05,1.05])\n",
    "plt.ylim([-0.05,1.05])\n",
    "\n",
    "plt.xlabel('False positive rate', fontsize=12)\n",
    "plt.ylabel('True positive rate', fontsize=12)\n",
    "plt.title('ROC curve', fontsize=15)\n",
    "plt.tight_layout()\n",
    "plt.savefig('../Charts/test_roc_curve.png')\n",
    "\n",
    "print(\"ROC AUC score = \", roc_auc_score(y3_test, grid_pred_proba_rfc))"
   ]
  },
  {
   "cell_type": "markdown",
   "metadata": {},
   "source": [
    "### Log-loss"
   ]
  },
  {
   "cell_type": "code",
   "execution_count": 77,
   "metadata": {},
   "outputs": [
    {
     "data": {
      "text/plain": [
       "0.23711331215799894"
      ]
     },
     "execution_count": 77,
     "metadata": {},
     "output_type": "execute_result"
    }
   ],
   "source": [
    "log_loss(y3_test, rfc3.predict_proba(X3_test))"
   ]
  },
  {
   "cell_type": "markdown",
   "metadata": {},
   "source": [
    "## Interpreting Results"
   ]
  },
  {
   "cell_type": "markdown",
   "metadata": {},
   "source": [
    "### Feature importance"
   ]
  },
  {
   "cell_type": "markdown",
   "metadata": {},
   "source": [
    "#### Gini importance (or mean decrease impurity)"
   ]
  },
  {
   "cell_type": "code",
   "execution_count": 78,
   "metadata": {},
   "outputs": [
    {
     "data": {
      "text/plain": [
       "Text(0.5, 0, 'Random Forest Feature Importance')"
      ]
     },
     "execution_count": 78,
     "metadata": {},
     "output_type": "execute_result"
    },
    {
     "data": {
      "image/png": "[encoded data removed]",
      "text/plain": [
       "<Figure size 432x288 with 1 Axes>"
      ]
     },
     "metadata": {
      "needs_background": "light"
     },
     "output_type": "display_data"
    }
   ],
   "source": [
    "sorted_idx_gini = rfc3.feature_importances_.argsort()\n",
    "plt.barh(X3_test.columns[sorted_idx_gini], rfc3.feature_importances_[sorted_idx_gini])\n",
    "plt.xlabel(\"Random Forest Feature Importance\")"
   ]
  },
  {
   "cell_type": "markdown",
   "metadata": {},
   "source": [
    "#### Permutation importance"
   ]
  },
  {
   "cell_type": "code",
   "execution_count": 79,
   "metadata": {},
   "outputs": [
    {
     "data": {
      "image/png": "[encoded data removed]",
      "text/plain": [
       "<Figure size 576x360 with 1 Axes>"
      ]
     },
     "metadata": {
      "needs_background": "light"
     },
     "output_type": "display_data"
    }
   ],
   "source": [
    "plt.figure(figsize=(8,5))\n",
    "perm_importance = permutation_importance(rfc3, X3_test, y3_test)\n",
    "sorted_idx_perm = perm_importance.importances_mean.argsort()\n",
    "plt.barh(X3_test.columns[sorted_idx_perm], perm_importance.importances_mean[sorted_idx_perm])\n",
    "plt.title('Random Forest Feature Importance', fontsize=15)\n",
    "plt.xlabel(\"Permutation Importance\")\n",
    "plt.tight_layout()\n",
    "plt.savefig('../Charts/feature_importance.png')"
   ]
  },
  {
   "cell_type": "markdown",
   "metadata": {},
   "source": [
    "### Error analysis"
   ]
  },
  {
   "cell_type": "code",
   "execution_count": 80,
   "metadata": {},
   "outputs": [],
   "source": [
    "FN = df3_mf_test[(y3_test == 1) & (pred3_rfc[:].T == 0)]"
   ]
  },
  {
   "cell_type": "code",
   "execution_count": 81,
   "metadata": {},
   "outputs": [],
   "source": [
    "FP = df3_mf_test[(y3_test == 0) & (pred3_rfc[:].T == 1)]"
   ]
  },
  {
   "cell_type": "code",
   "execution_count": 82,
   "metadata": {},
   "outputs": [
    {
     "data": {
      "image/png": "[encoded data removed]",
      "text/plain": [
       "<Figure size 576x360 with 1 Axes>"
      ]
     },
     "metadata": {
      "needs_background": "light"
     },
     "output_type": "display_data"
    }
   ],
   "source": [
    "plt.figure(figsize=(8,5))\n",
    "df3_mf_train[df3_mf_train['Outperform / Underperform']==1]['Debt/Capital Last Year (%)'].hist(alpha=0.5,\n",
    "                                              color='blue', bins=30,label='Outperform')\n",
    "df3_mf_train[df3_mf_train['Outperform / Underperform']==0]['Debt/Capital Last Year (%)'].hist(alpha=0.5,\n",
    "                                              color='red', bins=30,label='Underperform')\n",
    "FN['Debt/Capital Last Year (%)'].hist(alpha=0.5, color='black', bins=30,label='False Negatives')\n",
    "\n",
    "plt.legend()\n",
    "plt.grid(b=None)\n",
    "plt.title('Random Forest False Negatives - Debt/Capital Last Year (%)', fontsize=15)\n",
    "plt.xlabel('Debt/Capital Last Year (%)')\n",
    "plt.tight_layout()\n",
    "plt.savefig('../Charts/dist_false_negatives.png')"
   ]
  },
  {
   "cell_type": "code",
   "execution_count": 83,
   "metadata": {},
   "outputs": [
    {
     "data": {
      "image/png": "[encoded data removed]",
      "text/plain": [
       "<Figure size 576x360 with 1 Axes>"
      ]
     },
     "metadata": {
      "needs_background": "light"
     },
     "output_type": "display_data"
    }
   ],
   "source": [
    "plt.figure(figsize=(8,5))\n",
    "df3_mf_train[df3_mf_train['Outperform / Underperform']==1]['Debt/Capital Last Year (%)'].hist(alpha=0.5,\n",
    "                                              color='blue', bins=30,label='Outperform')\n",
    "df3_mf_train[df3_mf_train['Outperform / Underperform']==0]['Debt/Capital Last Year (%)'].hist(alpha=0.5,\n",
    "                                              color='red', bins=30,label='Underperform')\n",
    "FP['Debt/Capital Last Year (%)'].hist(alpha=0.5, color='black', bins=30,label='False Positives')\n",
    "\n",
    "plt.legend()\n",
    "plt.grid(b=None)\n",
    "plt.title('Random Forest False Positives - Debt/Capital Last Year (%)', fontsize=15)\n",
    "plt.xlabel('Debt/Capital Last Year (%)')\n",
    "plt.tight_layout()\n",
    "plt.savefig('../Charts/dist_false_positives.png')"
   ]
  },
  {
   "cell_type": "markdown",
   "metadata": {},
   "source": [
    "## Save Model for Web App"
   ]
  },
  {
   "cell_type": "code",
   "execution_count": 84,
   "metadata": {},
   "outputs": [],
   "source": [
    "rfc3.feature_names = list(X3_test.columns[perm_importance.importances_mean.argsort()[::-1]])"
   ]
  },
  {
   "cell_type": "code",
   "execution_count": 85,
   "metadata": {},
   "outputs": [],
   "source": [
    "reverse_binary_mapper = {1:'Outperform', 0:'Underperform'}\n",
    "df3_mf_test['Outperform / Underperform'] = df3_mf_test['Outperform / Underperform'].replace(reverse_binary_mapper)\n",
    "rfc3.target_names = df3_mf_test['Outperform / Underperform'].unique()"
   ]
  },
  {
   "cell_type": "code",
   "execution_count": 86,
   "metadata": {},
   "outputs": [],
   "source": [
    "with open('../Web_app/predictor_app/models/rfc3.pkl', 'wb') as f:\n",
    "    pkl.dump(rfc3, f)"
   ]
  },
  {
   "cell_type": "code",
   "execution_count": 87,
   "metadata": {},
   "outputs": [
    {
     "data": {
      "text/plain": [
       "['% Assets in Top 10 Holdings',\n",
       " 'Debt/Capital Last Year (%)',\n",
       " 'ROE Last Year (%)',\n",
       " 'No. of Holdings in Portfolio',\n",
       " 'Closed to New Investors (Yes=1, No=0)']"
      ]
     },
     "execution_count": 87,
     "metadata": {},
     "output_type": "execute_result"
    }
   ],
   "source": [
    "rfc3.feature_names"
   ]
  },
  {
   "cell_type": "code",
   "execution_count": null,
   "metadata": {},
   "outputs": [],
   "source": []
  }
 ],
 "metadata": {
  "kernelspec": {
   "display_name": "Python 3",
   "language": "python",
   "name": "python3"
  },
  "language_info": {
   "codemirror_mode": {
    "name": "ipython",
    "version": 3
   },
   "file_extension": ".py",
   "mimetype": "text/x-python",
   "name": "python",
   "nbconvert_exporter": "python",
   "pygments_lexer": "ipython3",
   "version": "3.8.5"
  }
 },
 "nbformat": 4,
 "nbformat_minor": 4
}
