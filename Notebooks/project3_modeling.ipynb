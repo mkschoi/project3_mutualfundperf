{
 "cells": [
  {
   "cell_type": "markdown",
   "metadata": {},
   "source": [
    "# Model Selection and Testing"
   ]
  },
  {
   "cell_type": "code",
   "execution_count": 1,
   "metadata": {},
   "outputs": [],
   "source": [
    "import numpy as np\n",
    "import pandas as pd\n",
    "import matplotlib.pyplot as plt\n",
    "import seaborn as sns\n",
    "%matplotlib inline\n",
    "import pickle as pkl\n",
    "\n",
    "from sklearn.linear_model import LogisticRegression\n",
    "from sklearn.neighbors import KNeighborsClassifier\n",
    "from sklearn.tree import DecisionTreeClassifier\n",
    "from sklearn.ensemble import RandomForestClassifier\n",
    "from sklearn.svm import SVC\n",
    "from sklearn.naive_bayes import GaussianNB\n",
    "import xgboost as xgb\n",
    "\n",
    "from sklearn.preprocessing import StandardScaler\n",
    "from sklearn.model_selection import cross_val_score, cross_val_predict\n",
    "from sklearn.model_selection import GridSearchCV\n",
    "from sklearn.metrics import classification_report, confusion_matrix, accuracy_score, precision_score, recall_score, precision_recall_curve, f1_score, roc_curve, roc_auc_score, log_loss\n",
    "from sklearn.inspection import permutation_importance"
   ]
  },
  {
   "cell_type": "code",
   "execution_count": null,
   "metadata": {},
   "outputs": [],
   "source": []
  },
  {
   "cell_type": "markdown",
   "metadata": {},
   "source": [
    "## Baseline model"
   ]
  },
  {
   "cell_type": "code",
   "execution_count": 2,
   "metadata": {},
   "outputs": [],
   "source": [
    "df_mf_train = pd.read_csv('../Data/df_mf_train.csv')"
   ]
  },
  {
   "cell_type": "code",
   "execution_count": 3,
   "metadata": {},
   "outputs": [
    {
     "data": {
      "text/html": [
       "<div>\n",
       "<style scoped>\n",
       "    .dataframe tbody tr th:only-of-type {\n",
       "        vertical-align: middle;\n",
       "    }\n",
       "\n",
       "    .dataframe tbody tr th {\n",
       "        vertical-align: top;\n",
       "    }\n",
       "\n",
       "    .dataframe thead th {\n",
       "        text-align: right;\n",
       "    }\n",
       "</style>\n",
       "<table border=\"1\" class=\"dataframe\">\n",
       "  <thead>\n",
       "    <tr style=\"text-align: right;\">\n",
       "      <th></th>\n",
       "      <th>Ticker</th>\n",
       "      <th>Morningstar Sustainability Rating</th>\n",
       "      <th>ROE Last Year (%)</th>\n",
       "      <th>Debt/Capital Last Year (%)</th>\n",
       "      <th>No. of Holdings in Portfolio</th>\n",
       "      <th>% Assets in Top 10 Holdings</th>\n",
       "      <th>Turnover Ratio (%)</th>\n",
       "      <th>Average Manager Tenure (years)</th>\n",
       "      <th>Expense Ratio (%)</th>\n",
       "      <th>Minimum Initial Purchase ($)</th>\n",
       "      <th>Total Assets ($ mil)</th>\n",
       "      <th>3-year Annualized Return vs. S&amp;P500</th>\n",
       "      <th>Outperform / Underperform</th>\n",
       "      <th>No-load Funds (Yes=1, No=0)</th>\n",
       "      <th>Closed to New Investors (Yes=1, No=0)</th>\n",
       "    </tr>\n",
       "  </thead>\n",
       "  <tbody>\n",
       "    <tr>\n",
       "      <th>0</th>\n",
       "      <td>VFTNX</td>\n",
       "      <td>4</td>\n",
       "      <td>28.22</td>\n",
       "      <td>45.19</td>\n",
       "      <td>470</td>\n",
       "      <td>30.13</td>\n",
       "      <td>18</td>\n",
       "      <td>5</td>\n",
       "      <td>0.12</td>\n",
       "      <td>5000000</td>\n",
       "      <td>10798</td>\n",
       "      <td>4.48</td>\n",
       "      <td>1</td>\n",
       "      <td>1</td>\n",
       "      <td>0</td>\n",
       "    </tr>\n",
       "    <tr>\n",
       "      <th>1</th>\n",
       "      <td>JCNNX</td>\n",
       "      <td>1</td>\n",
       "      <td>10.25</td>\n",
       "      <td>48.60</td>\n",
       "      <td>45</td>\n",
       "      <td>44.05</td>\n",
       "      <td>68</td>\n",
       "      <td>4</td>\n",
       "      <td>0.58</td>\n",
       "      <td>1000000</td>\n",
       "      <td>3785</td>\n",
       "      <td>7.61</td>\n",
       "      <td>1</td>\n",
       "      <td>1</td>\n",
       "      <td>0</td>\n",
       "    </tr>\n",
       "    <tr>\n",
       "      <th>2</th>\n",
       "      <td>PMJPX</td>\n",
       "      <td>4</td>\n",
       "      <td>0.62</td>\n",
       "      <td>46.75</td>\n",
       "      <td>782</td>\n",
       "      <td>12.57</td>\n",
       "      <td>202</td>\n",
       "      <td>6</td>\n",
       "      <td>0.63</td>\n",
       "      <td>1000000</td>\n",
       "      <td>552</td>\n",
       "      <td>-4.02</td>\n",
       "      <td>0</td>\n",
       "      <td>1</td>\n",
       "      <td>0</td>\n",
       "    </tr>\n",
       "    <tr>\n",
       "      <th>3</th>\n",
       "      <td>WMICX</td>\n",
       "      <td>2</td>\n",
       "      <td>-6.53</td>\n",
       "      <td>30.18</td>\n",
       "      <td>75</td>\n",
       "      <td>25.07</td>\n",
       "      <td>75</td>\n",
       "      <td>10</td>\n",
       "      <td>1.66</td>\n",
       "      <td>2000</td>\n",
       "      <td>1410</td>\n",
       "      <td>23.85</td>\n",
       "      <td>1</td>\n",
       "      <td>1</td>\n",
       "      <td>0</td>\n",
       "    </tr>\n",
       "    <tr>\n",
       "      <th>4</th>\n",
       "      <td>STAEX</td>\n",
       "      <td>3</td>\n",
       "      <td>24.25</td>\n",
       "      <td>45.50</td>\n",
       "      <td>39</td>\n",
       "      <td>47.94</td>\n",
       "      <td>16</td>\n",
       "      <td>8</td>\n",
       "      <td>1.02</td>\n",
       "      <td>1000</td>\n",
       "      <td>287</td>\n",
       "      <td>9.69</td>\n",
       "      <td>1</td>\n",
       "      <td>0</td>\n",
       "      <td>0</td>\n",
       "    </tr>\n",
       "  </tbody>\n",
       "</table>\n",
       "</div>"
      ],
      "text/plain": [
       "  Ticker  Morningstar Sustainability Rating  ROE Last Year (%)  \\\n",
       "0  VFTNX                                  4              28.22   \n",
       "1  JCNNX                                  1              10.25   \n",
       "2  PMJPX                                  4               0.62   \n",
       "3  WMICX                                  2              -6.53   \n",
       "4  STAEX                                  3              24.25   \n",
       "\n",
       "   Debt/Capital Last Year (%)  No. of Holdings in Portfolio  \\\n",
       "0                       45.19                           470   \n",
       "1                       48.60                            45   \n",
       "2                       46.75                           782   \n",
       "3                       30.18                            75   \n",
       "4                       45.50                            39   \n",
       "\n",
       "   % Assets in Top 10 Holdings  Turnover Ratio (%)  \\\n",
       "0                        30.13                  18   \n",
       "1                        44.05                  68   \n",
       "2                        12.57                 202   \n",
       "3                        25.07                  75   \n",
       "4                        47.94                  16   \n",
       "\n",
       "   Average Manager Tenure (years)  Expense Ratio (%)  \\\n",
       "0                               5               0.12   \n",
       "1                               4               0.58   \n",
       "2                               6               0.63   \n",
       "3                              10               1.66   \n",
       "4                               8               1.02   \n",
       "\n",
       "   Minimum Initial Purchase ($)  Total Assets ($ mil)  \\\n",
       "0                       5000000                 10798   \n",
       "1                       1000000                  3785   \n",
       "2                       1000000                   552   \n",
       "3                          2000                  1410   \n",
       "4                          1000                   287   \n",
       "\n",
       "   3-year Annualized Return vs. S&P500  Outperform / Underperform  \\\n",
       "0                                 4.48                          1   \n",
       "1                                 7.61                          1   \n",
       "2                                -4.02                          0   \n",
       "3                                23.85                          1   \n",
       "4                                 9.69                          1   \n",
       "\n",
       "   No-load Funds (Yes=1, No=0)  Closed to New Investors (Yes=1, No=0)  \n",
       "0                            1                                      0  \n",
       "1                            1                                      0  \n",
       "2                            1                                      0  \n",
       "3                            1                                      0  \n",
       "4                            0                                      0  "
      ]
     },
     "execution_count": 3,
     "metadata": {},
     "output_type": "execute_result"
    }
   ],
   "source": [
    "df_mf_train.head()"
   ]
  },
  {
   "cell_type": "code",
   "execution_count": 4,
   "metadata": {},
   "outputs": [],
   "source": [
    "X_train_base = df_mf_train.drop(['Ticker','3-year Annualized Return vs. S&P500','Outperform / Underperform'], axis=1)\n",
    "y_train_base = df_mf_train['Outperform / Underperform']"
   ]
  },
  {
   "cell_type": "markdown",
   "metadata": {},
   "source": [
    "### Logistic regression"
   ]
  },
  {
   "cell_type": "markdown",
   "metadata": {},
   "source": [
    "#### Gridsearch"
   ]
  },
  {
   "cell_type": "code",
   "execution_count": 5,
   "metadata": {},
   "outputs": [],
   "source": [
    "param_grid_log = {'C': [10, 100, 1000, 2000]} "
   ]
  },
  {
   "cell_type": "code",
   "execution_count": 6,
   "metadata": {},
   "outputs": [],
   "source": [
    "grid_log = GridSearchCV(LogisticRegression(max_iter=1000),param_grid_log,refit=True,n_jobs=-1)"
   ]
  },
  {
   "cell_type": "code",
   "execution_count": 7,
   "metadata": {},
   "outputs": [
    {
     "data": {
      "text/plain": [
       "GridSearchCV(estimator=LogisticRegression(max_iter=1000), n_jobs=-1,\n",
       "             param_grid={'C': [10, 100, 1000, 2000]})"
      ]
     },
     "execution_count": 7,
     "metadata": {},
     "output_type": "execute_result"
    }
   ],
   "source": [
    "grid_log.fit(X_train_base,y_train_base)"
   ]
  },
  {
   "cell_type": "code",
   "execution_count": 8,
   "metadata": {},
   "outputs": [
    {
     "data": {
      "text/plain": [
       "{'C': 10}"
      ]
     },
     "execution_count": 8,
     "metadata": {},
     "output_type": "execute_result"
    }
   ],
   "source": [
    "grid_log.best_params_"
   ]
  },
  {
   "cell_type": "code",
   "execution_count": 9,
   "metadata": {},
   "outputs": [],
   "source": [
    "accuracy_cv_log = cross_val_score(grid_log, X_train_base, y_train_base, cv=5, scoring='accuracy',n_jobs=-1).mean()"
   ]
  },
  {
   "cell_type": "code",
   "execution_count": 10,
   "metadata": {},
   "outputs": [
    {
     "data": {
      "text/plain": [
       "0.5238465565899194"
      ]
     },
     "execution_count": 10,
     "metadata": {},
     "output_type": "execute_result"
    }
   ],
   "source": [
    "accuracy_cv_log"
   ]
  },
  {
   "cell_type": "code",
   "execution_count": 11,
   "metadata": {},
   "outputs": [],
   "source": [
    "precision_cv_log = cross_val_score(grid_log, X_train_base, y_train_base, cv=5, scoring='precision',n_jobs=-1).mean()"
   ]
  },
  {
   "cell_type": "code",
   "execution_count": 12,
   "metadata": {},
   "outputs": [
    {
     "data": {
      "text/plain": [
       "0.5184014124246024"
      ]
     },
     "execution_count": 12,
     "metadata": {},
     "output_type": "execute_result"
    }
   ],
   "source": [
    "precision_cv_log"
   ]
  },
  {
   "cell_type": "code",
   "execution_count": 13,
   "metadata": {},
   "outputs": [],
   "source": [
    "recall_cv_log = cross_val_score(grid_log, X_train_base, y_train_base, cv=5, scoring='recall',n_jobs=-1).mean()"
   ]
  },
  {
   "cell_type": "code",
   "execution_count": 14,
   "metadata": {},
   "outputs": [
    {
     "data": {
      "text/plain": [
       "0.4821428571428571"
      ]
     },
     "execution_count": 14,
     "metadata": {},
     "output_type": "execute_result"
    }
   ],
   "source": [
    "recall_cv_log"
   ]
  },
  {
   "cell_type": "code",
   "execution_count": 15,
   "metadata": {},
   "outputs": [],
   "source": [
    "f1_cv_log = cross_val_score(grid_log, X_train_base, y_train_base, cv=5, scoring='f1',n_jobs=-1).mean()"
   ]
  },
  {
   "cell_type": "code",
   "execution_count": 16,
   "metadata": {},
   "outputs": [
    {
     "data": {
      "text/plain": [
       "0.3686785938587884"
      ]
     },
     "execution_count": 16,
     "metadata": {},
     "output_type": "execute_result"
    }
   ],
   "source": [
    "f1_cv_log"
   ]
  },
  {
   "cell_type": "code",
   "execution_count": 17,
   "metadata": {},
   "outputs": [],
   "source": [
    "roc_cv_log = cross_val_score(grid_log, X_train_base, y_train_base, cv=5, scoring='roc_auc',n_jobs=-1).mean()"
   ]
  },
  {
   "cell_type": "code",
   "execution_count": 18,
   "metadata": {},
   "outputs": [
    {
     "data": {
      "text/plain": [
       "0.6145564317157362"
      ]
     },
     "execution_count": 18,
     "metadata": {},
     "output_type": "execute_result"
    }
   ],
   "source": [
    "roc_cv_log"
   ]
  },
  {
   "cell_type": "code",
   "execution_count": 19,
   "metadata": {},
   "outputs": [],
   "source": [
    "logloss_cv_log = -cross_val_score(grid_log, X_train_base, y_train_base, cv=5, scoring='neg_log_loss',n_jobs=-1).mean()"
   ]
  },
  {
   "cell_type": "code",
   "execution_count": 20,
   "metadata": {},
   "outputs": [
    {
     "data": {
      "text/plain": [
       "0.6856714195378827"
      ]
     },
     "execution_count": 20,
     "metadata": {},
     "output_type": "execute_result"
    }
   ],
   "source": [
    "logloss_cv_log"
   ]
  },
  {
   "cell_type": "markdown",
   "metadata": {},
   "source": [
    "### K nearest neighbors"
   ]
  },
  {
   "cell_type": "code",
   "execution_count": 21,
   "metadata": {},
   "outputs": [],
   "source": [
    "scaler = StandardScaler()"
   ]
  },
  {
   "cell_type": "code",
   "execution_count": 22,
   "metadata": {},
   "outputs": [],
   "source": [
    "X_train_base_scaled = scaler.fit_transform(X_train_base)"
   ]
  },
  {
   "cell_type": "markdown",
   "metadata": {},
   "source": [
    "#### Gridsearch"
   ]
  },
  {
   "cell_type": "code",
   "execution_count": 23,
   "metadata": {},
   "outputs": [],
   "source": [
    "param_grid_knn = {'n_neighbors': range(1,11), 'weights': ['uniform', 'distance'], 'metric': ['euclidean','manhattan']} "
   ]
  },
  {
   "cell_type": "code",
   "execution_count": 24,
   "metadata": {},
   "outputs": [],
   "source": [
    "grid_knn = GridSearchCV(KNeighborsClassifier(),param_grid_knn,refit=True,n_jobs=-1)"
   ]
  },
  {
   "cell_type": "code",
   "execution_count": 25,
   "metadata": {},
   "outputs": [
    {
     "data": {
      "text/plain": [
       "GridSearchCV(estimator=KNeighborsClassifier(), n_jobs=-1,\n",
       "             param_grid={'metric': ['euclidean', 'manhattan'],\n",
       "                         'n_neighbors': range(1, 11),\n",
       "                         'weights': ['uniform', 'distance']})"
      ]
     },
     "execution_count": 25,
     "metadata": {},
     "output_type": "execute_result"
    }
   ],
   "source": [
    "grid_knn.fit(X_train_base_scaled,y_train_base)"
   ]
  },
  {
   "cell_type": "code",
   "execution_count": 26,
   "metadata": {},
   "outputs": [
    {
     "data": {
      "text/plain": [
       "{'metric': 'manhattan', 'n_neighbors': 5, 'weights': 'distance'}"
      ]
     },
     "execution_count": 26,
     "metadata": {},
     "output_type": "execute_result"
    }
   ],
   "source": [
    "grid_knn.best_params_"
   ]
  },
  {
   "cell_type": "code",
   "execution_count": 27,
   "metadata": {},
   "outputs": [],
   "source": [
    "accuracy_cv_knn = cross_val_score(grid_knn, X_train_base_scaled, y_train_base, cv=5, scoring='accuracy',n_jobs=-1).mean()"
   ]
  },
  {
   "cell_type": "code",
   "execution_count": 28,
   "metadata": {},
   "outputs": [
    {
     "data": {
      "text/plain": [
       "0.9226698080680382"
      ]
     },
     "execution_count": 28,
     "metadata": {},
     "output_type": "execute_result"
    }
   ],
   "source": [
    "accuracy_cv_knn"
   ]
  },
  {
   "cell_type": "code",
   "execution_count": 29,
   "metadata": {},
   "outputs": [],
   "source": [
    "precision_cv_knn = cross_val_score(grid_knn, X_train_base_scaled, y_train_base, cv=5, scoring='precision',n_jobs=-1).mean()"
   ]
  },
  {
   "cell_type": "code",
   "execution_count": 30,
   "metadata": {},
   "outputs": [
    {
     "data": {
      "text/plain": [
       "0.9101396096598526"
      ]
     },
     "execution_count": 30,
     "metadata": {},
     "output_type": "execute_result"
    }
   ],
   "source": [
    "precision_cv_knn"
   ]
  },
  {
   "cell_type": "code",
   "execution_count": 31,
   "metadata": {},
   "outputs": [],
   "source": [
    "recall_cv_knn = cross_val_score(grid_knn, X_train_base_scaled, y_train_base, cv=5, scoring='recall',n_jobs=-1).mean()"
   ]
  },
  {
   "cell_type": "code",
   "execution_count": 32,
   "metadata": {},
   "outputs": [
    {
     "data": {
      "text/plain": [
       "0.9077380952380952"
      ]
     },
     "execution_count": 32,
     "metadata": {},
     "output_type": "execute_result"
    }
   ],
   "source": [
    "recall_cv_knn"
   ]
  },
  {
   "cell_type": "code",
   "execution_count": 33,
   "metadata": {},
   "outputs": [],
   "source": [
    "f1_cv_knn = cross_val_score(grid_knn, X_train_base_scaled, y_train_base, cv=5, scoring='f1',n_jobs=-1).mean()"
   ]
  },
  {
   "cell_type": "code",
   "execution_count": 34,
   "metadata": {},
   "outputs": [
    {
     "data": {
      "text/plain": [
       "0.908788975435602"
      ]
     },
     "execution_count": 34,
     "metadata": {},
     "output_type": "execute_result"
    }
   ],
   "source": [
    "f1_cv_knn"
   ]
  },
  {
   "cell_type": "code",
   "execution_count": 35,
   "metadata": {},
   "outputs": [],
   "source": [
    "roc_cv_knn = cross_val_score(grid_knn, X_train_base_scaled, y_train_base, cv=5, scoring='roc_auc',n_jobs=-1).mean()"
   ]
  },
  {
   "cell_type": "code",
   "execution_count": 36,
   "metadata": {},
   "outputs": [
    {
     "data": {
      "text/plain": [
       "0.9648915873704407"
      ]
     },
     "execution_count": 36,
     "metadata": {},
     "output_type": "execute_result"
    }
   ],
   "source": [
    "roc_cv_knn"
   ]
  },
  {
   "cell_type": "code",
   "execution_count": 37,
   "metadata": {},
   "outputs": [],
   "source": [
    "logloss_cv_knn = -cross_val_score(grid_knn, X_train_base_scaled, y_train_base, cv=5, scoring='neg_log_loss',n_jobs=-1).mean()"
   ]
  },
  {
   "cell_type": "code",
   "execution_count": 38,
   "metadata": {},
   "outputs": [
    {
     "data": {
      "text/plain": [
       "0.7629233683417315"
      ]
     },
     "execution_count": 38,
     "metadata": {},
     "output_type": "execute_result"
    }
   ],
   "source": [
    "logloss_cv_knn"
   ]
  },
  {
   "cell_type": "markdown",
   "metadata": {},
   "source": [
    "### Decision Tree "
   ]
  },
  {
   "cell_type": "markdown",
   "metadata": {},
   "source": [
    "#### Gridsearch"
   ]
  },
  {
   "cell_type": "code",
   "execution_count": 39,
   "metadata": {},
   "outputs": [],
   "source": [
    "param_grid_dtree = {'criterion': ['gini','entropy'], 'max_depth': range(1,10), 'min_samples_split': range(1,5), 'min_samples_leaf': range(1,5)} "
   ]
  },
  {
   "cell_type": "code",
   "execution_count": 40,
   "metadata": {},
   "outputs": [],
   "source": [
    "grid_dtree = GridSearchCV(DecisionTreeClassifier(),param_grid_dtree,refit=True,n_jobs=-1)"
   ]
  },
  {
   "cell_type": "code",
   "execution_count": 41,
   "metadata": {},
   "outputs": [
    {
     "data": {
      "text/plain": [
       "GridSearchCV(estimator=DecisionTreeClassifier(), n_jobs=-1,\n",
       "             param_grid={'criterion': ['gini', 'entropy'],\n",
       "                         'max_depth': range(1, 10),\n",
       "                         'min_samples_leaf': range(1, 5),\n",
       "                         'min_samples_split': range(1, 5)})"
      ]
     },
     "execution_count": 41,
     "metadata": {},
     "output_type": "execute_result"
    }
   ],
   "source": [
    "grid_dtree.fit(X_train_base,y_train_base)"
   ]
  },
  {
   "cell_type": "code",
   "execution_count": 42,
   "metadata": {},
   "outputs": [
    {
     "data": {
      "text/plain": [
       "{'criterion': 'gini',\n",
       " 'max_depth': 9,\n",
       " 'min_samples_leaf': 1,\n",
       " 'min_samples_split': 2}"
      ]
     },
     "execution_count": 42,
     "metadata": {},
     "output_type": "execute_result"
    }
   ],
   "source": [
    "grid_dtree.best_params_"
   ]
  },
  {
   "cell_type": "code",
   "execution_count": 43,
   "metadata": {},
   "outputs": [],
   "source": [
    "accuracy_cv_dtree = cross_val_score(grid_dtree, X_train_base, y_train_base, cv=5, scoring='accuracy',n_jobs=-1).mean()"
   ]
  },
  {
   "cell_type": "code",
   "execution_count": 44,
   "metadata": {},
   "outputs": [
    {
     "data": {
      "text/plain": [
       "0.903215466932281"
      ]
     },
     "execution_count": 44,
     "metadata": {},
     "output_type": "execute_result"
    }
   ],
   "source": [
    "accuracy_cv_dtree"
   ]
  },
  {
   "cell_type": "code",
   "execution_count": 45,
   "metadata": {},
   "outputs": [],
   "source": [
    "precision_cv_dtree = cross_val_score(grid_dtree, X_train_base, y_train_base, cv=5, scoring='precision',n_jobs=-1).mean()"
   ]
  },
  {
   "cell_type": "code",
   "execution_count": 46,
   "metadata": {},
   "outputs": [
    {
     "data": {
      "text/plain": [
       "0.9005723601907064"
      ]
     },
     "execution_count": 46,
     "metadata": {},
     "output_type": "execute_result"
    }
   ],
   "source": [
    "precision_cv_dtree"
   ]
  },
  {
   "cell_type": "code",
   "execution_count": 47,
   "metadata": {},
   "outputs": [],
   "source": [
    "recall_cv_dtree = cross_val_score(grid_dtree, X_train_base, y_train_base, cv=5, scoring='recall',n_jobs=-1).mean()"
   ]
  },
  {
   "cell_type": "code",
   "execution_count": 48,
   "metadata": {},
   "outputs": [
    {
     "data": {
      "text/plain": [
       "0.8589285714285715"
      ]
     },
     "execution_count": 48,
     "metadata": {},
     "output_type": "execute_result"
    }
   ],
   "source": [
    "recall_cv_dtree"
   ]
  },
  {
   "cell_type": "code",
   "execution_count": 49,
   "metadata": {},
   "outputs": [],
   "source": [
    "f1_cv_dtree = cross_val_score(grid_dtree, X_train_base, y_train_base, cv=5, scoring='f1',n_jobs=-1).mean()"
   ]
  },
  {
   "cell_type": "code",
   "execution_count": 50,
   "metadata": {},
   "outputs": [
    {
     "data": {
      "text/plain": [
       "0.8848096666525883"
      ]
     },
     "execution_count": 50,
     "metadata": {},
     "output_type": "execute_result"
    }
   ],
   "source": [
    "f1_cv_dtree"
   ]
  },
  {
   "cell_type": "code",
   "execution_count": 51,
   "metadata": {},
   "outputs": [],
   "source": [
    "roc_cv_dtree = cross_val_score(grid_dtree, X_train_base, y_train_base, cv=5, scoring='roc_auc',n_jobs=-1).mean()"
   ]
  },
  {
   "cell_type": "code",
   "execution_count": 52,
   "metadata": {},
   "outputs": [
    {
     "data": {
      "text/plain": [
       "0.9442915610913729"
      ]
     },
     "execution_count": 52,
     "metadata": {},
     "output_type": "execute_result"
    }
   ],
   "source": [
    "roc_cv_dtree"
   ]
  },
  {
   "cell_type": "code",
   "execution_count": 53,
   "metadata": {},
   "outputs": [],
   "source": [
    "logloss_cv_dtree = -cross_val_score(grid_dtree, X_train_base, y_train_base, cv=5, scoring='neg_log_loss',n_jobs=-1).mean()"
   ]
  },
  {
   "cell_type": "code",
   "execution_count": 54,
   "metadata": {},
   "outputs": [
    {
     "data": {
      "text/plain": [
       "1.0132339932184289"
      ]
     },
     "execution_count": 54,
     "metadata": {},
     "output_type": "execute_result"
    }
   ],
   "source": [
    "logloss_cv_dtree"
   ]
  },
  {
   "cell_type": "markdown",
   "metadata": {},
   "source": [
    "### Random forest"
   ]
  },
  {
   "cell_type": "markdown",
   "metadata": {},
   "source": [
    "#### Gridsearch"
   ]
  },
  {
   "cell_type": "code",
   "execution_count": 55,
   "metadata": {},
   "outputs": [],
   "source": [
    "param_grid_rfc = {'bootstrap': [False],\n",
    "              'max_depth': [1, 5, 10],\n",
    "              'max_features': ['auto'],\n",
    "              'min_samples_leaf': [1, 2],\n",
    "              'min_samples_split': [2, 3],\n",
    "              'n_estimators': [25, 50, 75]\n",
    "             }"
   ]
  },
  {
   "cell_type": "code",
   "execution_count": 56,
   "metadata": {},
   "outputs": [],
   "source": [
    "grid_rfc = GridSearchCV(RandomForestClassifier(),param_grid_rfc,refit=True,n_jobs=-1)"
   ]
  },
  {
   "cell_type": "code",
   "execution_count": 57,
   "metadata": {},
   "outputs": [
    {
     "data": {
      "text/plain": [
       "GridSearchCV(estimator=RandomForestClassifier(), n_jobs=-1,\n",
       "             param_grid={'bootstrap': [False], 'max_depth': [1, 5, 10],\n",
       "                         'max_features': ['auto'], 'min_samples_leaf': [1, 2],\n",
       "                         'min_samples_split': [2, 3],\n",
       "                         'n_estimators': [25, 50, 75]})"
      ]
     },
     "execution_count": 57,
     "metadata": {},
     "output_type": "execute_result"
    }
   ],
   "source": [
    "grid_rfc.fit(X_train_base,y_train_base)"
   ]
  },
  {
   "cell_type": "code",
   "execution_count": 58,
   "metadata": {},
   "outputs": [
    {
     "data": {
      "text/plain": [
       "{'bootstrap': False,\n",
       " 'max_depth': 10,\n",
       " 'max_features': 'auto',\n",
       " 'min_samples_leaf': 1,\n",
       " 'min_samples_split': 2,\n",
       " 'n_estimators': 75}"
      ]
     },
     "execution_count": 58,
     "metadata": {},
     "output_type": "execute_result"
    }
   ],
   "source": [
    "grid_rfc.best_params_"
   ]
  },
  {
   "cell_type": "code",
   "execution_count": 59,
   "metadata": {},
   "outputs": [],
   "source": [
    "accuracy_cv_rfc = cross_val_score(grid_rfc, X_train_base, y_train_base, cv=5, scoring='accuracy',n_jobs=-1).mean()"
   ]
  },
  {
   "cell_type": "code",
   "execution_count": 60,
   "metadata": {},
   "outputs": [
    {
     "data": {
      "text/plain": [
       "0.947943403695616"
      ]
     },
     "execution_count": 60,
     "metadata": {},
     "output_type": "execute_result"
    }
   ],
   "source": [
    "accuracy_cv_rfc"
   ]
  },
  {
   "cell_type": "code",
   "execution_count": 61,
   "metadata": {},
   "outputs": [],
   "source": [
    "precision_cv_rfc = cross_val_score(grid_rfc, X_train_base, y_train_base, cv=5, scoring='precision',n_jobs=-1).mean()"
   ]
  },
  {
   "cell_type": "code",
   "execution_count": 62,
   "metadata": {},
   "outputs": [
    {
     "data": {
      "text/plain": [
       "0.9605020766605143"
      ]
     },
     "execution_count": 62,
     "metadata": {},
     "output_type": "execute_result"
    }
   ],
   "source": [
    "precision_cv_rfc"
   ]
  },
  {
   "cell_type": "code",
   "execution_count": 63,
   "metadata": {},
   "outputs": [],
   "source": [
    "recall_cv_rfc = cross_val_score(grid_rfc, X_train_base, y_train_base, cv=5, scoring='recall',n_jobs=-1).mean()"
   ]
  },
  {
   "cell_type": "code",
   "execution_count": 64,
   "metadata": {},
   "outputs": [
    {
     "data": {
      "text/plain": [
       "0.9166666666666667"
      ]
     },
     "execution_count": 64,
     "metadata": {},
     "output_type": "execute_result"
    }
   ],
   "source": [
    "recall_cv_rfc"
   ]
  },
  {
   "cell_type": "code",
   "execution_count": 65,
   "metadata": {},
   "outputs": [],
   "source": [
    "f1_cv_rfc = cross_val_score(grid_rfc, X_train_base, y_train_base, cv=5, scoring='f1',n_jobs=-1).mean()"
   ]
  },
  {
   "cell_type": "code",
   "execution_count": 66,
   "metadata": {},
   "outputs": [
    {
     "data": {
      "text/plain": [
       "0.9390990980062422"
      ]
     },
     "execution_count": 66,
     "metadata": {},
     "output_type": "execute_result"
    }
   ],
   "source": [
    "f1_cv_rfc"
   ]
  },
  {
   "cell_type": "code",
   "execution_count": 67,
   "metadata": {},
   "outputs": [],
   "source": [
    "roc_cv_rfc = cross_val_score(grid_rfc, X_train_base, y_train_base, cv=5, scoring='roc_auc',n_jobs=-1).mean()"
   ]
  },
  {
   "cell_type": "code",
   "execution_count": 68,
   "metadata": {},
   "outputs": [
    {
     "data": {
      "text/plain": [
       "0.9864830861494396"
      ]
     },
     "execution_count": 68,
     "metadata": {},
     "output_type": "execute_result"
    }
   ],
   "source": [
    "roc_cv_rfc"
   ]
  },
  {
   "cell_type": "code",
   "execution_count": 69,
   "metadata": {},
   "outputs": [],
   "source": [
    "logloss_cv_rfc = -cross_val_score(grid_rfc, X_train_base, y_train_base, cv=5, scoring='neg_log_loss',n_jobs=-1).mean()"
   ]
  },
  {
   "cell_type": "code",
   "execution_count": 70,
   "metadata": {},
   "outputs": [
    {
     "data": {
      "text/plain": [
       "0.19981369917763434"
      ]
     },
     "execution_count": 70,
     "metadata": {},
     "output_type": "execute_result"
    }
   ],
   "source": [
    "logloss_cv_rfc"
   ]
  },
  {
   "cell_type": "markdown",
   "metadata": {},
   "source": [
    "### Support Vector Machine"
   ]
  },
  {
   "cell_type": "markdown",
   "metadata": {},
   "source": [
    "#### Gridsearch"
   ]
  },
  {
   "cell_type": "code",
   "execution_count": 71,
   "metadata": {},
   "outputs": [],
   "source": [
    "param_grid_svc = {'C': [10, 100, 1000], 'gamma': [0.2,0.5,1], 'kernel': ['rbf']} "
   ]
  },
  {
   "cell_type": "code",
   "execution_count": 72,
   "metadata": {},
   "outputs": [],
   "source": [
    "grid_svc = GridSearchCV(SVC(),param_grid_svc,refit=True,n_jobs=-1)"
   ]
  },
  {
   "cell_type": "code",
   "execution_count": 73,
   "metadata": {},
   "outputs": [
    {
     "data": {
      "text/plain": [
       "GridSearchCV(estimator=SVC(), n_jobs=-1,\n",
       "             param_grid={'C': [10, 100, 1000], 'gamma': [0.2, 0.5, 1],\n",
       "                         'kernel': ['rbf']})"
      ]
     },
     "execution_count": 73,
     "metadata": {},
     "output_type": "execute_result"
    }
   ],
   "source": [
    "grid_svc.fit(X_train_base_scaled,y_train_base)"
   ]
  },
  {
   "cell_type": "code",
   "execution_count": 74,
   "metadata": {},
   "outputs": [
    {
     "data": {
      "text/plain": [
       "{'C': 100, 'gamma': 0.5, 'kernel': 'rbf'}"
      ]
     },
     "execution_count": 74,
     "metadata": {},
     "output_type": "execute_result"
    }
   ],
   "source": [
    "grid_svc.best_params_"
   ]
  },
  {
   "cell_type": "code",
   "execution_count": 75,
   "metadata": {},
   "outputs": [],
   "source": [
    "accuracy_cv_svc = cross_val_score(grid_svc, X_train_base_scaled, y_train_base, cv=5, scoring='accuracy',n_jobs=-1).mean()"
   ]
  },
  {
   "cell_type": "code",
   "execution_count": 76,
   "metadata": {},
   "outputs": [
    {
     "data": {
      "text/plain": [
       "0.8958836149101636"
      ]
     },
     "execution_count": 76,
     "metadata": {},
     "output_type": "execute_result"
    }
   ],
   "source": [
    "accuracy_cv_svc"
   ]
  },
  {
   "cell_type": "code",
   "execution_count": 77,
   "metadata": {},
   "outputs": [],
   "source": [
    "precision_cv_svc = cross_val_score(grid_svc, X_train_base_scaled, y_train_base, cv=5, scoring='precision',n_jobs=-1).mean()"
   ]
  },
  {
   "cell_type": "code",
   "execution_count": 78,
   "metadata": {},
   "outputs": [
    {
     "data": {
      "text/plain": [
       "0.899347764522638"
      ]
     },
     "execution_count": 78,
     "metadata": {},
     "output_type": "execute_result"
    }
   ],
   "source": [
    "precision_cv_svc"
   ]
  },
  {
   "cell_type": "code",
   "execution_count": 79,
   "metadata": {},
   "outputs": [],
   "source": [
    "recall_cv_svc = cross_val_score(grid_svc, X_train_base_scaled, y_train_base, cv=5, scoring='recall',n_jobs=-1).mean()"
   ]
  },
  {
   "cell_type": "code",
   "execution_count": 80,
   "metadata": {},
   "outputs": [
    {
     "data": {
      "text/plain": [
       "0.85"
      ]
     },
     "execution_count": 80,
     "metadata": {},
     "output_type": "execute_result"
    }
   ],
   "source": [
    "recall_cv_svc"
   ]
  },
  {
   "cell_type": "code",
   "execution_count": 81,
   "metadata": {},
   "outputs": [],
   "source": [
    "f1_cv_svc = cross_val_score(grid_svc, X_train_base_scaled, y_train_base, cv=5, scoring='f1',n_jobs=-1).mean()"
   ]
  },
  {
   "cell_type": "code",
   "execution_count": 82,
   "metadata": {},
   "outputs": [
    {
     "data": {
      "text/plain": [
       "0.8739045205627131"
      ]
     },
     "execution_count": 82,
     "metadata": {},
     "output_type": "execute_result"
    }
   ],
   "source": [
    "f1_cv_svc"
   ]
  },
  {
   "cell_type": "code",
   "execution_count": 83,
   "metadata": {},
   "outputs": [],
   "source": [
    "roc_cv_svc = cross_val_score(grid_svc, X_train_base_scaled, y_train_base, cv=5, scoring='roc_auc',n_jobs=-1).mean()"
   ]
  },
  {
   "cell_type": "code",
   "execution_count": 84,
   "metadata": {},
   "outputs": [
    {
     "data": {
      "text/plain": [
       "0.9479072796460013"
      ]
     },
     "execution_count": 84,
     "metadata": {},
     "output_type": "execute_result"
    }
   ],
   "source": [
    "roc_cv_svc"
   ]
  },
  {
   "cell_type": "markdown",
   "metadata": {},
   "source": [
    "### Naive Bayes"
   ]
  },
  {
   "cell_type": "markdown",
   "metadata": {},
   "source": [
    "#### Gridsearch"
   ]
  },
  {
   "cell_type": "code",
   "execution_count": 85,
   "metadata": {},
   "outputs": [],
   "source": [
    "param_grid_nb = {'var_smoothing': np.logspace(0,-9, num=100)}"
   ]
  },
  {
   "cell_type": "code",
   "execution_count": 86,
   "metadata": {},
   "outputs": [],
   "source": [
    "grid_nb = GridSearchCV(GaussianNB(),param_grid_nb,refit=True,n_jobs=-1)"
   ]
  },
  {
   "cell_type": "code",
   "execution_count": 87,
   "metadata": {},
   "outputs": [
    {
     "data": {
      "text/plain": [
       "GridSearchCV(estimator=GaussianNB(), n_jobs=-1,\n",
       "             param_grid={'var_smoothing': array([1.00000000e+00, 8.11130831e-01, 6.57933225e-01, 5.33669923e-01,\n",
       "       4.32876128e-01, 3.51119173e-01, 2.84803587e-01, 2.31012970e-01,\n",
       "       1.87381742e-01, 1.51991108e-01, 1.23284674e-01, 1.00000000e-01,\n",
       "       8.11130831e-02, 6.57933225e-02, 5.33669923e-02, 4.32876128e-02,\n",
       "       3.51119173e-02, 2.84803587e-02...\n",
       "       1.23284674e-07, 1.00000000e-07, 8.11130831e-08, 6.57933225e-08,\n",
       "       5.33669923e-08, 4.32876128e-08, 3.51119173e-08, 2.84803587e-08,\n",
       "       2.31012970e-08, 1.87381742e-08, 1.51991108e-08, 1.23284674e-08,\n",
       "       1.00000000e-08, 8.11130831e-09, 6.57933225e-09, 5.33669923e-09,\n",
       "       4.32876128e-09, 3.51119173e-09, 2.84803587e-09, 2.31012970e-09,\n",
       "       1.87381742e-09, 1.51991108e-09, 1.23284674e-09, 1.00000000e-09])})"
      ]
     },
     "execution_count": 87,
     "metadata": {},
     "output_type": "execute_result"
    }
   ],
   "source": [
    "grid_nb.fit(X_train_base,y_train_base)"
   ]
  },
  {
   "cell_type": "code",
   "execution_count": 88,
   "metadata": {},
   "outputs": [
    {
     "data": {
      "text/plain": [
       "{'var_smoothing': 4.328761281083062e-05}"
      ]
     },
     "execution_count": 88,
     "metadata": {},
     "output_type": "execute_result"
    }
   ],
   "source": [
    "grid_nb.best_params_"
   ]
  },
  {
   "cell_type": "code",
   "execution_count": 89,
   "metadata": {},
   "outputs": [],
   "source": [
    "accuracy_cv_nb = cross_val_score(grid_nb, X_train_base, y_train_base, cv=5, scoring='accuracy',n_jobs=-1).mean()"
   ]
  },
  {
   "cell_type": "code",
   "execution_count": 90,
   "metadata": {},
   "outputs": [
    {
     "data": {
      "text/plain": [
       "0.5855409339922615"
      ]
     },
     "execution_count": 90,
     "metadata": {},
     "output_type": "execute_result"
    }
   ],
   "source": [
    "accuracy_cv_nb"
   ]
  },
  {
   "cell_type": "code",
   "execution_count": 91,
   "metadata": {},
   "outputs": [],
   "source": [
    "precision_cv_nb = cross_val_score(grid_nb, X_train_base, y_train_base, cv=5, scoring='precision',n_jobs=-1).mean()"
   ]
  },
  {
   "cell_type": "code",
   "execution_count": 92,
   "metadata": {},
   "outputs": [
    {
     "data": {
      "text/plain": [
       "0.6849544072948328"
      ]
     },
     "execution_count": 92,
     "metadata": {},
     "output_type": "execute_result"
    }
   ],
   "source": [
    "precision_cv_nb"
   ]
  },
  {
   "cell_type": "code",
   "execution_count": 93,
   "metadata": {},
   "outputs": [],
   "source": [
    "recall_cv_nb = cross_val_score(grid_nb, X_train_base, y_train_base, cv=5, scoring='recall',n_jobs=-1).mean()"
   ]
  },
  {
   "cell_type": "code",
   "execution_count": 94,
   "metadata": {},
   "outputs": [
    {
     "data": {
      "text/plain": [
       "0.05892857142857143"
      ]
     },
     "execution_count": 94,
     "metadata": {},
     "output_type": "execute_result"
    }
   ],
   "source": [
    "recall_cv_nb"
   ]
  },
  {
   "cell_type": "code",
   "execution_count": 95,
   "metadata": {},
   "outputs": [],
   "source": [
    "f1_cv_nb = cross_val_score(grid_nb, X_train_base, y_train_base, cv=5, scoring='f1',n_jobs=-1).mean()"
   ]
  },
  {
   "cell_type": "code",
   "execution_count": 96,
   "metadata": {},
   "outputs": [
    {
     "data": {
      "text/plain": [
       "0.1070655400976273"
      ]
     },
     "execution_count": 96,
     "metadata": {},
     "output_type": "execute_result"
    }
   ],
   "source": [
    "f1_cv_nb"
   ]
  },
  {
   "cell_type": "code",
   "execution_count": 97,
   "metadata": {},
   "outputs": [],
   "source": [
    "roc_cv_nb = cross_val_score(grid_nb, X_train_base, y_train_base, cv=5, scoring='roc_auc',n_jobs=-1).mean()"
   ]
  },
  {
   "cell_type": "code",
   "execution_count": 98,
   "metadata": {},
   "outputs": [
    {
     "data": {
      "text/plain": [
       "0.6137943014587751"
      ]
     },
     "execution_count": 98,
     "metadata": {},
     "output_type": "execute_result"
    }
   ],
   "source": [
    "roc_cv_nb"
   ]
  },
  {
   "cell_type": "code",
   "execution_count": 99,
   "metadata": {},
   "outputs": [],
   "source": [
    "logloss_cv_nb = -cross_val_score(grid_nb, X_train_base, y_train_base, cv=5, scoring='neg_log_loss',n_jobs=-1).mean()"
   ]
  },
  {
   "cell_type": "code",
   "execution_count": 100,
   "metadata": {},
   "outputs": [
    {
     "data": {
      "text/plain": [
       "1.231576053590612"
      ]
     },
     "execution_count": 100,
     "metadata": {},
     "output_type": "execute_result"
    }
   ],
   "source": [
    "logloss_cv_nb"
   ]
  },
  {
   "cell_type": "markdown",
   "metadata": {},
   "source": [
    "### XG Boost"
   ]
  },
  {
   "cell_type": "markdown",
   "metadata": {},
   "source": [
    "#### Gridsearch"
   ]
  },
  {
   "cell_type": "code",
   "execution_count": 101,
   "metadata": {},
   "outputs": [],
   "source": [
    "param_grid_xgb = {'n_estimators': [100],  \n",
    "                  'max_depth': range(3,5),\n",
    "                  'learning_rate': [0.4,0.5,0.6],\n",
    "                  'subsample': [0.6,0.75, 0.9],\n",
    "                  'colsample_bytree': [0.4,0.5,0.6]\n",
    "                }"
   ]
  },
  {
   "cell_type": "code",
   "execution_count": 102,
   "metadata": {},
   "outputs": [],
   "source": [
    "grid_xgb = GridSearchCV(xgb.XGBClassifier(),param_grid_xgb,refit=True,n_jobs=-1)"
   ]
  },
  {
   "cell_type": "code",
   "execution_count": 103,
   "metadata": {},
   "outputs": [
    {
     "data": {
      "text/plain": [
       "GridSearchCV(estimator=XGBClassifier(base_score=None, booster=None,\n",
       "                                     colsample_bylevel=None,\n",
       "                                     colsample_bynode=None,\n",
       "                                     colsample_bytree=None, gamma=None,\n",
       "                                     gpu_id=None, importance_type='gain',\n",
       "                                     interaction_constraints=None,\n",
       "                                     learning_rate=None, max_delta_step=None,\n",
       "                                     max_depth=None, min_child_weight=None,\n",
       "                                     missing=nan, monotone_constraints=None,\n",
       "                                     n_estimators=100, n_jobs=None,\n",
       "                                     num_parallel_tree=None, random_state=None,\n",
       "                                     reg_alpha=None, reg_lambda=None,\n",
       "                                     scale_pos_weight=None, subsample=None,\n",
       "                                     tree_method=None, validate_parameters=None,\n",
       "                                     verbosity=None),\n",
       "             n_jobs=-1,\n",
       "             param_grid={'colsample_bytree': [0.4, 0.5, 0.6],\n",
       "                         'learning_rate': [0.4, 0.5, 0.6],\n",
       "                         'max_depth': range(3, 5), 'n_estimators': [100],\n",
       "                         'subsample': [0.6, 0.75, 0.9]})"
      ]
     },
     "execution_count": 103,
     "metadata": {},
     "output_type": "execute_result"
    }
   ],
   "source": [
    "grid_xgb.fit(X_train_base,y_train_base)"
   ]
  },
  {
   "cell_type": "code",
   "execution_count": 104,
   "metadata": {},
   "outputs": [
    {
     "data": {
      "text/plain": [
       "{'colsample_bytree': 0.6,\n",
       " 'learning_rate': 0.6,\n",
       " 'max_depth': 4,\n",
       " 'n_estimators': 100,\n",
       " 'subsample': 0.9}"
      ]
     },
     "execution_count": 104,
     "metadata": {},
     "output_type": "execute_result"
    }
   ],
   "source": [
    "grid_xgb.best_params_"
   ]
  },
  {
   "cell_type": "code",
   "execution_count": 105,
   "metadata": {},
   "outputs": [],
   "source": [
    "accuracy_cv_xgb = cross_val_score(grid_xgb, X_train_base, y_train_base, cv=5, scoring='accuracy', n_jobs=-1).mean()"
   ]
  },
  {
   "cell_type": "code",
   "execution_count": 106,
   "metadata": {},
   "outputs": [
    {
     "data": {
      "text/plain": [
       "0.9560344277158437"
      ]
     },
     "execution_count": 106,
     "metadata": {},
     "output_type": "execute_result"
    }
   ],
   "source": [
    "accuracy_cv_xgb"
   ]
  },
  {
   "cell_type": "code",
   "execution_count": 107,
   "metadata": {},
   "outputs": [],
   "source": [
    "precision_cv_xgb = cross_val_score(grid_xgb, X_train_base, y_train_base, cv=5, scoring='precision', n_jobs=-1).mean()"
   ]
  },
  {
   "cell_type": "code",
   "execution_count": 108,
   "metadata": {},
   "outputs": [
    {
     "data": {
      "text/plain": [
       "0.9564193199883831"
      ]
     },
     "execution_count": 108,
     "metadata": {},
     "output_type": "execute_result"
    }
   ],
   "source": [
    "precision_cv_xgb"
   ]
  },
  {
   "cell_type": "code",
   "execution_count": 109,
   "metadata": {},
   "outputs": [],
   "source": [
    "recall_cv_xgb = cross_val_score(grid_xgb, X_train_base, y_train_base, cv=5, scoring='recall', n_jobs=-1).mean()"
   ]
  },
  {
   "cell_type": "code",
   "execution_count": 110,
   "metadata": {},
   "outputs": [
    {
     "data": {
      "text/plain": [
       "0.9392857142857143"
      ]
     },
     "execution_count": 110,
     "metadata": {},
     "output_type": "execute_result"
    }
   ],
   "source": [
    "recall_cv_xgb"
   ]
  },
  {
   "cell_type": "code",
   "execution_count": 111,
   "metadata": {},
   "outputs": [],
   "source": [
    "f1_cv_xgb = cross_val_score(grid_xgb, X_train_base, y_train_base, cv=5, scoring='f1', n_jobs=-1).mean()"
   ]
  },
  {
   "cell_type": "code",
   "execution_count": 112,
   "metadata": {},
   "outputs": [
    {
     "data": {
      "text/plain": [
       "0.9477326025540315"
      ]
     },
     "execution_count": 112,
     "metadata": {},
     "output_type": "execute_result"
    }
   ],
   "source": [
    "f1_cv_xgb"
   ]
  },
  {
   "cell_type": "code",
   "execution_count": 113,
   "metadata": {},
   "outputs": [],
   "source": [
    "roc_cv_xgb = cross_val_score(grid_xgb, X_train_base, y_train_base, cv=5, scoring='roc_auc', n_jobs=-1).mean()"
   ]
  },
  {
   "cell_type": "code",
   "execution_count": 114,
   "metadata": {},
   "outputs": [
    {
     "data": {
      "text/plain": [
       "0.9854888968070359"
      ]
     },
     "execution_count": 114,
     "metadata": {},
     "output_type": "execute_result"
    }
   ],
   "source": [
    "roc_cv_xgb"
   ]
  },
  {
   "cell_type": "code",
   "execution_count": 115,
   "metadata": {},
   "outputs": [],
   "source": [
    "logloss_cv_xgb = -cross_val_score(grid_xgb, X_train_base, y_train_base, cv=5, scoring='neg_log_loss', n_jobs=-1).mean()"
   ]
  },
  {
   "cell_type": "code",
   "execution_count": 116,
   "metadata": {},
   "outputs": [
    {
     "data": {
      "text/plain": [
       "0.13864560859074704"
      ]
     },
     "execution_count": 116,
     "metadata": {},
     "output_type": "execute_result"
    }
   ],
   "source": [
    "logloss_cv_xgb"
   ]
  },
  {
   "cell_type": "markdown",
   "metadata": {},
   "source": [
    "## Model Set 2"
   ]
  },
  {
   "cell_type": "code",
   "execution_count": 117,
   "metadata": {},
   "outputs": [],
   "source": [
    "df2_mf_train = pd.read_csv('../Data/df2_mf_train.csv')"
   ]
  },
  {
   "cell_type": "code",
   "execution_count": 118,
   "metadata": {},
   "outputs": [
    {
     "data": {
      "text/html": [
       "<div>\n",
       "<style scoped>\n",
       "    .dataframe tbody tr th:only-of-type {\n",
       "        vertical-align: middle;\n",
       "    }\n",
       "\n",
       "    .dataframe tbody tr th {\n",
       "        vertical-align: top;\n",
       "    }\n",
       "\n",
       "    .dataframe thead th {\n",
       "        text-align: right;\n",
       "    }\n",
       "</style>\n",
       "<table border=\"1\" class=\"dataframe\">\n",
       "  <thead>\n",
       "    <tr style=\"text-align: right;\">\n",
       "      <th></th>\n",
       "      <th>Ticker</th>\n",
       "      <th>Debt/Capital Last Year (%)</th>\n",
       "      <th>% Assets in Top 10 Holdings</th>\n",
       "      <th>3-year Annualized Return vs. S&amp;P500</th>\n",
       "      <th>Outperform / Underperform</th>\n",
       "    </tr>\n",
       "  </thead>\n",
       "  <tbody>\n",
       "    <tr>\n",
       "      <th>0</th>\n",
       "      <td>VFTNX</td>\n",
       "      <td>45.19</td>\n",
       "      <td>30.13</td>\n",
       "      <td>4.48</td>\n",
       "      <td>1</td>\n",
       "    </tr>\n",
       "    <tr>\n",
       "      <th>1</th>\n",
       "      <td>JCNNX</td>\n",
       "      <td>48.60</td>\n",
       "      <td>44.05</td>\n",
       "      <td>7.61</td>\n",
       "      <td>1</td>\n",
       "    </tr>\n",
       "    <tr>\n",
       "      <th>2</th>\n",
       "      <td>PMJPX</td>\n",
       "      <td>46.75</td>\n",
       "      <td>12.57</td>\n",
       "      <td>-4.02</td>\n",
       "      <td>0</td>\n",
       "    </tr>\n",
       "    <tr>\n",
       "      <th>3</th>\n",
       "      <td>WMICX</td>\n",
       "      <td>30.18</td>\n",
       "      <td>25.07</td>\n",
       "      <td>23.85</td>\n",
       "      <td>1</td>\n",
       "    </tr>\n",
       "    <tr>\n",
       "      <th>4</th>\n",
       "      <td>STAEX</td>\n",
       "      <td>45.50</td>\n",
       "      <td>47.94</td>\n",
       "      <td>9.69</td>\n",
       "      <td>1</td>\n",
       "    </tr>\n",
       "  </tbody>\n",
       "</table>\n",
       "</div>"
      ],
      "text/plain": [
       "  Ticker  Debt/Capital Last Year (%)  % Assets in Top 10 Holdings  \\\n",
       "0  VFTNX                       45.19                        30.13   \n",
       "1  JCNNX                       48.60                        44.05   \n",
       "2  PMJPX                       46.75                        12.57   \n",
       "3  WMICX                       30.18                        25.07   \n",
       "4  STAEX                       45.50                        47.94   \n",
       "\n",
       "   3-year Annualized Return vs. S&P500  Outperform / Underperform  \n",
       "0                                 4.48                          1  \n",
       "1                                 7.61                          1  \n",
       "2                                -4.02                          0  \n",
       "3                                23.85                          1  \n",
       "4                                 9.69                          1  "
      ]
     },
     "execution_count": 118,
     "metadata": {},
     "output_type": "execute_result"
    }
   ],
   "source": [
    "df2_mf_train.head()"
   ]
  },
  {
   "cell_type": "code",
   "execution_count": 119,
   "metadata": {},
   "outputs": [],
   "source": [
    "X2_train = df2_mf_train.drop(['Ticker','3-year Annualized Return vs. S&P500','Outperform / Underperform'], axis=1)\n",
    "y2_train = df2_mf_train['Outperform / Underperform']"
   ]
  },
  {
   "cell_type": "markdown",
   "metadata": {},
   "source": [
    "### Logistic regression"
   ]
  },
  {
   "cell_type": "markdown",
   "metadata": {},
   "source": [
    "#### Gridsearch"
   ]
  },
  {
   "cell_type": "code",
   "execution_count": 120,
   "metadata": {},
   "outputs": [],
   "source": [
    "param_grid2_log = {'penalty': ['l1','l2'], 'C': [10, 100, 1000, 2000]} "
   ]
  },
  {
   "cell_type": "code",
   "execution_count": 121,
   "metadata": {},
   "outputs": [],
   "source": [
    "grid2_log = GridSearchCV(LogisticRegression(),param_grid2_log,refit=True,n_jobs=-1)"
   ]
  },
  {
   "cell_type": "code",
   "execution_count": 122,
   "metadata": {},
   "outputs": [
    {
     "data": {
      "text/plain": [
       "GridSearchCV(estimator=LogisticRegression(), n_jobs=-1,\n",
       "             param_grid={'C': [10, 100, 1000, 2000], 'penalty': ['l1', 'l2']})"
      ]
     },
     "execution_count": 122,
     "metadata": {},
     "output_type": "execute_result"
    }
   ],
   "source": [
    "grid2_log.fit(X2_train,y2_train)"
   ]
  },
  {
   "cell_type": "code",
   "execution_count": 123,
   "metadata": {},
   "outputs": [
    {
     "data": {
      "text/plain": [
       "{'C': 10, 'penalty': 'l2'}"
      ]
     },
     "execution_count": 123,
     "metadata": {},
     "output_type": "execute_result"
    }
   ],
   "source": [
    "grid2_log.best_params_"
   ]
  },
  {
   "cell_type": "code",
   "execution_count": 124,
   "metadata": {},
   "outputs": [],
   "source": [
    "accuracy_cv_log2 = cross_val_score(grid2_log, X2_train, y2_train, cv=5, scoring='accuracy',n_jobs=-1).mean()"
   ]
  },
  {
   "cell_type": "code",
   "execution_count": 125,
   "metadata": {},
   "outputs": [
    {
     "data": {
      "text/plain": [
       "0.7510726736390453"
      ]
     },
     "execution_count": 125,
     "metadata": {},
     "output_type": "execute_result"
    }
   ],
   "source": [
    "accuracy_cv_log2"
   ]
  },
  {
   "cell_type": "code",
   "execution_count": 126,
   "metadata": {},
   "outputs": [],
   "source": [
    "precision_cv_log2 = cross_val_score(grid2_log, X2_train, y2_train, cv=5, scoring='precision',n_jobs=-1).mean()"
   ]
  },
  {
   "cell_type": "code",
   "execution_count": 127,
   "metadata": {},
   "outputs": [
    {
     "data": {
      "text/plain": [
       "0.7449678394453164"
      ]
     },
     "execution_count": 127,
     "metadata": {},
     "output_type": "execute_result"
    }
   ],
   "source": [
    "precision_cv_log2"
   ]
  },
  {
   "cell_type": "code",
   "execution_count": 128,
   "metadata": {},
   "outputs": [],
   "source": [
    "recall_cv_log2 = cross_val_score(grid2_log, X2_train, y2_train, cv=5, scoring='recall',n_jobs=-1).mean()"
   ]
  },
  {
   "cell_type": "code",
   "execution_count": 129,
   "metadata": {},
   "outputs": [
    {
     "data": {
      "text/plain": [
       "0.6291666666666667"
      ]
     },
     "execution_count": 129,
     "metadata": {},
     "output_type": "execute_result"
    }
   ],
   "source": [
    "recall_cv_log2"
   ]
  },
  {
   "cell_type": "code",
   "execution_count": 130,
   "metadata": {},
   "outputs": [],
   "source": [
    "f1_cv_log2 = cross_val_score(grid2_log, X2_train, y2_train, cv=5, scoring='f1',n_jobs=-1).mean()"
   ]
  },
  {
   "cell_type": "code",
   "execution_count": 131,
   "metadata": {},
   "outputs": [
    {
     "data": {
      "text/plain": [
       "0.6821441010658411"
      ]
     },
     "execution_count": 131,
     "metadata": {},
     "output_type": "execute_result"
    }
   ],
   "source": [
    "f1_cv_log2"
   ]
  },
  {
   "cell_type": "code",
   "execution_count": 132,
   "metadata": {},
   "outputs": [],
   "source": [
    "roc_cv_log2 = cross_val_score(grid2_log, X2_train, y2_train, cv=5, scoring='roc_auc',n_jobs=-1).mean()"
   ]
  },
  {
   "cell_type": "code",
   "execution_count": 133,
   "metadata": {},
   "outputs": [
    {
     "data": {
      "text/plain": [
       "0.8120523923132007"
      ]
     },
     "execution_count": 133,
     "metadata": {},
     "output_type": "execute_result"
    }
   ],
   "source": [
    "roc_cv_log2"
   ]
  },
  {
   "cell_type": "code",
   "execution_count": 134,
   "metadata": {},
   "outputs": [],
   "source": [
    "logloss_cv_log2 = -cross_val_score(grid2_log, X2_train, y2_train, cv=5, scoring='neg_log_loss',n_jobs=-1).mean()"
   ]
  },
  {
   "cell_type": "code",
   "execution_count": 135,
   "metadata": {},
   "outputs": [
    {
     "data": {
      "text/plain": [
       "0.5620795693865646"
      ]
     },
     "execution_count": 135,
     "metadata": {},
     "output_type": "execute_result"
    }
   ],
   "source": [
    "logloss_cv_log2"
   ]
  },
  {
   "cell_type": "markdown",
   "metadata": {},
   "source": [
    "### K nearest neighbors"
   ]
  },
  {
   "cell_type": "code",
   "execution_count": 136,
   "metadata": {},
   "outputs": [],
   "source": [
    "scaler = StandardScaler()"
   ]
  },
  {
   "cell_type": "code",
   "execution_count": 137,
   "metadata": {},
   "outputs": [],
   "source": [
    "X2_train_scaled = scaler.fit_transform(X2_train)"
   ]
  },
  {
   "cell_type": "markdown",
   "metadata": {},
   "source": [
    "#### Gridsearch"
   ]
  },
  {
   "cell_type": "code",
   "execution_count": 138,
   "metadata": {},
   "outputs": [],
   "source": [
    "param_grid2_knn = {'n_neighbors': list(range(1,5)), 'weights': ['uniform', 'distance'], 'metric': ['euclidean','manhattan']} "
   ]
  },
  {
   "cell_type": "code",
   "execution_count": 139,
   "metadata": {},
   "outputs": [],
   "source": [
    "grid2_knn = GridSearchCV(KNeighborsClassifier(),param_grid2_knn,refit=True,n_jobs=-1)"
   ]
  },
  {
   "cell_type": "code",
   "execution_count": 140,
   "metadata": {},
   "outputs": [
    {
     "data": {
      "text/plain": [
       "GridSearchCV(estimator=KNeighborsClassifier(), n_jobs=-1,\n",
       "             param_grid={'metric': ['euclidean', 'manhattan'],\n",
       "                         'n_neighbors': [1, 2, 3, 4],\n",
       "                         'weights': ['uniform', 'distance']})"
      ]
     },
     "execution_count": 140,
     "metadata": {},
     "output_type": "execute_result"
    }
   ],
   "source": [
    "grid2_knn.fit(X2_train_scaled, y2_train)"
   ]
  },
  {
   "cell_type": "code",
   "execution_count": 141,
   "metadata": {},
   "outputs": [
    {
     "data": {
      "text/plain": [
       "{'metric': 'manhattan', 'n_neighbors': 4, 'weights': 'distance'}"
      ]
     },
     "execution_count": 141,
     "metadata": {},
     "output_type": "execute_result"
    }
   ],
   "source": [
    "grid2_knn.best_params_"
   ]
  },
  {
   "cell_type": "code",
   "execution_count": 142,
   "metadata": {},
   "outputs": [],
   "source": [
    "accuracy_cv_knn2 = cross_val_score(grid2_knn, X2_train_scaled, y2_train, cv=5, scoring='accuracy',n_jobs=-1).mean()"
   ]
  },
  {
   "cell_type": "code",
   "execution_count": 143,
   "metadata": {},
   "outputs": [
    {
     "data": {
      "text/plain": [
       "0.9451662644140519"
      ]
     },
     "execution_count": 143,
     "metadata": {},
     "output_type": "execute_result"
    }
   ],
   "source": [
    "accuracy_cv_knn2"
   ]
  },
  {
   "cell_type": "code",
   "execution_count": 144,
   "metadata": {},
   "outputs": [],
   "source": [
    "precision_cv_knn2 = cross_val_score(grid2_knn, X2_train_scaled, y2_train, cv=5, scoring='precision',n_jobs=-1).mean()"
   ]
  },
  {
   "cell_type": "code",
   "execution_count": 145,
   "metadata": {},
   "outputs": [
    {
     "data": {
      "text/plain": [
       "0.9322642558264912"
      ]
     },
     "execution_count": 145,
     "metadata": {},
     "output_type": "execute_result"
    }
   ],
   "source": [
    "precision_cv_knn2"
   ]
  },
  {
   "cell_type": "code",
   "execution_count": 146,
   "metadata": {},
   "outputs": [],
   "source": [
    "recall_cv_knn2 = cross_val_score(grid2_knn, X2_train_scaled, y2_train, cv=5, scoring='recall',n_jobs=-1).mean()"
   ]
  },
  {
   "cell_type": "code",
   "execution_count": 147,
   "metadata": {},
   "outputs": [
    {
     "data": {
      "text/plain": [
       "0.9392857142857143"
      ]
     },
     "execution_count": 147,
     "metadata": {},
     "output_type": "execute_result"
    }
   ],
   "source": [
    "recall_cv_knn2"
   ]
  },
  {
   "cell_type": "code",
   "execution_count": 148,
   "metadata": {},
   "outputs": [],
   "source": [
    "f1_cv_knn2 = cross_val_score(grid2_knn, X2_train_scaled, y2_train, cv=5, scoring='f1',n_jobs=-1).mean()"
   ]
  },
  {
   "cell_type": "code",
   "execution_count": 149,
   "metadata": {},
   "outputs": [
    {
     "data": {
      "text/plain": [
       "0.9356749482449087"
      ]
     },
     "execution_count": 149,
     "metadata": {},
     "output_type": "execute_result"
    }
   ],
   "source": [
    "f1_cv_knn2"
   ]
  },
  {
   "cell_type": "code",
   "execution_count": 150,
   "metadata": {},
   "outputs": [],
   "source": [
    "roc_cv_knn2 = cross_val_score(grid2_knn, X2_train_scaled, y2_train, cv=5, scoring='roc_auc',n_jobs=-1).mean()"
   ]
  },
  {
   "cell_type": "code",
   "execution_count": 151,
   "metadata": {},
   "outputs": [
    {
     "data": {
      "text/plain": [
       "0.9568703093585611"
      ]
     },
     "execution_count": 151,
     "metadata": {},
     "output_type": "execute_result"
    }
   ],
   "source": [
    "roc_cv_knn2"
   ]
  },
  {
   "cell_type": "code",
   "execution_count": 152,
   "metadata": {},
   "outputs": [],
   "source": [
    "logloss_cv_knn2 = -cross_val_score(grid2_knn, X2_train_scaled, y2_train, cv=5, scoring='neg_log_loss',n_jobs=-1).mean()"
   ]
  },
  {
   "cell_type": "code",
   "execution_count": 153,
   "metadata": {},
   "outputs": [
    {
     "data": {
      "text/plain": [
       "1.4434209050904623"
      ]
     },
     "execution_count": 153,
     "metadata": {},
     "output_type": "execute_result"
    }
   ],
   "source": [
    "logloss_cv_knn2"
   ]
  },
  {
   "cell_type": "markdown",
   "metadata": {},
   "source": [
    "### Decision Tree "
   ]
  },
  {
   "cell_type": "markdown",
   "metadata": {},
   "source": [
    "#### Gridsearch"
   ]
  },
  {
   "cell_type": "code",
   "execution_count": 154,
   "metadata": {},
   "outputs": [],
   "source": [
    "param_grid2_dtree = {'criterion': ['gini','entropy'], 'max_depth': range(1,10), 'min_samples_split': range(1,5), 'min_samples_leaf': range(1,5)} "
   ]
  },
  {
   "cell_type": "code",
   "execution_count": 155,
   "metadata": {},
   "outputs": [],
   "source": [
    "grid2_dtree = GridSearchCV(DecisionTreeClassifier(),param_grid2_dtree,refit=True,n_jobs=-1)"
   ]
  },
  {
   "cell_type": "code",
   "execution_count": 156,
   "metadata": {},
   "outputs": [
    {
     "data": {
      "text/plain": [
       "GridSearchCV(estimator=DecisionTreeClassifier(), n_jobs=-1,\n",
       "             param_grid={'criterion': ['gini', 'entropy'],\n",
       "                         'max_depth': range(1, 10),\n",
       "                         'min_samples_leaf': range(1, 5),\n",
       "                         'min_samples_split': range(1, 5)})"
      ]
     },
     "execution_count": 156,
     "metadata": {},
     "output_type": "execute_result"
    }
   ],
   "source": [
    "grid2_dtree.fit(X2_train,y2_train)"
   ]
  },
  {
   "cell_type": "code",
   "execution_count": 157,
   "metadata": {},
   "outputs": [
    {
     "data": {
      "text/plain": [
       "{'criterion': 'gini',\n",
       " 'max_depth': 9,\n",
       " 'min_samples_leaf': 1,\n",
       " 'min_samples_split': 2}"
      ]
     },
     "execution_count": 157,
     "metadata": {},
     "output_type": "execute_result"
    }
   ],
   "source": [
    "grid2_dtree.best_params_"
   ]
  },
  {
   "cell_type": "code",
   "execution_count": 158,
   "metadata": {},
   "outputs": [],
   "source": [
    "accuracy_cv_dtree2 = cross_val_score(grid2_dtree, X2_train, y2_train, cv=5, scoring='accuracy',n_jobs=-1).mean()"
   ]
  },
  {
   "cell_type": "code",
   "execution_count": 159,
   "metadata": {},
   "outputs": [
    {
     "data": {
      "text/plain": [
       "0.8392754983462949"
      ]
     },
     "execution_count": 159,
     "metadata": {},
     "output_type": "execute_result"
    }
   ],
   "source": [
    "accuracy_cv_dtree2"
   ]
  },
  {
   "cell_type": "code",
   "execution_count": 160,
   "metadata": {},
   "outputs": [],
   "source": [
    "precision_cv_dtree2 = cross_val_score(grid2_dtree, X2_train, y2_train, cv=5, scoring='precision',n_jobs=-1).mean()"
   ]
  },
  {
   "cell_type": "code",
   "execution_count": 161,
   "metadata": {},
   "outputs": [
    {
     "data": {
      "text/plain": [
       "0.8041027021809187"
      ]
     },
     "execution_count": 161,
     "metadata": {},
     "output_type": "execute_result"
    }
   ],
   "source": [
    "precision_cv_dtree2"
   ]
  },
  {
   "cell_type": "code",
   "execution_count": 162,
   "metadata": {},
   "outputs": [],
   "source": [
    "recall_cv_dtree2 = cross_val_score(grid2_dtree, X2_train, y2_train, cv=5, scoring='recall',n_jobs=-1).mean()"
   ]
  },
  {
   "cell_type": "code",
   "execution_count": 163,
   "metadata": {},
   "outputs": [
    {
     "data": {
      "text/plain": [
       "0.8232142857142858"
      ]
     },
     "execution_count": 163,
     "metadata": {},
     "output_type": "execute_result"
    }
   ],
   "source": [
    "recall_cv_dtree2"
   ]
  },
  {
   "cell_type": "code",
   "execution_count": 164,
   "metadata": {},
   "outputs": [],
   "source": [
    "f1_cv_dtree2 = cross_val_score(grid2_dtree, X2_train, y2_train, cv=5, scoring='f1',n_jobs=-1).mean()"
   ]
  },
  {
   "cell_type": "code",
   "execution_count": 165,
   "metadata": {},
   "outputs": [
    {
     "data": {
      "text/plain": [
       "0.8121588135308189"
      ]
     },
     "execution_count": 165,
     "metadata": {},
     "output_type": "execute_result"
    }
   ],
   "source": [
    "f1_cv_dtree2"
   ]
  },
  {
   "cell_type": "code",
   "execution_count": 166,
   "metadata": {},
   "outputs": [],
   "source": [
    "roc_cv_dtree2 = cross_val_score(grid2_dtree, X2_train, y2_train, cv=5, scoring='roc_auc',n_jobs=-1).mean()"
   ]
  },
  {
   "cell_type": "code",
   "execution_count": 167,
   "metadata": {},
   "outputs": [
    {
     "data": {
      "text/plain": [
       "0.9047984444283786"
      ]
     },
     "execution_count": 167,
     "metadata": {},
     "output_type": "execute_result"
    }
   ],
   "source": [
    "roc_cv_dtree2"
   ]
  },
  {
   "cell_type": "code",
   "execution_count": 168,
   "metadata": {},
   "outputs": [],
   "source": [
    "logloss_cv_dtree2 = -cross_val_score(grid2_dtree, X2_train, y2_train, cv=5, scoring='neg_log_loss',n_jobs=-1).mean()"
   ]
  },
  {
   "cell_type": "code",
   "execution_count": 169,
   "metadata": {},
   "outputs": [
    {
     "data": {
      "text/plain": [
       "1.0791133282615069"
      ]
     },
     "execution_count": 169,
     "metadata": {},
     "output_type": "execute_result"
    }
   ],
   "source": [
    "logloss_cv_dtree2"
   ]
  },
  {
   "cell_type": "markdown",
   "metadata": {},
   "source": [
    "### Random forest"
   ]
  },
  {
   "cell_type": "markdown",
   "metadata": {},
   "source": [
    "#### Gridsearch"
   ]
  },
  {
   "cell_type": "code",
   "execution_count": 170,
   "metadata": {},
   "outputs": [],
   "source": [
    "param_grid2_rfc = {'bootstrap': [False],\n",
    "              'max_depth': [1, 5, 10],\n",
    "              'max_features': ['auto'],\n",
    "              'min_samples_leaf': [1, 2],\n",
    "              'min_samples_split': [2, 3],\n",
    "              'n_estimators': [25, 50, 75]\n",
    "             }"
   ]
  },
  {
   "cell_type": "code",
   "execution_count": 171,
   "metadata": {},
   "outputs": [],
   "source": [
    "grid2_rfc = GridSearchCV(RandomForestClassifier(),param_grid2_rfc,refit=True,n_jobs=-1)"
   ]
  },
  {
   "cell_type": "code",
   "execution_count": 172,
   "metadata": {},
   "outputs": [
    {
     "data": {
      "text/plain": [
       "GridSearchCV(estimator=RandomForestClassifier(), n_jobs=-1,\n",
       "             param_grid={'bootstrap': [False], 'max_depth': [1, 5, 10],\n",
       "                         'max_features': ['auto'], 'min_samples_leaf': [1, 2],\n",
       "                         'min_samples_split': [2, 3],\n",
       "                         'n_estimators': [25, 50, 75]})"
      ]
     },
     "execution_count": 172,
     "metadata": {},
     "output_type": "execute_result"
    }
   ],
   "source": [
    "grid2_rfc.fit(X2_train,y2_train)"
   ]
  },
  {
   "cell_type": "code",
   "execution_count": 173,
   "metadata": {},
   "outputs": [
    {
     "data": {
      "text/plain": [
       "{'bootstrap': False,\n",
       " 'max_depth': 10,\n",
       " 'max_features': 'auto',\n",
       " 'min_samples_leaf': 1,\n",
       " 'min_samples_split': 2,\n",
       " 'n_estimators': 25}"
      ]
     },
     "execution_count": 173,
     "metadata": {},
     "output_type": "execute_result"
    }
   ],
   "source": [
    "grid2_rfc.best_params_"
   ]
  },
  {
   "cell_type": "code",
   "execution_count": 174,
   "metadata": {},
   "outputs": [],
   "source": [
    "accuracy_cv_rfc2 = cross_val_score(grid2_rfc, X2_train, y2_train, cv=5, scoring='accuracy',n_jobs=-1).mean()"
   ]
  },
  {
   "cell_type": "code",
   "execution_count": 175,
   "metadata": {},
   "outputs": [
    {
     "data": {
      "text/plain": [
       "0.8915871738880587"
      ]
     },
     "execution_count": 175,
     "metadata": {},
     "output_type": "execute_result"
    }
   ],
   "source": [
    "accuracy_cv_rfc2"
   ]
  },
  {
   "cell_type": "code",
   "execution_count": 176,
   "metadata": {},
   "outputs": [],
   "source": [
    "precision_cv_rfc2 = cross_val_score(grid2_rfc, X2_train, y2_train, cv=5, scoring='precision',n_jobs=-1).mean()"
   ]
  },
  {
   "cell_type": "code",
   "execution_count": 177,
   "metadata": {},
   "outputs": [
    {
     "data": {
      "text/plain": [
       "0.8630833583033353"
      ]
     },
     "execution_count": 177,
     "metadata": {},
     "output_type": "execute_result"
    }
   ],
   "source": [
    "precision_cv_rfc2"
   ]
  },
  {
   "cell_type": "code",
   "execution_count": 178,
   "metadata": {},
   "outputs": [],
   "source": [
    "recall_cv_rfc2 = cross_val_score(grid2_rfc, X2_train, y2_train, cv=5, scoring='recall',n_jobs=-1).mean()"
   ]
  },
  {
   "cell_type": "code",
   "execution_count": 179,
   "metadata": {},
   "outputs": [
    {
     "data": {
      "text/plain": [
       "0.880952380952381"
      ]
     },
     "execution_count": 179,
     "metadata": {},
     "output_type": "execute_result"
    }
   ],
   "source": [
    "recall_cv_rfc2"
   ]
  },
  {
   "cell_type": "code",
   "execution_count": 180,
   "metadata": {},
   "outputs": [],
   "source": [
    "f1_cv_rfc2 = cross_val_score(grid2_rfc, X2_train, y2_train, cv=5, scoring='f1',n_jobs=-1).mean()"
   ]
  },
  {
   "cell_type": "code",
   "execution_count": 181,
   "metadata": {},
   "outputs": [
    {
     "data": {
      "text/plain": [
       "0.8739987250293122"
      ]
     },
     "execution_count": 181,
     "metadata": {},
     "output_type": "execute_result"
    }
   ],
   "source": [
    "f1_cv_rfc2"
   ]
  },
  {
   "cell_type": "code",
   "execution_count": 182,
   "metadata": {},
   "outputs": [],
   "source": [
    "roc_cv_rfc2 = cross_val_score(grid2_rfc, X2_train, y2_train, cv=5, scoring='roc_auc',n_jobs=-1).mean()"
   ]
  },
  {
   "cell_type": "code",
   "execution_count": 183,
   "metadata": {},
   "outputs": [
    {
     "data": {
      "text/plain": [
       "0.9546953148668373"
      ]
     },
     "execution_count": 183,
     "metadata": {},
     "output_type": "execute_result"
    }
   ],
   "source": [
    "roc_cv_rfc2"
   ]
  },
  {
   "cell_type": "code",
   "execution_count": 184,
   "metadata": {},
   "outputs": [],
   "source": [
    "logloss_cv_rfc2 = -cross_val_score(grid2_rfc, X2_train, y2_train, cv=5, scoring='neg_log_loss',n_jobs=-1).mean()"
   ]
  },
  {
   "cell_type": "code",
   "execution_count": 185,
   "metadata": {},
   "outputs": [
    {
     "data": {
      "text/plain": [
       "0.313506189831674"
      ]
     },
     "execution_count": 185,
     "metadata": {},
     "output_type": "execute_result"
    }
   ],
   "source": [
    "logloss_cv_rfc2"
   ]
  },
  {
   "cell_type": "markdown",
   "metadata": {},
   "source": [
    "### Support Vector Machine"
   ]
  },
  {
   "cell_type": "markdown",
   "metadata": {},
   "source": [
    "#### Gridsearch"
   ]
  },
  {
   "cell_type": "code",
   "execution_count": 186,
   "metadata": {},
   "outputs": [],
   "source": [
    "# param_grid2_svc = {'C': [10000, 20000], 'gamma': [1], 'kernel': ['rbf']} "
   ]
  },
  {
   "cell_type": "code",
   "execution_count": 187,
   "metadata": {},
   "outputs": [],
   "source": [
    "# grid2_svc = GridSearchCV(SVC(),param_grid2_svc,refit=True,n_jobs=-1)"
   ]
  },
  {
   "cell_type": "code",
   "execution_count": 188,
   "metadata": {},
   "outputs": [],
   "source": [
    "# grid2_svc.fit(X2_train_scaled,y2_train)"
   ]
  },
  {
   "cell_type": "code",
   "execution_count": 189,
   "metadata": {},
   "outputs": [],
   "source": [
    "# grid2_svc.best_params_"
   ]
  },
  {
   "cell_type": "code",
   "execution_count": 190,
   "metadata": {},
   "outputs": [],
   "source": [
    "svc2 = SVC(C=20000, gamma=1, kernel='rbf')"
   ]
  },
  {
   "cell_type": "code",
   "execution_count": 191,
   "metadata": {},
   "outputs": [
    {
     "data": {
      "text/plain": [
       "SVC(C=20000, gamma=1)"
      ]
     },
     "execution_count": 191,
     "metadata": {},
     "output_type": "execute_result"
    }
   ],
   "source": [
    "svc2.fit(X2_train_scaled, y2_train)"
   ]
  },
  {
   "cell_type": "code",
   "execution_count": 192,
   "metadata": {},
   "outputs": [],
   "source": [
    "accuracy_cv_svc2 = cross_val_score(svc2, X2_train_scaled, y2_train, cv=5, scoring='accuracy',n_jobs=-1).mean()"
   ]
  },
  {
   "cell_type": "code",
   "execution_count": 193,
   "metadata": {},
   "outputs": [
    {
     "data": {
      "text/plain": [
       "0.7819117215134914"
      ]
     },
     "execution_count": 193,
     "metadata": {},
     "output_type": "execute_result"
    }
   ],
   "source": [
    "accuracy_cv_svc2"
   ]
  },
  {
   "cell_type": "code",
   "execution_count": 194,
   "metadata": {},
   "outputs": [],
   "source": [
    "precision_cv_svc2 = cross_val_score(svc2, X2_train_scaled, y2_train, cv=5, scoring='precision',n_jobs=-1).mean()"
   ]
  },
  {
   "cell_type": "code",
   "execution_count": 195,
   "metadata": {},
   "outputs": [
    {
     "data": {
      "text/plain": [
       "0.7637610922418718"
      ]
     },
     "execution_count": 195,
     "metadata": {},
     "output_type": "execute_result"
    }
   ],
   "source": [
    "precision_cv_svc2"
   ]
  },
  {
   "cell_type": "code",
   "execution_count": 196,
   "metadata": {},
   "outputs": [],
   "source": [
    "recall_cv_svc2 = cross_val_score(svc2, X2_train_scaled, y2_train, cv=5, scoring='recall',n_jobs=-1).mean()"
   ]
  },
  {
   "cell_type": "code",
   "execution_count": 197,
   "metadata": {},
   "outputs": [
    {
     "data": {
      "text/plain": [
       "0.7047619047619048"
      ]
     },
     "execution_count": 197,
     "metadata": {},
     "output_type": "execute_result"
    }
   ],
   "source": [
    "recall_cv_svc2"
   ]
  },
  {
   "cell_type": "code",
   "execution_count": 198,
   "metadata": {},
   "outputs": [],
   "source": [
    "f1_cv_svc2 = cross_val_score(svc2, X2_train_scaled, y2_train, cv=5, scoring='f1',n_jobs=-1).mean()"
   ]
  },
  {
   "cell_type": "code",
   "execution_count": 199,
   "metadata": {},
   "outputs": [
    {
     "data": {
      "text/plain": [
       "0.7329027807381661"
      ]
     },
     "execution_count": 199,
     "metadata": {},
     "output_type": "execute_result"
    }
   ],
   "source": [
    "f1_cv_svc2"
   ]
  },
  {
   "cell_type": "code",
   "execution_count": 200,
   "metadata": {},
   "outputs": [],
   "source": [
    "roc_cv_svc2 = cross_val_score(svc2, X2_train_scaled, y2_train, cv=5, scoring='roc_auc',n_jobs=-1).mean()"
   ]
  },
  {
   "cell_type": "code",
   "execution_count": 201,
   "metadata": {},
   "outputs": [
    {
     "data": {
      "text/plain": [
       "0.8398874188676819"
      ]
     },
     "execution_count": 201,
     "metadata": {},
     "output_type": "execute_result"
    }
   ],
   "source": [
    "roc_cv_svc2"
   ]
  },
  {
   "cell_type": "markdown",
   "metadata": {},
   "source": [
    "### Naive Bayes"
   ]
  },
  {
   "cell_type": "markdown",
   "metadata": {},
   "source": [
    "#### Gridsearch"
   ]
  },
  {
   "cell_type": "code",
   "execution_count": 202,
   "metadata": {},
   "outputs": [],
   "source": [
    "param_grid2_nb = {'var_smoothing': np.logspace(0,-20, 50)}"
   ]
  },
  {
   "cell_type": "code",
   "execution_count": 203,
   "metadata": {},
   "outputs": [],
   "source": [
    "grid2_nb = GridSearchCV(GaussianNB(),param_grid2_nb,refit=True,n_jobs=-1)"
   ]
  },
  {
   "cell_type": "code",
   "execution_count": 204,
   "metadata": {},
   "outputs": [
    {
     "data": {
      "text/plain": [
       "GridSearchCV(estimator=GaussianNB(), n_jobs=-1,\n",
       "             param_grid={'var_smoothing': array([1.00000000e+00, 3.90693994e-01, 1.52641797e-01, 5.96362332e-02,\n",
       "       2.32995181e-02, 9.10298178e-03, 3.55648031e-03, 1.38949549e-03,\n",
       "       5.42867544e-04, 2.12095089e-04, 8.28642773e-05, 3.23745754e-05,\n",
       "       1.26485522e-05, 4.94171336e-06, 1.93069773e-06, 7.54312006e-07,\n",
       "       2.94705170e-07, 1.15139540e-07...\n",
       "       1.59985872e-10, 6.25055193e-11, 2.44205309e-11, 9.54095476e-12,\n",
       "       3.72759372e-12, 1.45634848e-12, 5.68986603e-13, 2.22299648e-13,\n",
       "       8.68511374e-14, 3.39322177e-14, 1.32571137e-14, 5.17947468e-15,\n",
       "       2.02358965e-15, 7.90604321e-16, 3.08884360e-16, 1.20679264e-16,\n",
       "       4.71486636e-17, 1.84206997e-17, 7.19685673e-18, 2.81176870e-18,\n",
       "       1.09854114e-18, 4.29193426e-19, 1.67683294e-19, 6.55128557e-20,\n",
       "       2.55954792e-20, 1.00000000e-20])})"
      ]
     },
     "execution_count": 204,
     "metadata": {},
     "output_type": "execute_result"
    }
   ],
   "source": [
    "grid2_nb.fit(X2_train,y2_train)"
   ]
  },
  {
   "cell_type": "code",
   "execution_count": 205,
   "metadata": {},
   "outputs": [
    {
     "data": {
      "text/plain": [
       "{'var_smoothing': 0.0005428675439323859}"
      ]
     },
     "execution_count": 205,
     "metadata": {},
     "output_type": "execute_result"
    }
   ],
   "source": [
    "grid2_nb.best_params_"
   ]
  },
  {
   "cell_type": "code",
   "execution_count": 206,
   "metadata": {},
   "outputs": [],
   "source": [
    "accuracy_cv_nb2 = cross_val_score(grid2_nb, X2_train, y2_train, cv=5, scoring='accuracy',n_jobs=-1).mean()"
   ]
  },
  {
   "cell_type": "code",
   "execution_count": 207,
   "metadata": {},
   "outputs": [
    {
     "data": {
      "text/plain": [
       "0.7376767038271463"
      ]
     },
     "execution_count": 207,
     "metadata": {},
     "output_type": "execute_result"
    }
   ],
   "source": [
    "accuracy_cv_nb2"
   ]
  },
  {
   "cell_type": "code",
   "execution_count": 208,
   "metadata": {},
   "outputs": [],
   "source": [
    "precision_cv_nb2 = cross_val_score(grid2_nb, X2_train, y2_train, cv=5, scoring='precision',n_jobs=-1).mean()"
   ]
  },
  {
   "cell_type": "code",
   "execution_count": 209,
   "metadata": {},
   "outputs": [
    {
     "data": {
      "text/plain": [
       "0.7504284908754808"
      ]
     },
     "execution_count": 209,
     "metadata": {},
     "output_type": "execute_result"
    }
   ],
   "source": [
    "precision_cv_nb2"
   ]
  },
  {
   "cell_type": "code",
   "execution_count": 210,
   "metadata": {},
   "outputs": [],
   "source": [
    "recall_cv_nb2 = cross_val_score(grid2_nb, X2_train, y2_train, cv=5, scoring='recall',n_jobs=-1).mean()"
   ]
  },
  {
   "cell_type": "code",
   "execution_count": 211,
   "metadata": {},
   "outputs": [
    {
     "data": {
      "text/plain": [
       "0.5726190476190476"
      ]
     },
     "execution_count": 211,
     "metadata": {},
     "output_type": "execute_result"
    }
   ],
   "source": [
    "recall_cv_nb2"
   ]
  },
  {
   "cell_type": "code",
   "execution_count": 212,
   "metadata": {},
   "outputs": [],
   "source": [
    "f1_cv_nb2 = cross_val_score(grid2_nb, X2_train, y2_train, cv=5, scoring='f1',n_jobs=-1).mean()"
   ]
  },
  {
   "cell_type": "code",
   "execution_count": 213,
   "metadata": {},
   "outputs": [
    {
     "data": {
      "text/plain": [
       "0.6494601932224686"
      ]
     },
     "execution_count": 213,
     "metadata": {},
     "output_type": "execute_result"
    }
   ],
   "source": [
    "f1_cv_nb2"
   ]
  },
  {
   "cell_type": "code",
   "execution_count": 214,
   "metadata": {},
   "outputs": [],
   "source": [
    "roc_cv_nb2 = cross_val_score(grid2_nb, X2_train, y2_train, cv=5, scoring='roc_auc',n_jobs=-1).mean()"
   ]
  },
  {
   "cell_type": "code",
   "execution_count": 215,
   "metadata": {},
   "outputs": [
    {
     "data": {
      "text/plain": [
       "0.8131309213968988"
      ]
     },
     "execution_count": 215,
     "metadata": {},
     "output_type": "execute_result"
    }
   ],
   "source": [
    "roc_cv_nb2"
   ]
  },
  {
   "cell_type": "code",
   "execution_count": 216,
   "metadata": {},
   "outputs": [],
   "source": [
    "logloss_cv_nb2 = -cross_val_score(grid2_nb, X2_train, y2_train, cv=5, scoring='neg_log_loss',n_jobs=-1).mean()"
   ]
  },
  {
   "cell_type": "code",
   "execution_count": 217,
   "metadata": {},
   "outputs": [
    {
     "data": {
      "text/plain": [
       "0.5630760865459041"
      ]
     },
     "execution_count": 217,
     "metadata": {},
     "output_type": "execute_result"
    }
   ],
   "source": [
    "logloss_cv_nb2"
   ]
  },
  {
   "cell_type": "markdown",
   "metadata": {},
   "source": [
    "### XG Boost"
   ]
  },
  {
   "cell_type": "markdown",
   "metadata": {},
   "source": [
    "#### Gridsearch"
   ]
  },
  {
   "cell_type": "code",
   "execution_count": 218,
   "metadata": {},
   "outputs": [],
   "source": [
    "param_grid2_xgb = {'n_estimators': [100],  \n",
    "                  'max_depth': range(2,4),\n",
    "                  'learning_rate': [0.25,0.5],\n",
    "                  'subsample': [0.25,0.5,0.75],\n",
    "                  'colsample_bytree': [0.25,0.5,0.75]\n",
    "                }"
   ]
  },
  {
   "cell_type": "code",
   "execution_count": 219,
   "metadata": {},
   "outputs": [],
   "source": [
    "grid2_xgb = GridSearchCV(xgb.XGBClassifier(),param_grid2_xgb,refit=True,n_jobs=-1)"
   ]
  },
  {
   "cell_type": "code",
   "execution_count": 220,
   "metadata": {},
   "outputs": [
    {
     "data": {
      "text/plain": [
       "GridSearchCV(estimator=XGBClassifier(base_score=None, booster=None,\n",
       "                                     colsample_bylevel=None,\n",
       "                                     colsample_bynode=None,\n",
       "                                     colsample_bytree=None, gamma=None,\n",
       "                                     gpu_id=None, importance_type='gain',\n",
       "                                     interaction_constraints=None,\n",
       "                                     learning_rate=None, max_delta_step=None,\n",
       "                                     max_depth=None, min_child_weight=None,\n",
       "                                     missing=nan, monotone_constraints=None,\n",
       "                                     n_estimators=100, n_jobs=None,\n",
       "                                     num_parallel_tree=None, random_state=None,\n",
       "                                     reg_alpha=None, reg_lambda=None,\n",
       "                                     scale_pos_weight=None, subsample=None,\n",
       "                                     tree_method=None, validate_parameters=None,\n",
       "                                     verbosity=None),\n",
       "             n_jobs=-1,\n",
       "             param_grid={'colsample_bytree': [0.25, 0.5, 0.75],\n",
       "                         'learning_rate': [0.25, 0.5], 'max_depth': range(2, 4),\n",
       "                         'n_estimators': [100],\n",
       "                         'subsample': [0.25, 0.5, 0.75]})"
      ]
     },
     "execution_count": 220,
     "metadata": {},
     "output_type": "execute_result"
    }
   ],
   "source": [
    "grid2_xgb.fit(X2_train,y2_train)"
   ]
  },
  {
   "cell_type": "code",
   "execution_count": 221,
   "metadata": {},
   "outputs": [
    {
     "data": {
      "text/plain": [
       "{'colsample_bytree': 0.25,\n",
       " 'learning_rate': 0.5,\n",
       " 'max_depth': 3,\n",
       " 'n_estimators': 100,\n",
       " 'subsample': 0.75}"
      ]
     },
     "execution_count": 221,
     "metadata": {},
     "output_type": "execute_result"
    }
   ],
   "source": [
    "grid2_xgb.best_params_"
   ]
  },
  {
   "cell_type": "code",
   "execution_count": 222,
   "metadata": {},
   "outputs": [],
   "source": [
    "accuracy_cv_xgb2 = cross_val_score(grid2_xgb, X2_train, y2_train, cv=5, scoring='accuracy',n_jobs=-1).mean()"
   ]
  },
  {
   "cell_type": "code",
   "execution_count": 223,
   "metadata": {},
   "outputs": [
    {
     "data": {
      "text/plain": [
       "0.8599982122106017"
      ]
     },
     "execution_count": 223,
     "metadata": {},
     "output_type": "execute_result"
    }
   ],
   "source": [
    "accuracy_cv_xgb2"
   ]
  },
  {
   "cell_type": "code",
   "execution_count": 224,
   "metadata": {},
   "outputs": [],
   "source": [
    "precision_cv_xgb2 = cross_val_score(grid2_xgb, X2_train, y2_train, cv=5, scoring='precision',n_jobs=-1).mean()"
   ]
  },
  {
   "cell_type": "code",
   "execution_count": 225,
   "metadata": {},
   "outputs": [
    {
     "data": {
      "text/plain": [
       "0.8433645734765418"
      ]
     },
     "execution_count": 225,
     "metadata": {},
     "output_type": "execute_result"
    }
   ],
   "source": [
    "precision_cv_xgb2"
   ]
  },
  {
   "cell_type": "code",
   "execution_count": 226,
   "metadata": {},
   "outputs": [],
   "source": [
    "recall_cv_xgb2 = cross_val_score(grid2_xgb, X2_train, y2_train, cv=5, scoring='recall',n_jobs=-1).mean()"
   ]
  },
  {
   "cell_type": "code",
   "execution_count": 227,
   "metadata": {},
   "outputs": [
    {
     "data": {
      "text/plain": [
       "0.8232142857142858"
      ]
     },
     "execution_count": 227,
     "metadata": {},
     "output_type": "execute_result"
    }
   ],
   "source": [
    "recall_cv_xgb2"
   ]
  },
  {
   "cell_type": "code",
   "execution_count": 228,
   "metadata": {},
   "outputs": [],
   "source": [
    "f1_cv_xgb2 = cross_val_score(grid2_xgb, X2_train, y2_train, cv=5, scoring='f1',n_jobs=-1).mean()"
   ]
  },
  {
   "cell_type": "code",
   "execution_count": 229,
   "metadata": {},
   "outputs": [
    {
     "data": {
      "text/plain": [
       "0.8331272670422551"
      ]
     },
     "execution_count": 229,
     "metadata": {},
     "output_type": "execute_result"
    }
   ],
   "source": [
    "f1_cv_xgb2"
   ]
  },
  {
   "cell_type": "code",
   "execution_count": 230,
   "metadata": {},
   "outputs": [],
   "source": [
    "roc_cv_xgb2 = cross_val_score(grid2_xgb, X2_train, y2_train, cv=5, scoring='roc_auc',n_jobs=-1).mean()"
   ]
  },
  {
   "cell_type": "code",
   "execution_count": 231,
   "metadata": {},
   "outputs": [
    {
     "data": {
      "text/plain": [
       "0.9215350905881919"
      ]
     },
     "execution_count": 231,
     "metadata": {},
     "output_type": "execute_result"
    }
   ],
   "source": [
    "roc_cv_xgb2"
   ]
  },
  {
   "cell_type": "code",
   "execution_count": 232,
   "metadata": {},
   "outputs": [],
   "source": [
    "logloss_cv_xgb2 = -cross_val_score(grid2_xgb, X2_train, y2_train, cv=5, scoring='neg_log_loss',n_jobs=-1).mean()"
   ]
  },
  {
   "cell_type": "code",
   "execution_count": 233,
   "metadata": {},
   "outputs": [
    {
     "data": {
      "text/plain": [
       "0.3605179383041711"
      ]
     },
     "execution_count": 233,
     "metadata": {},
     "output_type": "execute_result"
    }
   ],
   "source": [
    "logloss_cv_xgb2"
   ]
  },
  {
   "cell_type": "code",
   "execution_count": null,
   "metadata": {},
   "outputs": [],
   "source": []
  },
  {
   "cell_type": "markdown",
   "metadata": {},
   "source": [
    "## Model Set 3"
   ]
  },
  {
   "cell_type": "code",
   "execution_count": 234,
   "metadata": {},
   "outputs": [],
   "source": [
    "df3_mf_train = pd.read_csv('../Data/df3_mf_train.csv')"
   ]
  },
  {
   "cell_type": "code",
   "execution_count": 235,
   "metadata": {},
   "outputs": [
    {
     "data": {
      "text/html": [
       "<div>\n",
       "<style scoped>\n",
       "    .dataframe tbody tr th:only-of-type {\n",
       "        vertical-align: middle;\n",
       "    }\n",
       "\n",
       "    .dataframe tbody tr th {\n",
       "        vertical-align: top;\n",
       "    }\n",
       "\n",
       "    .dataframe thead th {\n",
       "        text-align: right;\n",
       "    }\n",
       "</style>\n",
       "<table border=\"1\" class=\"dataframe\">\n",
       "  <thead>\n",
       "    <tr style=\"text-align: right;\">\n",
       "      <th></th>\n",
       "      <th>Ticker</th>\n",
       "      <th>ROE Last Year (%)</th>\n",
       "      <th>Debt/Capital Last Year (%)</th>\n",
       "      <th>No. of Holdings in Portfolio</th>\n",
       "      <th>% Assets in Top 10 Holdings</th>\n",
       "      <th>Closed to New Investors (Yes=1, No=0)</th>\n",
       "      <th>3-year Annualized Return vs. S&amp;P500</th>\n",
       "      <th>Outperform / Underperform</th>\n",
       "    </tr>\n",
       "  </thead>\n",
       "  <tbody>\n",
       "    <tr>\n",
       "      <th>0</th>\n",
       "      <td>VFTNX</td>\n",
       "      <td>28.22</td>\n",
       "      <td>45.19</td>\n",
       "      <td>470</td>\n",
       "      <td>30.13</td>\n",
       "      <td>0</td>\n",
       "      <td>4.48</td>\n",
       "      <td>1</td>\n",
       "    </tr>\n",
       "    <tr>\n",
       "      <th>1</th>\n",
       "      <td>JCNNX</td>\n",
       "      <td>10.25</td>\n",
       "      <td>48.60</td>\n",
       "      <td>45</td>\n",
       "      <td>44.05</td>\n",
       "      <td>0</td>\n",
       "      <td>7.61</td>\n",
       "      <td>1</td>\n",
       "    </tr>\n",
       "    <tr>\n",
       "      <th>2</th>\n",
       "      <td>PMJPX</td>\n",
       "      <td>0.62</td>\n",
       "      <td>46.75</td>\n",
       "      <td>782</td>\n",
       "      <td>12.57</td>\n",
       "      <td>0</td>\n",
       "      <td>-4.02</td>\n",
       "      <td>0</td>\n",
       "    </tr>\n",
       "    <tr>\n",
       "      <th>3</th>\n",
       "      <td>WMICX</td>\n",
       "      <td>-6.53</td>\n",
       "      <td>30.18</td>\n",
       "      <td>75</td>\n",
       "      <td>25.07</td>\n",
       "      <td>0</td>\n",
       "      <td>23.85</td>\n",
       "      <td>1</td>\n",
       "    </tr>\n",
       "    <tr>\n",
       "      <th>4</th>\n",
       "      <td>STAEX</td>\n",
       "      <td>24.25</td>\n",
       "      <td>45.50</td>\n",
       "      <td>39</td>\n",
       "      <td>47.94</td>\n",
       "      <td>0</td>\n",
       "      <td>9.69</td>\n",
       "      <td>1</td>\n",
       "    </tr>\n",
       "  </tbody>\n",
       "</table>\n",
       "</div>"
      ],
      "text/plain": [
       "  Ticker  ROE Last Year (%)  Debt/Capital Last Year (%)  \\\n",
       "0  VFTNX              28.22                       45.19   \n",
       "1  JCNNX              10.25                       48.60   \n",
       "2  PMJPX               0.62                       46.75   \n",
       "3  WMICX              -6.53                       30.18   \n",
       "4  STAEX              24.25                       45.50   \n",
       "\n",
       "   No. of Holdings in Portfolio  % Assets in Top 10 Holdings  \\\n",
       "0                           470                        30.13   \n",
       "1                            45                        44.05   \n",
       "2                           782                        12.57   \n",
       "3                            75                        25.07   \n",
       "4                            39                        47.94   \n",
       "\n",
       "   Closed to New Investors (Yes=1, No=0)  3-year Annualized Return vs. S&P500  \\\n",
       "0                                      0                                 4.48   \n",
       "1                                      0                                 7.61   \n",
       "2                                      0                                -4.02   \n",
       "3                                      0                                23.85   \n",
       "4                                      0                                 9.69   \n",
       "\n",
       "   Outperform / Underperform  \n",
       "0                          1  \n",
       "1                          1  \n",
       "2                          0  \n",
       "3                          1  \n",
       "4                          1  "
      ]
     },
     "execution_count": 235,
     "metadata": {},
     "output_type": "execute_result"
    }
   ],
   "source": [
    "df3_mf_train.head()"
   ]
  },
  {
   "cell_type": "code",
   "execution_count": 236,
   "metadata": {},
   "outputs": [],
   "source": [
    "X3_train = df3_mf_train.drop(['Ticker','3-year Annualized Return vs. S&P500','Outperform / Underperform'], axis=1)\n",
    "y3_train = df3_mf_train['Outperform / Underperform']"
   ]
  },
  {
   "cell_type": "markdown",
   "metadata": {},
   "source": [
    "### Logistic regression"
   ]
  },
  {
   "cell_type": "markdown",
   "metadata": {},
   "source": [
    "#### Gridsearch"
   ]
  },
  {
   "cell_type": "code",
   "execution_count": 237,
   "metadata": {},
   "outputs": [],
   "source": [
    "param_grid3_log = {'penalty': ['l1','l2'], 'C': [10, 100, 1000, 2000]} "
   ]
  },
  {
   "cell_type": "code",
   "execution_count": 238,
   "metadata": {},
   "outputs": [],
   "source": [
    "grid3_log = GridSearchCV(LogisticRegression(),param_grid3_log,refit=True,n_jobs=-1)"
   ]
  },
  {
   "cell_type": "code",
   "execution_count": 239,
   "metadata": {},
   "outputs": [
    {
     "data": {
      "text/plain": [
       "GridSearchCV(estimator=LogisticRegression(), n_jobs=-1,\n",
       "             param_grid={'C': [10, 100, 1000, 2000], 'penalty': ['l1', 'l2']})"
      ]
     },
     "execution_count": 239,
     "metadata": {},
     "output_type": "execute_result"
    }
   ],
   "source": [
    "grid3_log.fit(X3_train,y3_train)"
   ]
  },
  {
   "cell_type": "code",
   "execution_count": 240,
   "metadata": {},
   "outputs": [
    {
     "data": {
      "text/plain": [
       "{'C': 10, 'penalty': 'l2'}"
      ]
     },
     "execution_count": 240,
     "metadata": {},
     "output_type": "execute_result"
    }
   ],
   "source": [
    "grid3_log.best_params_"
   ]
  },
  {
   "cell_type": "code",
   "execution_count": 241,
   "metadata": {},
   "outputs": [],
   "source": [
    "accuracy_cv_log3 = cross_val_score(grid3_log, X3_train, y3_train, cv=5, scoring='accuracy',n_jobs=-1).mean()"
   ]
  },
  {
   "cell_type": "code",
   "execution_count": 242,
   "metadata": {},
   "outputs": [
    {
     "data": {
      "text/plain": [
       "0.7530944718997816"
      ]
     },
     "execution_count": 242,
     "metadata": {},
     "output_type": "execute_result"
    }
   ],
   "source": [
    "accuracy_cv_log3"
   ]
  },
  {
   "cell_type": "code",
   "execution_count": 243,
   "metadata": {},
   "outputs": [],
   "source": [
    "precision_cv_log3 = cross_val_score(grid3_log, X3_train, y3_train, cv=5, scoring='precision',n_jobs=-1).mean()"
   ]
  },
  {
   "cell_type": "code",
   "execution_count": 244,
   "metadata": {},
   "outputs": [
    {
     "data": {
      "text/plain": [
       "0.7450167315425935"
      ]
     },
     "execution_count": 244,
     "metadata": {},
     "output_type": "execute_result"
    }
   ],
   "source": [
    "precision_cv_log3"
   ]
  },
  {
   "cell_type": "code",
   "execution_count": 245,
   "metadata": {},
   "outputs": [],
   "source": [
    "recall_cv_log3 = cross_val_score(grid3_log, X3_train, y3_train, cv=5, scoring='recall',n_jobs=-1).mean()"
   ]
  },
  {
   "cell_type": "code",
   "execution_count": 246,
   "metadata": {},
   "outputs": [
    {
     "data": {
      "text/plain": [
       "0.636904761904762"
      ]
     },
     "execution_count": 246,
     "metadata": {},
     "output_type": "execute_result"
    }
   ],
   "source": [
    "recall_cv_log3"
   ]
  },
  {
   "cell_type": "code",
   "execution_count": 247,
   "metadata": {},
   "outputs": [],
   "source": [
    "f1_cv_log3 = cross_val_score(grid3_log, X3_train, y3_train, cv=5, scoring='f1',n_jobs=-1).mean()"
   ]
  },
  {
   "cell_type": "code",
   "execution_count": 248,
   "metadata": {},
   "outputs": [
    {
     "data": {
      "text/plain": [
       "0.6865060789189595"
      ]
     },
     "execution_count": 248,
     "metadata": {},
     "output_type": "execute_result"
    }
   ],
   "source": [
    "f1_cv_log3"
   ]
  },
  {
   "cell_type": "code",
   "execution_count": 249,
   "metadata": {},
   "outputs": [],
   "source": [
    "roc_cv_log3 = cross_val_score(grid3_log, X3_train, y3_train, cv=5, scoring='roc_auc',n_jobs=-1).mean()"
   ]
  },
  {
   "cell_type": "code",
   "execution_count": 250,
   "metadata": {},
   "outputs": [
    {
     "data": {
      "text/plain": [
       "0.8237229061665152"
      ]
     },
     "execution_count": 250,
     "metadata": {},
     "output_type": "execute_result"
    }
   ],
   "source": [
    "roc_cv_log3"
   ]
  },
  {
   "cell_type": "code",
   "execution_count": 251,
   "metadata": {},
   "outputs": [],
   "source": [
    "logloss_cv_log3 = -cross_val_score(grid3_log, X3_train, y3_train, cv=5, scoring='neg_log_loss',n_jobs=-1).mean()"
   ]
  },
  {
   "cell_type": "code",
   "execution_count": 252,
   "metadata": {},
   "outputs": [
    {
     "data": {
      "text/plain": [
       "0.5459741786099357"
      ]
     },
     "execution_count": 252,
     "metadata": {},
     "output_type": "execute_result"
    }
   ],
   "source": [
    "logloss_cv_log3"
   ]
  },
  {
   "cell_type": "markdown",
   "metadata": {},
   "source": [
    "### K nearest neighbors"
   ]
  },
  {
   "cell_type": "code",
   "execution_count": 253,
   "metadata": {},
   "outputs": [],
   "source": [
    "scaler = StandardScaler()"
   ]
  },
  {
   "cell_type": "code",
   "execution_count": 254,
   "metadata": {},
   "outputs": [],
   "source": [
    "X3_train_scaled = scaler.fit_transform(X3_train)"
   ]
  },
  {
   "cell_type": "markdown",
   "metadata": {},
   "source": [
    "#### Gridsearch"
   ]
  },
  {
   "cell_type": "code",
   "execution_count": 255,
   "metadata": {},
   "outputs": [],
   "source": [
    "param_grid3_knn = {'n_neighbors': list(range(1,5)), 'weights': ['uniform', 'distance'], 'metric': ['euclidean','manhattan']} "
   ]
  },
  {
   "cell_type": "code",
   "execution_count": 256,
   "metadata": {},
   "outputs": [],
   "source": [
    "grid3_knn = GridSearchCV(KNeighborsClassifier(),param_grid3_knn,refit=True,n_jobs=-1)"
   ]
  },
  {
   "cell_type": "code",
   "execution_count": 257,
   "metadata": {},
   "outputs": [
    {
     "data": {
      "text/plain": [
       "GridSearchCV(estimator=KNeighborsClassifier(), n_jobs=-1,\n",
       "             param_grid={'metric': ['euclidean', 'manhattan'],\n",
       "                         'n_neighbors': [1, 2, 3, 4],\n",
       "                         'weights': ['uniform', 'distance']})"
      ]
     },
     "execution_count": 257,
     "metadata": {},
     "output_type": "execute_result"
    }
   ],
   "source": [
    "grid3_knn.fit(X3_train_scaled, y3_train)"
   ]
  },
  {
   "cell_type": "code",
   "execution_count": 258,
   "metadata": {},
   "outputs": [
    {
     "data": {
      "text/plain": [
       "{'metric': 'euclidean', 'n_neighbors': 4, 'weights': 'distance'}"
      ]
     },
     "execution_count": 258,
     "metadata": {},
     "output_type": "execute_result"
    }
   ],
   "source": [
    "grid3_knn.best_params_"
   ]
  },
  {
   "cell_type": "code",
   "execution_count": 259,
   "metadata": {},
   "outputs": [],
   "source": [
    "accuracy_cv_knn3 = cross_val_score(grid3_knn, X3_train_scaled, y3_train, cv=5, scoring='accuracy',n_jobs=-1).mean()"
   ]
  },
  {
   "cell_type": "code",
   "execution_count": 260,
   "metadata": {},
   "outputs": [
    {
     "data": {
      "text/plain": [
       "0.9492101801836315"
      ]
     },
     "execution_count": 260,
     "metadata": {},
     "output_type": "execute_result"
    }
   ],
   "source": [
    "accuracy_cv_knn3"
   ]
  },
  {
   "cell_type": "code",
   "execution_count": 261,
   "metadata": {},
   "outputs": [],
   "source": [
    "precision_cv_knn3 = cross_val_score(grid3_knn, X3_train_scaled, y3_train, cv=5, scoring='precision',n_jobs=-1).mean()"
   ]
  },
  {
   "cell_type": "code",
   "execution_count": 262,
   "metadata": {},
   "outputs": [
    {
     "data": {
      "text/plain": [
       "0.9399584252320334"
      ]
     },
     "execution_count": 262,
     "metadata": {},
     "output_type": "execute_result"
    }
   ],
   "source": [
    "precision_cv_knn3"
   ]
  },
  {
   "cell_type": "code",
   "execution_count": 263,
   "metadata": {},
   "outputs": [],
   "source": [
    "recall_cv_knn3 = cross_val_score(grid3_knn, X3_train_scaled, y3_train, cv=5, scoring='recall',n_jobs=-1).mean()"
   ]
  },
  {
   "cell_type": "code",
   "execution_count": 264,
   "metadata": {},
   "outputs": [
    {
     "data": {
      "text/plain": [
       "0.9404761904761905"
      ]
     },
     "execution_count": 264,
     "metadata": {},
     "output_type": "execute_result"
    }
   ],
   "source": [
    "recall_cv_knn3"
   ]
  },
  {
   "cell_type": "code",
   "execution_count": 265,
   "metadata": {},
   "outputs": [],
   "source": [
    "f1_cv_knn3 = cross_val_score(grid3_knn, X3_train_scaled, y3_train, cv=5, scoring='f1',n_jobs=-1).mean()"
   ]
  },
  {
   "cell_type": "code",
   "execution_count": 266,
   "metadata": {},
   "outputs": [
    {
     "data": {
      "text/plain": [
       "0.9401453790589533"
      ]
     },
     "execution_count": 266,
     "metadata": {},
     "output_type": "execute_result"
    }
   ],
   "source": [
    "f1_cv_knn3"
   ]
  },
  {
   "cell_type": "code",
   "execution_count": 267,
   "metadata": {},
   "outputs": [],
   "source": [
    "roc_cv_knn3 = cross_val_score(grid3_knn, X3_train_scaled, y3_train, cv=5, scoring='roc_auc',n_jobs=-1).mean()"
   ]
  },
  {
   "cell_type": "code",
   "execution_count": 268,
   "metadata": {},
   "outputs": [
    {
     "data": {
      "text/plain": [
       "0.9574847905592737"
      ]
     },
     "execution_count": 268,
     "metadata": {},
     "output_type": "execute_result"
    }
   ],
   "source": [
    "roc_cv_knn3"
   ]
  },
  {
   "cell_type": "code",
   "execution_count": 269,
   "metadata": {},
   "outputs": [],
   "source": [
    "logloss_cv_knn3 = -cross_val_score(grid3_knn, X3_train_scaled, y3_train, cv=5, scoring='neg_log_loss',n_jobs=-1).mean()"
   ]
  },
  {
   "cell_type": "code",
   "execution_count": 270,
   "metadata": {},
   "outputs": [
    {
     "data": {
      "text/plain": [
       "1.3992472225852952"
      ]
     },
     "execution_count": 270,
     "metadata": {},
     "output_type": "execute_result"
    }
   ],
   "source": [
    "logloss_cv_knn3"
   ]
  },
  {
   "cell_type": "markdown",
   "metadata": {},
   "source": [
    "### Decision Tree "
   ]
  },
  {
   "cell_type": "markdown",
   "metadata": {},
   "source": [
    "#### Gridsearch"
   ]
  },
  {
   "cell_type": "code",
   "execution_count": 271,
   "metadata": {},
   "outputs": [],
   "source": [
    "param_grid3_dtree = {'criterion': ['gini','entropy'], 'max_depth': range(1,10), 'min_samples_split': range(1,5), 'min_samples_leaf': range(1,5)} "
   ]
  },
  {
   "cell_type": "code",
   "execution_count": 272,
   "metadata": {},
   "outputs": [],
   "source": [
    "grid3_dtree = GridSearchCV(DecisionTreeClassifier(),param_grid3_dtree,refit=True,n_jobs=-1)"
   ]
  },
  {
   "cell_type": "code",
   "execution_count": 273,
   "metadata": {},
   "outputs": [
    {
     "data": {
      "text/plain": [
       "GridSearchCV(estimator=DecisionTreeClassifier(), n_jobs=-1,\n",
       "             param_grid={'criterion': ['gini', 'entropy'],\n",
       "                         'max_depth': range(1, 10),\n",
       "                         'min_samples_leaf': range(1, 5),\n",
       "                         'min_samples_split': range(1, 5)})"
      ]
     },
     "execution_count": 273,
     "metadata": {},
     "output_type": "execute_result"
    }
   ],
   "source": [
    "grid3_dtree.fit(X3_train,y3_train)"
   ]
  },
  {
   "cell_type": "code",
   "execution_count": 274,
   "metadata": {},
   "outputs": [
    {
     "data": {
      "text/plain": [
       "{'criterion': 'gini',\n",
       " 'max_depth': 9,\n",
       " 'min_samples_leaf': 1,\n",
       " 'min_samples_split': 2}"
      ]
     },
     "execution_count": 274,
     "metadata": {},
     "output_type": "execute_result"
    }
   ],
   "source": [
    "grid3_dtree.best_params_"
   ]
  },
  {
   "cell_type": "code",
   "execution_count": 275,
   "metadata": {},
   "outputs": [],
   "source": [
    "accuracy_cv_dtree3 = cross_val_score(grid3_dtree, X3_train, y3_train, cv=5, scoring='accuracy',n_jobs=-1).mean()"
   ]
  },
  {
   "cell_type": "code",
   "execution_count": 276,
   "metadata": {},
   "outputs": [
    {
     "data": {
      "text/plain": [
       "0.8698553167579718"
      ]
     },
     "execution_count": 276,
     "metadata": {},
     "output_type": "execute_result"
    }
   ],
   "source": [
    "accuracy_cv_dtree3"
   ]
  },
  {
   "cell_type": "code",
   "execution_count": 277,
   "metadata": {},
   "outputs": [],
   "source": [
    "precision_cv_dtree3 = cross_val_score(grid3_dtree, X3_train, y3_train, cv=5, scoring='precision',n_jobs=-1).mean()"
   ]
  },
  {
   "cell_type": "code",
   "execution_count": 278,
   "metadata": {},
   "outputs": [
    {
     "data": {
      "text/plain": [
       "0.8935652761831854"
      ]
     },
     "execution_count": 278,
     "metadata": {},
     "output_type": "execute_result"
    }
   ],
   "source": [
    "precision_cv_dtree3"
   ]
  },
  {
   "cell_type": "code",
   "execution_count": 279,
   "metadata": {},
   "outputs": [],
   "source": [
    "recall_cv_dtree3 = cross_val_score(grid3_dtree, X3_train, y3_train, cv=5, scoring='recall',n_jobs=-1).mean()"
   ]
  },
  {
   "cell_type": "code",
   "execution_count": 280,
   "metadata": {},
   "outputs": [
    {
     "data": {
      "text/plain": [
       "0.7910714285714286"
      ]
     },
     "execution_count": 280,
     "metadata": {},
     "output_type": "execute_result"
    }
   ],
   "source": [
    "recall_cv_dtree3"
   ]
  },
  {
   "cell_type": "code",
   "execution_count": 281,
   "metadata": {},
   "outputs": [],
   "source": [
    "f1_cv_dtree3 = cross_val_score(grid3_dtree, X3_train, y3_train, cv=5, scoring='f1',n_jobs=-1).mean()"
   ]
  },
  {
   "cell_type": "code",
   "execution_count": 282,
   "metadata": {},
   "outputs": [
    {
     "data": {
      "text/plain": [
       "0.8366509943309245"
      ]
     },
     "execution_count": 282,
     "metadata": {},
     "output_type": "execute_result"
    }
   ],
   "source": [
    "f1_cv_dtree3"
   ]
  },
  {
   "cell_type": "code",
   "execution_count": 283,
   "metadata": {},
   "outputs": [],
   "source": [
    "roc_cv_dtree3 = cross_val_score(grid3_dtree, X3_train, y3_train, cv=5, scoring='roc_auc',n_jobs=-1).mean()"
   ]
  },
  {
   "cell_type": "code",
   "execution_count": 284,
   "metadata": {},
   "outputs": [
    {
     "data": {
      "text/plain": [
       "0.9361765850064723"
      ]
     },
     "execution_count": 284,
     "metadata": {},
     "output_type": "execute_result"
    }
   ],
   "source": [
    "roc_cv_dtree3"
   ]
  },
  {
   "cell_type": "code",
   "execution_count": 285,
   "metadata": {},
   "outputs": [],
   "source": [
    "logloss_cv_dtree3 = -cross_val_score(grid3_dtree, X3_train, y3_train, cv=5, scoring='neg_log_loss',n_jobs=-1).mean()"
   ]
  },
  {
   "cell_type": "code",
   "execution_count": 286,
   "metadata": {},
   "outputs": [
    {
     "data": {
      "text/plain": [
       "0.8130212835568733"
      ]
     },
     "execution_count": 286,
     "metadata": {},
     "output_type": "execute_result"
    }
   ],
   "source": [
    "logloss_cv_dtree3"
   ]
  },
  {
   "cell_type": "markdown",
   "metadata": {},
   "source": [
    "### Random forest"
   ]
  },
  {
   "cell_type": "markdown",
   "metadata": {},
   "source": [
    "#### Gridsearch"
   ]
  },
  {
   "cell_type": "code",
   "execution_count": 287,
   "metadata": {},
   "outputs": [],
   "source": [
    "param_grid3_rfc = {'bootstrap': [False],\n",
    "              'max_depth': [5, 10, 15],\n",
    "              'max_features': ['auto'],\n",
    "              'min_samples_leaf': [1, 2],\n",
    "              'min_samples_split': [2, 3],\n",
    "              'n_estimators': [75, 100, 125]\n",
    "             }"
   ]
  },
  {
   "cell_type": "code",
   "execution_count": 288,
   "metadata": {},
   "outputs": [],
   "source": [
    "grid3_rfc = GridSearchCV(RandomForestClassifier(),param_grid3_rfc,refit=True,n_jobs=-1)"
   ]
  },
  {
   "cell_type": "code",
   "execution_count": 289,
   "metadata": {},
   "outputs": [
    {
     "data": {
      "text/plain": [
       "GridSearchCV(estimator=RandomForestClassifier(), n_jobs=-1,\n",
       "             param_grid={'bootstrap': [False], 'max_depth': [5, 10, 15],\n",
       "                         'max_features': ['auto'], 'min_samples_leaf': [1, 2],\n",
       "                         'min_samples_split': [2, 3],\n",
       "                         'n_estimators': [75, 100, 125]})"
      ]
     },
     "execution_count": 289,
     "metadata": {},
     "output_type": "execute_result"
    }
   ],
   "source": [
    "grid3_rfc.fit(X3_train,y3_train)"
   ]
  },
  {
   "cell_type": "code",
   "execution_count": 290,
   "metadata": {},
   "outputs": [
    {
     "data": {
      "text/plain": [
       "{'bootstrap': False,\n",
       " 'max_depth': 15,\n",
       " 'max_features': 'auto',\n",
       " 'min_samples_leaf': 1,\n",
       " 'min_samples_split': 2,\n",
       " 'n_estimators': 100}"
      ]
     },
     "execution_count": 290,
     "metadata": {},
     "output_type": "execute_result"
    }
   ],
   "source": [
    "grid3_rfc.best_params_"
   ]
  },
  {
   "cell_type": "code",
   "execution_count": 291,
   "metadata": {},
   "outputs": [],
   "source": [
    "accuracy_cv_rfc3 = cross_val_score(grid3_rfc, X3_train, y3_train, cv=5, scoring='accuracy',n_jobs=-1).mean()"
   ]
  },
  {
   "cell_type": "code",
   "execution_count": 292,
   "metadata": {},
   "outputs": [
    {
     "data": {
      "text/plain": [
       "0.9588134824860489"
      ]
     },
     "execution_count": 292,
     "metadata": {},
     "output_type": "execute_result"
    }
   ],
   "source": [
    "accuracy_cv_rfc3"
   ]
  },
  {
   "cell_type": "code",
   "execution_count": 293,
   "metadata": {},
   "outputs": [],
   "source": [
    "precision_cv_rfc3 = cross_val_score(grid3_rfc, X3_train, y3_train, cv=5, scoring='precision',n_jobs=-1).mean()"
   ]
  },
  {
   "cell_type": "code",
   "execution_count": 294,
   "metadata": {},
   "outputs": [
    {
     "data": {
      "text/plain": [
       "0.9587509707665058"
      ]
     },
     "execution_count": 294,
     "metadata": {},
     "output_type": "execute_result"
    }
   ],
   "source": [
    "precision_cv_rfc3"
   ]
  },
  {
   "cell_type": "code",
   "execution_count": 295,
   "metadata": {},
   "outputs": [],
   "source": [
    "recall_cv_rfc3 = cross_val_score(grid3_rfc, X3_train, y3_train, cv=5, scoring='recall',n_jobs=-1).mean()"
   ]
  },
  {
   "cell_type": "code",
   "execution_count": 296,
   "metadata": {},
   "outputs": [
    {
     "data": {
      "text/plain": [
       "0.9464285714285714"
      ]
     },
     "execution_count": 296,
     "metadata": {},
     "output_type": "execute_result"
    }
   ],
   "source": [
    "recall_cv_rfc3"
   ]
  },
  {
   "cell_type": "code",
   "execution_count": 297,
   "metadata": {},
   "outputs": [],
   "source": [
    "f1_cv_rfc3 = cross_val_score(grid3_rfc, X3_train, y3_train, cv=5, scoring='f1',n_jobs=-1).mean()"
   ]
  },
  {
   "cell_type": "code",
   "execution_count": 298,
   "metadata": {},
   "outputs": [
    {
     "data": {
      "text/plain": [
       "0.9531643712651379"
      ]
     },
     "execution_count": 298,
     "metadata": {},
     "output_type": "execute_result"
    }
   ],
   "source": [
    "f1_cv_rfc3"
   ]
  },
  {
   "cell_type": "code",
   "execution_count": 299,
   "metadata": {},
   "outputs": [],
   "source": [
    "roc_cv_rfc3 = cross_val_score(grid3_rfc, X3_train, y3_train, cv=5, scoring='roc_auc',n_jobs=-1).mean()"
   ]
  },
  {
   "cell_type": "code",
   "execution_count": 300,
   "metadata": {},
   "outputs": [
    {
     "data": {
      "text/plain": [
       "0.9929648411321343"
      ]
     },
     "execution_count": 300,
     "metadata": {},
     "output_type": "execute_result"
    }
   ],
   "source": [
    "roc_cv_rfc3"
   ]
  },
  {
   "cell_type": "code",
   "execution_count": 301,
   "metadata": {},
   "outputs": [],
   "source": [
    "logloss_cv_rfc3 = -cross_val_score(grid3_rfc, X3_train, y3_train, cv=5, scoring='neg_log_loss',n_jobs=-1).mean()"
   ]
  },
  {
   "cell_type": "code",
   "execution_count": 302,
   "metadata": {},
   "outputs": [
    {
     "data": {
      "text/plain": [
       "0.11480208064952269"
      ]
     },
     "execution_count": 302,
     "metadata": {},
     "output_type": "execute_result"
    }
   ],
   "source": [
    "logloss_cv_rfc3"
   ]
  },
  {
   "cell_type": "markdown",
   "metadata": {},
   "source": [
    "### Support Vector Machine"
   ]
  },
  {
   "cell_type": "markdown",
   "metadata": {},
   "source": [
    "#### Gridsearch"
   ]
  },
  {
   "cell_type": "code",
   "execution_count": 303,
   "metadata": {},
   "outputs": [],
   "source": [
    "# param_grid3_svc = {'C': [10000, 20000], 'gamma': [1], 'kernel': ['rbf']} "
   ]
  },
  {
   "cell_type": "code",
   "execution_count": 304,
   "metadata": {},
   "outputs": [],
   "source": [
    "# grid3_svc = GridSearchCV(SVC(),param_grid3_svc,refit=True,n_jobs=-1)"
   ]
  },
  {
   "cell_type": "code",
   "execution_count": 305,
   "metadata": {},
   "outputs": [],
   "source": [
    "# grid3_svc.fit(X3_train_scaled,y3_train)"
   ]
  },
  {
   "cell_type": "code",
   "execution_count": 306,
   "metadata": {},
   "outputs": [],
   "source": [
    "# grid3_svc.best_params_"
   ]
  },
  {
   "cell_type": "code",
   "execution_count": 307,
   "metadata": {},
   "outputs": [],
   "source": [
    "svc3 = SVC(C=20000, gamma=1, kernel='rbf')"
   ]
  },
  {
   "cell_type": "code",
   "execution_count": 308,
   "metadata": {},
   "outputs": [
    {
     "data": {
      "text/plain": [
       "SVC(C=20000, gamma=1)"
      ]
     },
     "execution_count": 308,
     "metadata": {},
     "output_type": "execute_result"
    }
   ],
   "source": [
    "svc3.fit(X3_train_scaled, y3_train)"
   ]
  },
  {
   "cell_type": "code",
   "execution_count": 309,
   "metadata": {},
   "outputs": [],
   "source": [
    "accuracy_cv_svc3 = cross_val_score(svc3, X3_train_scaled, y3_train, cv=5, scoring='accuracy',n_jobs=-1).mean()"
   ]
  },
  {
   "cell_type": "code",
   "execution_count": 310,
   "metadata": {},
   "outputs": [
    {
     "data": {
      "text/plain": [
       "0.9259577443205762"
      ]
     },
     "execution_count": 310,
     "metadata": {},
     "output_type": "execute_result"
    }
   ],
   "source": [
    "accuracy_cv_svc3"
   ]
  },
  {
   "cell_type": "code",
   "execution_count": 311,
   "metadata": {},
   "outputs": [],
   "source": [
    "precision_cv_svc3 = cross_val_score(svc3, X3_train_scaled, y3_train, cv=5, scoring='precision',n_jobs=-1).mean()"
   ]
  },
  {
   "cell_type": "code",
   "execution_count": 312,
   "metadata": {},
   "outputs": [
    {
     "data": {
      "text/plain": [
       "0.9202460640216874"
      ]
     },
     "execution_count": 312,
     "metadata": {},
     "output_type": "execute_result"
    }
   ],
   "source": [
    "precision_cv_svc3"
   ]
  },
  {
   "cell_type": "code",
   "execution_count": 313,
   "metadata": {},
   "outputs": [],
   "source": [
    "recall_cv_svc3 = cross_val_score(svc3, X3_train_scaled, y3_train, cv=5, scoring='recall',n_jobs=-1).mean()"
   ]
  },
  {
   "cell_type": "code",
   "execution_count": 314,
   "metadata": {},
   "outputs": [
    {
     "data": {
      "text/plain": [
       "0.9047619047619048"
      ]
     },
     "execution_count": 314,
     "metadata": {},
     "output_type": "execute_result"
    }
   ],
   "source": [
    "recall_cv_svc3"
   ]
  },
  {
   "cell_type": "code",
   "execution_count": 315,
   "metadata": {},
   "outputs": [],
   "source": [
    "f1_cv_svc3 = cross_val_score(svc3, X3_train_scaled, y3_train, cv=5, scoring='f1',n_jobs=-1).mean()"
   ]
  },
  {
   "cell_type": "code",
   "execution_count": 316,
   "metadata": {},
   "outputs": [
    {
     "data": {
      "text/plain": [
       "0.9121885070482374"
      ]
     },
     "execution_count": 316,
     "metadata": {},
     "output_type": "execute_result"
    }
   ],
   "source": [
    "f1_cv_svc3"
   ]
  },
  {
   "cell_type": "code",
   "execution_count": 317,
   "metadata": {},
   "outputs": [],
   "source": [
    "roc_cv_svc3 = cross_val_score(svc3, X3_train_scaled, y3_train, cv=5, scoring='roc_auc',n_jobs=-1).mean()"
   ]
  },
  {
   "cell_type": "code",
   "execution_count": 318,
   "metadata": {},
   "outputs": [
    {
     "data": {
      "text/plain": [
       "0.9389924301366971"
      ]
     },
     "execution_count": 318,
     "metadata": {},
     "output_type": "execute_result"
    }
   ],
   "source": [
    "roc_cv_svc3"
   ]
  },
  {
   "cell_type": "markdown",
   "metadata": {},
   "source": [
    "### Naive Bayes"
   ]
  },
  {
   "cell_type": "markdown",
   "metadata": {},
   "source": [
    "#### Gridsearch"
   ]
  },
  {
   "cell_type": "code",
   "execution_count": 319,
   "metadata": {},
   "outputs": [],
   "source": [
    "param_grid3_nb = {'var_smoothing': np.logspace(0,-20, 50)}"
   ]
  },
  {
   "cell_type": "code",
   "execution_count": 320,
   "metadata": {},
   "outputs": [],
   "source": [
    "grid3_nb = GridSearchCV(GaussianNB(),param_grid3_nb,refit=True,n_jobs=-1)"
   ]
  },
  {
   "cell_type": "code",
   "execution_count": 321,
   "metadata": {},
   "outputs": [
    {
     "data": {
      "text/plain": [
       "GridSearchCV(estimator=GaussianNB(), n_jobs=-1,\n",
       "             param_grid={'var_smoothing': array([1.00000000e+00, 3.90693994e-01, 1.52641797e-01, 5.96362332e-02,\n",
       "       2.32995181e-02, 9.10298178e-03, 3.55648031e-03, 1.38949549e-03,\n",
       "       5.42867544e-04, 2.12095089e-04, 8.28642773e-05, 3.23745754e-05,\n",
       "       1.26485522e-05, 4.94171336e-06, 1.93069773e-06, 7.54312006e-07,\n",
       "       2.94705170e-07, 1.15139540e-07...\n",
       "       1.59985872e-10, 6.25055193e-11, 2.44205309e-11, 9.54095476e-12,\n",
       "       3.72759372e-12, 1.45634848e-12, 5.68986603e-13, 2.22299648e-13,\n",
       "       8.68511374e-14, 3.39322177e-14, 1.32571137e-14, 5.17947468e-15,\n",
       "       2.02358965e-15, 7.90604321e-16, 3.08884360e-16, 1.20679264e-16,\n",
       "       4.71486636e-17, 1.84206997e-17, 7.19685673e-18, 2.81176870e-18,\n",
       "       1.09854114e-18, 4.29193426e-19, 1.67683294e-19, 6.55128557e-20,\n",
       "       2.55954792e-20, 1.00000000e-20])})"
      ]
     },
     "execution_count": 321,
     "metadata": {},
     "output_type": "execute_result"
    }
   ],
   "source": [
    "grid3_nb.fit(X3_train,y3_train)"
   ]
  },
  {
   "cell_type": "code",
   "execution_count": 322,
   "metadata": {},
   "outputs": [
    {
     "data": {
      "text/plain": [
       "{'var_smoothing': 1.9306977288832498e-06}"
      ]
     },
     "execution_count": 322,
     "metadata": {},
     "output_type": "execute_result"
    }
   ],
   "source": [
    "grid3_nb.best_params_"
   ]
  },
  {
   "cell_type": "code",
   "execution_count": 323,
   "metadata": {},
   "outputs": [],
   "source": [
    "accuracy_cv_nb3 = cross_val_score(grid3_nb, X3_train, y3_train, cv=5, scoring='accuracy',n_jobs=-1).mean()"
   ]
  },
  {
   "cell_type": "code",
   "execution_count": 324,
   "metadata": {},
   "outputs": [
    {
     "data": {
      "text/plain": [
       "0.7194827542172675"
      ]
     },
     "execution_count": 324,
     "metadata": {},
     "output_type": "execute_result"
    }
   ],
   "source": [
    "accuracy_cv_nb3"
   ]
  },
  {
   "cell_type": "code",
   "execution_count": 325,
   "metadata": {},
   "outputs": [],
   "source": [
    "precision_cv_nb3 = cross_val_score(grid3_nb, X3_train, y3_train, cv=5, scoring='precision',n_jobs=-1).mean()"
   ]
  },
  {
   "cell_type": "code",
   "execution_count": 326,
   "metadata": {},
   "outputs": [
    {
     "data": {
      "text/plain": [
       "0.7973252773188623"
      ]
     },
     "execution_count": 326,
     "metadata": {},
     "output_type": "execute_result"
    }
   ],
   "source": [
    "precision_cv_nb3"
   ]
  },
  {
   "cell_type": "code",
   "execution_count": 327,
   "metadata": {},
   "outputs": [],
   "source": [
    "recall_cv_nb3 = cross_val_score(grid3_nb, X3_train, y3_train, cv=5, scoring='recall',n_jobs=-1).mean()"
   ]
  },
  {
   "cell_type": "code",
   "execution_count": 328,
   "metadata": {},
   "outputs": [
    {
     "data": {
      "text/plain": [
       "0.4547619047619048"
      ]
     },
     "execution_count": 328,
     "metadata": {},
     "output_type": "execute_result"
    }
   ],
   "source": [
    "recall_cv_nb3"
   ]
  },
  {
   "cell_type": "code",
   "execution_count": 329,
   "metadata": {},
   "outputs": [],
   "source": [
    "f1_cv_nb3 = cross_val_score(grid3_nb, X3_train, y3_train, cv=5, scoring='f1',n_jobs=-1).mean()"
   ]
  },
  {
   "cell_type": "code",
   "execution_count": 330,
   "metadata": {},
   "outputs": [
    {
     "data": {
      "text/plain": [
       "0.5790983569065771"
      ]
     },
     "execution_count": 330,
     "metadata": {},
     "output_type": "execute_result"
    }
   ],
   "source": [
    "f1_cv_nb3"
   ]
  },
  {
   "cell_type": "code",
   "execution_count": 331,
   "metadata": {},
   "outputs": [],
   "source": [
    "roc_cv_nb3 = cross_val_score(grid3_nb, X3_train, y3_train, cv=5, scoring='roc_auc',n_jobs=-1).mean()"
   ]
  },
  {
   "cell_type": "code",
   "execution_count": 332,
   "metadata": {},
   "outputs": [
    {
     "data": {
      "text/plain": [
       "0.8281394448805163"
      ]
     },
     "execution_count": 332,
     "metadata": {},
     "output_type": "execute_result"
    }
   ],
   "source": [
    "roc_cv_nb3"
   ]
  },
  {
   "cell_type": "code",
   "execution_count": 333,
   "metadata": {},
   "outputs": [],
   "source": [
    "logloss_cv_nb3 = -cross_val_score(grid3_nb, X3_train, y3_train, cv=5, scoring='neg_log_loss',n_jobs=-1).mean()"
   ]
  },
  {
   "cell_type": "code",
   "execution_count": 334,
   "metadata": {},
   "outputs": [
    {
     "data": {
      "text/plain": [
       "0.6615027705437382"
      ]
     },
     "execution_count": 334,
     "metadata": {},
     "output_type": "execute_result"
    }
   ],
   "source": [
    "logloss_cv_nb3"
   ]
  },
  {
   "cell_type": "markdown",
   "metadata": {},
   "source": [
    "### XG Boost"
   ]
  },
  {
   "cell_type": "markdown",
   "metadata": {},
   "source": [
    "#### Gridsearch"
   ]
  },
  {
   "cell_type": "code",
   "execution_count": 335,
   "metadata": {},
   "outputs": [],
   "source": [
    "param_grid3_xgb = {'n_estimators': [100],  \n",
    "                  'max_depth': range(3,5),\n",
    "                  'learning_rate': [0.4, 0.6],\n",
    "                  'subsample': [0.5,0.75, 1],\n",
    "                  'colsample_bytree': [0.5,0.75, 1]\n",
    "                }"
   ]
  },
  {
   "cell_type": "code",
   "execution_count": 336,
   "metadata": {},
   "outputs": [],
   "source": [
    "grid3_xgb = GridSearchCV(xgb.XGBClassifier(),param_grid3_xgb,refit=True,n_jobs=-1)"
   ]
  },
  {
   "cell_type": "code",
   "execution_count": 337,
   "metadata": {},
   "outputs": [
    {
     "data": {
      "text/plain": [
       "GridSearchCV(estimator=XGBClassifier(base_score=None, booster=None,\n",
       "                                     colsample_bylevel=None,\n",
       "                                     colsample_bynode=None,\n",
       "                                     colsample_bytree=None, gamma=None,\n",
       "                                     gpu_id=None, importance_type='gain',\n",
       "                                     interaction_constraints=None,\n",
       "                                     learning_rate=None, max_delta_step=None,\n",
       "                                     max_depth=None, min_child_weight=None,\n",
       "                                     missing=nan, monotone_constraints=None,\n",
       "                                     n_estimators=100, n_jobs=None,\n",
       "                                     num_parallel_tree=None, random_state=None,\n",
       "                                     reg_alpha=None, reg_lambda=None,\n",
       "                                     scale_pos_weight=None, subsample=None,\n",
       "                                     tree_method=None, validate_parameters=None,\n",
       "                                     verbosity=None),\n",
       "             n_jobs=-1,\n",
       "             param_grid={'colsample_bytree': [0.5, 0.75, 1],\n",
       "                         'learning_rate': [0.4, 0.6], 'max_depth': range(3, 5),\n",
       "                         'n_estimators': [100], 'subsample': [0.5, 0.75, 1]})"
      ]
     },
     "execution_count": 337,
     "metadata": {},
     "output_type": "execute_result"
    }
   ],
   "source": [
    "grid3_xgb.fit(X3_train,y3_train)"
   ]
  },
  {
   "cell_type": "code",
   "execution_count": 338,
   "metadata": {},
   "outputs": [
    {
     "data": {
      "text/plain": [
       "{'colsample_bytree': 1,\n",
       " 'learning_rate': 0.6,\n",
       " 'max_depth': 4,\n",
       " 'n_estimators': 100,\n",
       " 'subsample': 0.75}"
      ]
     },
     "execution_count": 338,
     "metadata": {},
     "output_type": "execute_result"
    }
   ],
   "source": [
    "grid3_xgb.best_params_"
   ]
  },
  {
   "cell_type": "code",
   "execution_count": 339,
   "metadata": {},
   "outputs": [],
   "source": [
    "accuracy_cv_xgb3 = cross_val_score(grid3_xgb, X3_train, y3_train, cv=5, scoring='accuracy',n_jobs=-1).mean()"
   ]
  },
  {
   "cell_type": "code",
   "execution_count": 340,
   "metadata": {},
   "outputs": [
    {
     "data": {
      "text/plain": [
       "0.9524949239551009"
      ]
     },
     "execution_count": 340,
     "metadata": {},
     "output_type": "execute_result"
    }
   ],
   "source": [
    "accuracy_cv_xgb3"
   ]
  },
  {
   "cell_type": "code",
   "execution_count": 341,
   "metadata": {},
   "outputs": [],
   "source": [
    "precision_cv_xgb3 = cross_val_score(grid3_xgb, X3_train, y3_train, cv=5, scoring='precision',n_jobs=-1).mean()"
   ]
  },
  {
   "cell_type": "code",
   "execution_count": 342,
   "metadata": {},
   "outputs": [
    {
     "data": {
      "text/plain": [
       "0.942485783950939"
      ]
     },
     "execution_count": 342,
     "metadata": {},
     "output_type": "execute_result"
    }
   ],
   "source": [
    "precision_cv_xgb3"
   ]
  },
  {
   "cell_type": "code",
   "execution_count": 343,
   "metadata": {},
   "outputs": [],
   "source": [
    "recall_cv_xgb3 = cross_val_score(grid3_xgb, X3_train, y3_train, cv=5, scoring='recall',n_jobs=-1).mean()"
   ]
  },
  {
   "cell_type": "code",
   "execution_count": 344,
   "metadata": {},
   "outputs": [
    {
     "data": {
      "text/plain": [
       "0.9458333333333334"
      ]
     },
     "execution_count": 344,
     "metadata": {},
     "output_type": "execute_result"
    }
   ],
   "source": [
    "recall_cv_xgb3"
   ]
  },
  {
   "cell_type": "code",
   "execution_count": 345,
   "metadata": {},
   "outputs": [],
   "source": [
    "f1_cv_xgb3 = cross_val_score(grid3_xgb, X3_train, y3_train, cv=5, scoring='f1',n_jobs=-1).mean()"
   ]
  },
  {
   "cell_type": "code",
   "execution_count": 346,
   "metadata": {},
   "outputs": [
    {
     "data": {
      "text/plain": [
       "0.9441227861634209"
      ]
     },
     "execution_count": 346,
     "metadata": {},
     "output_type": "execute_result"
    }
   ],
   "source": [
    "f1_cv_xgb3"
   ]
  },
  {
   "cell_type": "code",
   "execution_count": 347,
   "metadata": {},
   "outputs": [],
   "source": [
    "roc_cv_xgb3 = cross_val_score(grid3_xgb, X3_train, y3_train, cv=5, scoring='roc_auc',n_jobs=-1).mean()"
   ]
  },
  {
   "cell_type": "code",
   "execution_count": 348,
   "metadata": {},
   "outputs": [
    {
     "data": {
      "text/plain": [
       "0.9805855383651437"
      ]
     },
     "execution_count": 348,
     "metadata": {},
     "output_type": "execute_result"
    }
   ],
   "source": [
    "roc_cv_xgb3"
   ]
  },
  {
   "cell_type": "code",
   "execution_count": 349,
   "metadata": {},
   "outputs": [],
   "source": [
    "logloss_cv_xgb3 = -cross_val_score(grid3_xgb, X3_train, y3_train, cv=5, scoring='neg_log_loss',n_jobs=-1).mean()"
   ]
  },
  {
   "cell_type": "code",
   "execution_count": 350,
   "metadata": {},
   "outputs": [
    {
     "data": {
      "text/plain": [
       "0.1603538053938854"
      ]
     },
     "execution_count": 350,
     "metadata": {},
     "output_type": "execute_result"
    }
   ],
   "source": [
    "logloss_cv_xgb3"
   ]
  },
  {
   "cell_type": "code",
   "execution_count": null,
   "metadata": {},
   "outputs": [],
   "source": []
  },
  {
   "cell_type": "markdown",
   "metadata": {},
   "source": [
    "## Put the CV results into dataframes"
   ]
  },
  {
   "cell_type": "markdown",
   "metadata": {},
   "source": [
    "### Baseline"
   ]
  },
  {
   "cell_type": "code",
   "execution_count": 351,
   "metadata": {},
   "outputs": [],
   "source": [
    "accuracy_base, precision_base, recall_base, f1_base, roc_base, logloss_base = [], [], [], [], [], []"
   ]
  },
  {
   "cell_type": "code",
   "execution_count": 352,
   "metadata": {},
   "outputs": [],
   "source": [
    "accuracy_base.extend([accuracy_cv_log, accuracy_cv_knn, accuracy_cv_dtree, accuracy_cv_rfc, accuracy_cv_svc, accuracy_cv_nb, accuracy_cv_xgb])\n",
    "precision_base.extend([precision_cv_log, precision_cv_knn, precision_cv_dtree, precision_cv_rfc, precision_cv_svc, precision_cv_nb, precision_cv_xgb])\n",
    "recall_base.extend([recall_cv_log, recall_cv_knn, recall_cv_dtree, recall_cv_rfc, recall_cv_svc, recall_cv_nb, recall_cv_xgb])\n",
    "f1_base.extend([f1_cv_log, f1_cv_knn, f1_cv_dtree, f1_cv_rfc, f1_cv_svc, f1_cv_nb, f1_cv_xgb])\n",
    "roc_base.extend([roc_cv_log, roc_cv_knn, roc_cv_dtree, roc_cv_rfc, roc_cv_svc, roc_cv_nb, roc_cv_xgb])\n",
    "logloss_base.extend([logloss_cv_log, logloss_cv_knn, logloss_cv_dtree, logloss_cv_rfc, np.nan, logloss_cv_nb, logloss_cv_xgb])"
   ]
  },
  {
   "cell_type": "code",
   "execution_count": 353,
   "metadata": {},
   "outputs": [
    {
     "data": {
      "text/html": [
       "<div>\n",
       "<style scoped>\n",
       "    .dataframe tbody tr th:only-of-type {\n",
       "        vertical-align: middle;\n",
       "    }\n",
       "\n",
       "    .dataframe tbody tr th {\n",
       "        vertical-align: top;\n",
       "    }\n",
       "\n",
       "    .dataframe thead th {\n",
       "        text-align: right;\n",
       "    }\n",
       "</style>\n",
       "<table border=\"1\" class=\"dataframe\">\n",
       "  <thead>\n",
       "    <tr style=\"text-align: right;\">\n",
       "      <th></th>\n",
       "      <th>Accuracy</th>\n",
       "      <th>Precision</th>\n",
       "      <th>Recall</th>\n",
       "      <th>F1 Score</th>\n",
       "      <th>ROC AUC Score</th>\n",
       "      <th>Log-loss</th>\n",
       "    </tr>\n",
       "  </thead>\n",
       "  <tbody>\n",
       "    <tr>\n",
       "      <th>Logistic Regression</th>\n",
       "      <td>0.523847</td>\n",
       "      <td>0.518401</td>\n",
       "      <td>0.482143</td>\n",
       "      <td>0.368679</td>\n",
       "      <td>0.614556</td>\n",
       "      <td>0.685671</td>\n",
       "    </tr>\n",
       "    <tr>\n",
       "      <th>K-nearest Neighbors</th>\n",
       "      <td>0.922670</td>\n",
       "      <td>0.910140</td>\n",
       "      <td>0.907738</td>\n",
       "      <td>0.908789</td>\n",
       "      <td>0.964892</td>\n",
       "      <td>0.762923</td>\n",
       "    </tr>\n",
       "    <tr>\n",
       "      <th>Decision Tree</th>\n",
       "      <td>0.903215</td>\n",
       "      <td>0.900572</td>\n",
       "      <td>0.858929</td>\n",
       "      <td>0.884810</td>\n",
       "      <td>0.944292</td>\n",
       "      <td>1.013234</td>\n",
       "    </tr>\n",
       "    <tr>\n",
       "      <th>Random Forest</th>\n",
       "      <td>0.947943</td>\n",
       "      <td>0.960502</td>\n",
       "      <td>0.916667</td>\n",
       "      <td>0.939099</td>\n",
       "      <td>0.986483</td>\n",
       "      <td>0.199814</td>\n",
       "    </tr>\n",
       "    <tr>\n",
       "      <th>Support Vector Machine</th>\n",
       "      <td>0.895884</td>\n",
       "      <td>0.899348</td>\n",
       "      <td>0.850000</td>\n",
       "      <td>0.873905</td>\n",
       "      <td>0.947907</td>\n",
       "      <td>NaN</td>\n",
       "    </tr>\n",
       "    <tr>\n",
       "      <th>Naive Bayes</th>\n",
       "      <td>0.585541</td>\n",
       "      <td>0.684954</td>\n",
       "      <td>0.058929</td>\n",
       "      <td>0.107066</td>\n",
       "      <td>0.613794</td>\n",
       "      <td>1.231576</td>\n",
       "    </tr>\n",
       "    <tr>\n",
       "      <th>XGBoost</th>\n",
       "      <td>0.956034</td>\n",
       "      <td>0.956419</td>\n",
       "      <td>0.939286</td>\n",
       "      <td>0.947733</td>\n",
       "      <td>0.985489</td>\n",
       "      <td>0.138646</td>\n",
       "    </tr>\n",
       "  </tbody>\n",
       "</table>\n",
       "</div>"
      ],
      "text/plain": [
       "                        Accuracy  Precision    Recall  F1 Score  \\\n",
       "Logistic Regression     0.523847   0.518401  0.482143  0.368679   \n",
       "K-nearest Neighbors     0.922670   0.910140  0.907738  0.908789   \n",
       "Decision Tree           0.903215   0.900572  0.858929  0.884810   \n",
       "Random Forest           0.947943   0.960502  0.916667  0.939099   \n",
       "Support Vector Machine  0.895884   0.899348  0.850000  0.873905   \n",
       "Naive Bayes             0.585541   0.684954  0.058929  0.107066   \n",
       "XGBoost                 0.956034   0.956419  0.939286  0.947733   \n",
       "\n",
       "                        ROC AUC Score  Log-loss  \n",
       "Logistic Regression          0.614556  0.685671  \n",
       "K-nearest Neighbors          0.964892  0.762923  \n",
       "Decision Tree                0.944292  1.013234  \n",
       "Random Forest                0.986483  0.199814  \n",
       "Support Vector Machine       0.947907       NaN  \n",
       "Naive Bayes                  0.613794  1.231576  \n",
       "XGBoost                      0.985489  0.138646  "
      ]
     },
     "execution_count": 353,
     "metadata": {},
     "output_type": "execute_result"
    }
   ],
   "source": [
    "df_scores_base = pd.DataFrame(list(zip(accuracy_base, precision_base, recall_base, f1_base, roc_base, logloss_base)),\n",
    "                              index=['Logistic Regression','K-nearest Neighbors','Decision Tree','Random Forest',\n",
    "                                     'Support Vector Machine','Naive Bayes','XGBoost'],\n",
    "                              columns=['Accuracy','Precision','Recall','F1 Score','ROC AUC Score','Log-loss']\n",
    "                             )\n",
    "df_scores_base"
   ]
  },
  {
   "cell_type": "code",
   "execution_count": 354,
   "metadata": {},
   "outputs": [],
   "source": [
    "df_scores_base.to_csv('../Data/df_scores_base.csv')"
   ]
  },
  {
   "cell_type": "markdown",
   "metadata": {},
   "source": [
    "### Model set 2"
   ]
  },
  {
   "cell_type": "code",
   "execution_count": 355,
   "metadata": {},
   "outputs": [],
   "source": [
    "accuracy_m2, precision_m2, recall_m2, f1_m2, roc_m2, logloss_m2 = [], [], [], [], [], []"
   ]
  },
  {
   "cell_type": "code",
   "execution_count": 356,
   "metadata": {},
   "outputs": [],
   "source": [
    "accuracy_m2.extend([accuracy_cv_log2, accuracy_cv_knn2, accuracy_cv_dtree2, accuracy_cv_rfc2, accuracy_cv_svc2, accuracy_cv_nb2, accuracy_cv_xgb2])\n",
    "precision_m2.extend([precision_cv_log2, precision_cv_knn2, precision_cv_dtree2, precision_cv_rfc2, precision_cv_svc2, precision_cv_nb2, precision_cv_xgb2])\n",
    "recall_m2.extend([recall_cv_log2, recall_cv_knn2, recall_cv_dtree2, recall_cv_rfc2, recall_cv_svc2, recall_cv_nb2, recall_cv_xgb2])\n",
    "f1_m2.extend([f1_cv_log2, f1_cv_knn2, f1_cv_dtree2, f1_cv_rfc2, f1_cv_svc2, f1_cv_nb2, f1_cv_xgb2])\n",
    "roc_m2.extend([roc_cv_log2, roc_cv_knn2, roc_cv_dtree2, roc_cv_rfc2, roc_cv_svc2, roc_cv_nb2, roc_cv_xgb2])\n",
    "logloss_m2.extend([logloss_cv_log2, logloss_cv_knn2, logloss_cv_dtree2, logloss_cv_rfc2, np.nan, logloss_cv_nb2, logloss_cv_xgb2])"
   ]
  },
  {
   "cell_type": "code",
   "execution_count": 357,
   "metadata": {},
   "outputs": [
    {
     "data": {
      "text/html": [
       "<div>\n",
       "<style scoped>\n",
       "    .dataframe tbody tr th:only-of-type {\n",
       "        vertical-align: middle;\n",
       "    }\n",
       "\n",
       "    .dataframe tbody tr th {\n",
       "        vertical-align: top;\n",
       "    }\n",
       "\n",
       "    .dataframe thead th {\n",
       "        text-align: right;\n",
       "    }\n",
       "</style>\n",
       "<table border=\"1\" class=\"dataframe\">\n",
       "  <thead>\n",
       "    <tr style=\"text-align: right;\">\n",
       "      <th></th>\n",
       "      <th>Accuracy</th>\n",
       "      <th>Precision</th>\n",
       "      <th>Recall</th>\n",
       "      <th>F1 Score</th>\n",
       "      <th>ROC AUC Score</th>\n",
       "      <th>Log-loss</th>\n",
       "    </tr>\n",
       "  </thead>\n",
       "  <tbody>\n",
       "    <tr>\n",
       "      <th>Logistic Regression</th>\n",
       "      <td>0.751073</td>\n",
       "      <td>0.744968</td>\n",
       "      <td>0.629167</td>\n",
       "      <td>0.682144</td>\n",
       "      <td>0.812052</td>\n",
       "      <td>0.562080</td>\n",
       "    </tr>\n",
       "    <tr>\n",
       "      <th>K-nearest Neighbors</th>\n",
       "      <td>0.945166</td>\n",
       "      <td>0.932264</td>\n",
       "      <td>0.939286</td>\n",
       "      <td>0.935675</td>\n",
       "      <td>0.956870</td>\n",
       "      <td>1.443421</td>\n",
       "    </tr>\n",
       "    <tr>\n",
       "      <th>Decision Tree</th>\n",
       "      <td>0.839275</td>\n",
       "      <td>0.804103</td>\n",
       "      <td>0.823214</td>\n",
       "      <td>0.812159</td>\n",
       "      <td>0.904798</td>\n",
       "      <td>1.079113</td>\n",
       "    </tr>\n",
       "    <tr>\n",
       "      <th>Random Forest</th>\n",
       "      <td>0.891587</td>\n",
       "      <td>0.863083</td>\n",
       "      <td>0.880952</td>\n",
       "      <td>0.873999</td>\n",
       "      <td>0.954695</td>\n",
       "      <td>0.313506</td>\n",
       "    </tr>\n",
       "    <tr>\n",
       "      <th>Support Vector Machine</th>\n",
       "      <td>0.781912</td>\n",
       "      <td>0.763761</td>\n",
       "      <td>0.704762</td>\n",
       "      <td>0.732903</td>\n",
       "      <td>0.839887</td>\n",
       "      <td>NaN</td>\n",
       "    </tr>\n",
       "    <tr>\n",
       "      <th>Naive Bayes</th>\n",
       "      <td>0.737677</td>\n",
       "      <td>0.750428</td>\n",
       "      <td>0.572619</td>\n",
       "      <td>0.649460</td>\n",
       "      <td>0.813131</td>\n",
       "      <td>0.563076</td>\n",
       "    </tr>\n",
       "    <tr>\n",
       "      <th>XGBoost</th>\n",
       "      <td>0.859998</td>\n",
       "      <td>0.843365</td>\n",
       "      <td>0.823214</td>\n",
       "      <td>0.833127</td>\n",
       "      <td>0.921535</td>\n",
       "      <td>0.360518</td>\n",
       "    </tr>\n",
       "  </tbody>\n",
       "</table>\n",
       "</div>"
      ],
      "text/plain": [
       "                        Accuracy  Precision    Recall  F1 Score  \\\n",
       "Logistic Regression     0.751073   0.744968  0.629167  0.682144   \n",
       "K-nearest Neighbors     0.945166   0.932264  0.939286  0.935675   \n",
       "Decision Tree           0.839275   0.804103  0.823214  0.812159   \n",
       "Random Forest           0.891587   0.863083  0.880952  0.873999   \n",
       "Support Vector Machine  0.781912   0.763761  0.704762  0.732903   \n",
       "Naive Bayes             0.737677   0.750428  0.572619  0.649460   \n",
       "XGBoost                 0.859998   0.843365  0.823214  0.833127   \n",
       "\n",
       "                        ROC AUC Score  Log-loss  \n",
       "Logistic Regression          0.812052  0.562080  \n",
       "K-nearest Neighbors          0.956870  1.443421  \n",
       "Decision Tree                0.904798  1.079113  \n",
       "Random Forest                0.954695  0.313506  \n",
       "Support Vector Machine       0.839887       NaN  \n",
       "Naive Bayes                  0.813131  0.563076  \n",
       "XGBoost                      0.921535  0.360518  "
      ]
     },
     "execution_count": 357,
     "metadata": {},
     "output_type": "execute_result"
    }
   ],
   "source": [
    "df_scores_m2 = pd.DataFrame(list(zip(accuracy_m2, precision_m2, recall_m2, f1_m2, roc_m2, logloss_m2)),\n",
    "                              index=['Logistic Regression','K-nearest Neighbors','Decision Tree','Random Forest',\n",
    "                                     'Support Vector Machine','Naive Bayes','XGBoost'],\n",
    "                              columns=['Accuracy','Precision','Recall','F1 Score','ROC AUC Score','Log-loss']\n",
    "                             )\n",
    "df_scores_m2"
   ]
  },
  {
   "cell_type": "code",
   "execution_count": 358,
   "metadata": {},
   "outputs": [],
   "source": [
    "df_scores_m2.to_csv('../Data/df_scores_m2.csv')"
   ]
  },
  {
   "cell_type": "markdown",
   "metadata": {},
   "source": [
    "### Model set 3"
   ]
  },
  {
   "cell_type": "code",
   "execution_count": 359,
   "metadata": {},
   "outputs": [],
   "source": [
    "accuracy_m3, precision_m3, recall_m3, f1_m3, roc_m3, logloss_m3 = [], [], [], [], [], []"
   ]
  },
  {
   "cell_type": "code",
   "execution_count": 360,
   "metadata": {},
   "outputs": [],
   "source": [
    "accuracy_m3.extend([accuracy_cv_log3, accuracy_cv_knn3, accuracy_cv_dtree3, accuracy_cv_rfc3, accuracy_cv_svc3, accuracy_cv_nb3, accuracy_cv_xgb3])\n",
    "precision_m3.extend([precision_cv_log3, precision_cv_knn3, precision_cv_dtree3, precision_cv_rfc3, precision_cv_svc3, precision_cv_nb3, precision_cv_xgb3])\n",
    "recall_m3.extend([recall_cv_log3, recall_cv_knn3, recall_cv_dtree3, recall_cv_rfc3, recall_cv_svc3, recall_cv_nb3, recall_cv_xgb3])\n",
    "f1_m3.extend([f1_cv_log3, f1_cv_knn3, f1_cv_dtree3, f1_cv_rfc3, f1_cv_svc3, f1_cv_nb3, f1_cv_xgb3])\n",
    "roc_m3.extend([roc_cv_log3, roc_cv_knn3, roc_cv_dtree3, roc_cv_rfc3, roc_cv_svc3, roc_cv_nb3, roc_cv_xgb3])\n",
    "logloss_m3.extend([logloss_cv_log3, logloss_cv_knn3, logloss_cv_dtree3, logloss_cv_rfc3, np.nan, logloss_cv_nb3, logloss_cv_xgb3])"
   ]
  },
  {
   "cell_type": "code",
   "execution_count": 361,
   "metadata": {},
   "outputs": [
    {
     "data": {
      "text/html": [
       "<div>\n",
       "<style scoped>\n",
       "    .dataframe tbody tr th:only-of-type {\n",
       "        vertical-align: middle;\n",
       "    }\n",
       "\n",
       "    .dataframe tbody tr th {\n",
       "        vertical-align: top;\n",
       "    }\n",
       "\n",
       "    .dataframe thead th {\n",
       "        text-align: right;\n",
       "    }\n",
       "</style>\n",
       "<table border=\"1\" class=\"dataframe\">\n",
       "  <thead>\n",
       "    <tr style=\"text-align: right;\">\n",
       "      <th></th>\n",
       "      <th>Accuracy</th>\n",
       "      <th>Precision</th>\n",
       "      <th>Recall</th>\n",
       "      <th>F1 Score</th>\n",
       "      <th>ROC AUC Score</th>\n",
       "      <th>Log-loss</th>\n",
       "    </tr>\n",
       "  </thead>\n",
       "  <tbody>\n",
       "    <tr>\n",
       "      <th>Logistic Regression</th>\n",
       "      <td>0.753094</td>\n",
       "      <td>0.745017</td>\n",
       "      <td>0.636905</td>\n",
       "      <td>0.686506</td>\n",
       "      <td>0.823723</td>\n",
       "      <td>0.545974</td>\n",
       "    </tr>\n",
       "    <tr>\n",
       "      <th>K-nearest Neighbors</th>\n",
       "      <td>0.949210</td>\n",
       "      <td>0.939958</td>\n",
       "      <td>0.940476</td>\n",
       "      <td>0.940145</td>\n",
       "      <td>0.957485</td>\n",
       "      <td>1.399247</td>\n",
       "    </tr>\n",
       "    <tr>\n",
       "      <th>Decision Tree</th>\n",
       "      <td>0.869855</td>\n",
       "      <td>0.893565</td>\n",
       "      <td>0.791071</td>\n",
       "      <td>0.836651</td>\n",
       "      <td>0.936177</td>\n",
       "      <td>0.813021</td>\n",
       "    </tr>\n",
       "    <tr>\n",
       "      <th>Random Forest</th>\n",
       "      <td>0.958813</td>\n",
       "      <td>0.958751</td>\n",
       "      <td>0.946429</td>\n",
       "      <td>0.953164</td>\n",
       "      <td>0.992965</td>\n",
       "      <td>0.114802</td>\n",
       "    </tr>\n",
       "    <tr>\n",
       "      <th>Support Vector Machine</th>\n",
       "      <td>0.925958</td>\n",
       "      <td>0.920246</td>\n",
       "      <td>0.904762</td>\n",
       "      <td>0.912189</td>\n",
       "      <td>0.938992</td>\n",
       "      <td>NaN</td>\n",
       "    </tr>\n",
       "    <tr>\n",
       "      <th>Naive Bayes</th>\n",
       "      <td>0.719483</td>\n",
       "      <td>0.797325</td>\n",
       "      <td>0.454762</td>\n",
       "      <td>0.579098</td>\n",
       "      <td>0.828139</td>\n",
       "      <td>0.661503</td>\n",
       "    </tr>\n",
       "    <tr>\n",
       "      <th>XGBoost</th>\n",
       "      <td>0.952495</td>\n",
       "      <td>0.942486</td>\n",
       "      <td>0.945833</td>\n",
       "      <td>0.944123</td>\n",
       "      <td>0.980586</td>\n",
       "      <td>0.160354</td>\n",
       "    </tr>\n",
       "  </tbody>\n",
       "</table>\n",
       "</div>"
      ],
      "text/plain": [
       "                        Accuracy  Precision    Recall  F1 Score  \\\n",
       "Logistic Regression     0.753094   0.745017  0.636905  0.686506   \n",
       "K-nearest Neighbors     0.949210   0.939958  0.940476  0.940145   \n",
       "Decision Tree           0.869855   0.893565  0.791071  0.836651   \n",
       "Random Forest           0.958813   0.958751  0.946429  0.953164   \n",
       "Support Vector Machine  0.925958   0.920246  0.904762  0.912189   \n",
       "Naive Bayes             0.719483   0.797325  0.454762  0.579098   \n",
       "XGBoost                 0.952495   0.942486  0.945833  0.944123   \n",
       "\n",
       "                        ROC AUC Score  Log-loss  \n",
       "Logistic Regression          0.823723  0.545974  \n",
       "K-nearest Neighbors          0.957485  1.399247  \n",
       "Decision Tree                0.936177  0.813021  \n",
       "Random Forest                0.992965  0.114802  \n",
       "Support Vector Machine       0.938992       NaN  \n",
       "Naive Bayes                  0.828139  0.661503  \n",
       "XGBoost                      0.980586  0.160354  "
      ]
     },
     "execution_count": 361,
     "metadata": {},
     "output_type": "execute_result"
    }
   ],
   "source": [
    "df_scores_m3 = pd.DataFrame(list(zip(accuracy_m3, precision_m3, recall_m3, f1_m3, roc_m3, logloss_m3)),\n",
    "                              index=['Logistic Regression','K-nearest Neighbors','Decision Tree','Random Forest',\n",
    "                                     'Support Vector Machine','Naive Bayes','XGBoost'],\n",
    "                              columns=['Accuracy','Precision','Recall','F1 Score','ROC AUC Score','Log-loss']\n",
    "                             )\n",
    "df_scores_m3"
   ]
  },
  {
   "cell_type": "code",
   "execution_count": 362,
   "metadata": {},
   "outputs": [],
   "source": [
    "df_scores_m3.to_csv('../Data/df_scores_m3.csv')"
   ]
  },
  {
   "cell_type": "markdown",
   "metadata": {},
   "source": [
    "## Final Model Testing"
   ]
  },
  {
   "cell_type": "code",
   "execution_count": 409,
   "metadata": {},
   "outputs": [],
   "source": [
    "rfc3 = RandomForestClassifier(bootstrap=False, max_depth=15, max_features='auto',\n",
    "                              min_samples_leaf=1, min_samples_split=2, n_estimators=100)"
   ]
  },
  {
   "cell_type": "code",
   "execution_count": 410,
   "metadata": {},
   "outputs": [
    {
     "data": {
      "text/plain": [
       "RandomForestClassifier(bootstrap=False, max_depth=15)"
      ]
     },
     "execution_count": 410,
     "metadata": {},
     "output_type": "execute_result"
    }
   ],
   "source": [
    "rfc3.fit(X3_train, y3_train)"
   ]
  },
  {
   "cell_type": "code",
   "execution_count": 411,
   "metadata": {},
   "outputs": [],
   "source": [
    "df3_mf_test = pd.read_csv('../Data/df3_mf_test.csv')\n",
    "\n",
    "X3_test = df3_mf_test.drop(['Ticker','3-year Annualized Return vs. S&P500','Outperform / Underperform'], axis=1)\n",
    "y3_test = df3_mf_test['Outperform / Underperform']"
   ]
  },
  {
   "cell_type": "code",
   "execution_count": 412,
   "metadata": {},
   "outputs": [
    {
     "data": {
      "text/plain": [
       "0.909468438538206"
      ]
     },
     "execution_count": 412,
     "metadata": {},
     "output_type": "execute_result"
    }
   ],
   "source": [
    "rfc3.score(X3_test, y3_test)"
   ]
  },
  {
   "cell_type": "code",
   "execution_count": 413,
   "metadata": {},
   "outputs": [],
   "source": [
    "pred3_rfc = rfc3.predict(X3_test)"
   ]
  },
  {
   "cell_type": "code",
   "execution_count": 414,
   "metadata": {
    "scrolled": true
   },
   "outputs": [
    {
     "name": "stdout",
     "output_type": "stream",
     "text": [
      "              precision    recall  f1-score   support\n",
      "\n",
      "           0       0.90      0.94      0.92       680\n",
      "           1       0.92      0.87      0.89       524\n",
      "\n",
      "    accuracy                           0.91      1204\n",
      "   macro avg       0.91      0.90      0.91      1204\n",
      "weighted avg       0.91      0.91      0.91      1204\n",
      "\n"
     ]
    }
   ],
   "source": [
    "print(classification_report(y3_test,pred3_rfc))"
   ]
  },
  {
   "cell_type": "code",
   "execution_count": 415,
   "metadata": {},
   "outputs": [
    {
     "data": {
      "image/png": "[encoded data removed]",
      "text/plain": [
       "<Figure size 900x600 with 2 Axes>"
      ]
     },
     "metadata": {
      "needs_background": "light"
     },
     "output_type": "display_data"
    }
   ],
   "source": [
    "rfc_confusion = confusion_matrix(y3_test,pred3_rfc)\n",
    "plt.figure(dpi=150)\n",
    "hm = sns.heatmap(rfc_confusion, cmap=plt.cm.Blues, annot=True, square=True, fmt='g')\n",
    "hm.set_xticklabels(labels=['Underperform','Outperform'], rotation=0)\n",
    "hm.set_yticklabels(labels=['Underperform','Outperform'], rotation=90, va='center')\n",
    "hm.tick_params(left=False, bottom=False)\n",
    "\n",
    "plt.xlabel('Predicted', fontsize=13)\n",
    "plt.ylabel('Actual', fontsize=13)\n",
    "plt.title('Random Forest Model Confusion Matrix', fontsize=15)\n",
    "plt.tight_layout()\n",
    "plt.savefig('../Charts/test_confusion_matrix.png')"
   ]
  },
  {
   "cell_type": "code",
   "execution_count": 437,
   "metadata": {},
   "outputs": [
    {
     "data": {
      "image/png": "[encoded data removed]",
      "text/plain": [
       "<Figure size 576x360 with 1 Axes>"
      ]
     },
     "metadata": {
      "needs_background": "light"
     },
     "output_type": "display_data"
    }
   ],
   "source": [
    "# We can also use the probabilities to make a curve showing us how recall \n",
    "# and thresholds trade off \n",
    "\n",
    "grid_pred_proba_rfc = rfc3.predict_proba(X3_test)[:,1]\n",
    "precision_curve, recall_curve, threshold_curve = precision_recall_curve(y3_test, grid_pred_proba_rfc)\n",
    "\n",
    "plt.figure(figsize=(8,5))\n",
    "plt.plot(threshold_curve, precision_curve[1:],label='precision')\n",
    "plt.plot(threshold_curve, recall_curve[1:], label='recall')\n",
    "plt.legend(loc='lower left')\n",
    "plt.xlabel('Threshold (above this probability, label as underperform)');\n",
    "plt.title('Precision and Recall Curves', fontsize=15)\n",
    "plt.tight_layout()\n",
    "plt.savefig('../Charts/test_precision_recall_thres.png')"
   ]
  },
  {
   "cell_type": "code",
   "execution_count": 417,
   "metadata": {},
   "outputs": [
    {
     "data": {
      "image/png": "[encoded data removed]",
      "text/plain": [
       "<Figure size 576x360 with 1 Axes>"
      ]
     },
     "metadata": {
      "needs_background": "light"
     },
     "output_type": "display_data"
    }
   ],
   "source": [
    "plt.figure(figsize=(8,5))\n",
    "plt.plot(recall_curve[1:], precision_curve[1:],label='precision')\n",
    "plt.xlabel(\"Recall\")\n",
    "plt.ylabel(\"Precision\")\n",
    "plt.title(\"Precision-Recall Curve\")\n",
    "plt.tight_layout()\n",
    "plt.savefig('../Charts/test_precision_recall.png')"
   ]
  },
  {
   "cell_type": "code",
   "execution_count": 418,
   "metadata": {},
   "outputs": [],
   "source": [
    "fpr, tpr, thresoholds = roc_curve(y3_test, grid_pred_proba_rfc)"
   ]
  },
  {
   "cell_type": "code",
   "execution_count": 419,
   "metadata": {},
   "outputs": [
    {
     "name": "stdout",
     "output_type": "stream",
     "text": [
      "ROC AUC score =  0.9735308149977548\n"
     ]
    },
    {
     "data": {
      "image/png": "[encoded data removed]",
      "text/plain": [
       "<Figure size 576x432 with 1 Axes>"
      ]
     },
     "metadata": {
      "needs_background": "light"
     },
     "output_type": "display_data"
    }
   ],
   "source": [
    "plt.figure(figsize=(8,6))\n",
    "plt.plot(fpr, tpr,lw=2)\n",
    "plt.plot([0,1],[0,1],c='red',ls='--')\n",
    "plt.xlim([-0.05,1.05])\n",
    "plt.ylim([-0.05,1.05])\n",
    "\n",
    "plt.xlabel('False positive rate', fontsize=12)\n",
    "plt.ylabel('True positive rate', fontsize=12)\n",
    "plt.title('ROC curve', fontsize=15)\n",
    "plt.tight_layout()\n",
    "plt.savefig('../Charts/test_roc_curve.png')\n",
    "\n",
    "print(\"ROC AUC score = \", roc_auc_score(y3_test, grid_pred_proba_rfc))"
   ]
  },
  {
   "cell_type": "code",
   "execution_count": 420,
   "metadata": {},
   "outputs": [
    {
     "data": {
      "text/plain": [
       "0.21521696970759377"
      ]
     },
     "execution_count": 420,
     "metadata": {},
     "output_type": "execute_result"
    }
   ],
   "source": [
    "log_loss(y3_test, rfc3.predict_proba(X3_test))"
   ]
  },
  {
   "cell_type": "markdown",
   "metadata": {},
   "source": [
    "## Interpreting Results"
   ]
  },
  {
   "cell_type": "markdown",
   "metadata": {},
   "source": [
    "### Feature importance"
   ]
  },
  {
   "cell_type": "markdown",
   "metadata": {},
   "source": [
    "#### Gini importance (or mean decrease impurity)"
   ]
  },
  {
   "cell_type": "code",
   "execution_count": 421,
   "metadata": {},
   "outputs": [
    {
     "data": {
      "text/plain": [
       "Text(0.5, 0, 'Random Forest Feature Importance')"
      ]
     },
     "execution_count": 421,
     "metadata": {},
     "output_type": "execute_result"
    },
    {
     "data": {
      "image/png": "[encoded data removed]",
      "text/plain": [
       "<Figure size 432x288 with 1 Axes>"
      ]
     },
     "metadata": {
      "needs_background": "light"
     },
     "output_type": "display_data"
    }
   ],
   "source": [
    "sorted_idx_gini = rfc3.feature_importances_.argsort()\n",
    "plt.barh(X3_test.columns[sorted_idx_gini], rfc3.feature_importances_[sorted_idx_gini])\n",
    "plt.xlabel(\"Random Forest Feature Importance\")"
   ]
  },
  {
   "cell_type": "markdown",
   "metadata": {},
   "source": [
    "#### Permutation importance"
   ]
  },
  {
   "cell_type": "code",
   "execution_count": 422,
   "metadata": {},
   "outputs": [
    {
     "data": {
      "image/png": "[encoded data removed]",
      "text/plain": [
       "<Figure size 576x360 with 1 Axes>"
      ]
     },
     "metadata": {
      "needs_background": "light"
     },
     "output_type": "display_data"
    }
   ],
   "source": [
    "plt.figure(figsize=(8,5))\n",
    "perm_importance = permutation_importance(rfc3, X3_test, y3_test)\n",
    "sorted_idx_perm = perm_importance.importances_mean.argsort()\n",
    "plt.barh(X3_test.columns[sorted_idx_perm], perm_importance.importances_mean[sorted_idx_perm])\n",
    "plt.title('Random Forest Feature Importance', fontsize=15)\n",
    "plt.xlabel(\"Permutation Importance\")\n",
    "plt.tight_layout()\n",
    "plt.savefig('../Charts/feature_importance.png')"
   ]
  },
  {
   "cell_type": "markdown",
   "metadata": {},
   "source": [
    "### Error analysis"
   ]
  },
  {
   "cell_type": "code",
   "execution_count": 423,
   "metadata": {},
   "outputs": [],
   "source": [
    "FN = df3_mf_test[(y3_test == 1) & (pred3_rfc[:].T == 0)]"
   ]
  },
  {
   "cell_type": "code",
   "execution_count": 424,
   "metadata": {},
   "outputs": [],
   "source": [
    "FP = df3_mf_test[(y3_test == 0) & (pred3_rfc[:].T == 1)]"
   ]
  },
  {
   "cell_type": "code",
   "execution_count": 425,
   "metadata": {
    "scrolled": false
   },
   "outputs": [
    {
     "data": {
      "image/png": "[encoded data removed]",
      "text/plain": [
       "<Figure size 576x360 with 1 Axes>"
      ]
     },
     "metadata": {
      "needs_background": "light"
     },
     "output_type": "display_data"
    }
   ],
   "source": [
    "plt.figure(figsize=(8,5))\n",
    "df3_mf_train[df3_mf_train['Outperform / Underperform']==1]['Debt/Capital Last Year (%)'].hist(alpha=0.5,\n",
    "                                              color='blue', bins=30,label='Outperform')\n",
    "df3_mf_train[df3_mf_train['Outperform / Underperform']==0]['Debt/Capital Last Year (%)'].hist(alpha=0.5,\n",
    "                                              color='red', bins=30,label='Underperform')\n",
    "FN['Debt/Capital Last Year (%)'].hist(alpha=0.5, color='black', bins=30,label='False Negatives')\n",
    "\n",
    "plt.legend()\n",
    "plt.grid(b=None)\n",
    "plt.title('Random Forest False Negatives - Debt/Capital Last Year (%)', fontsize=15)\n",
    "plt.xlabel('Debt/Capital Last Year (%)')\n",
    "plt.tight_layout()\n",
    "plt.savefig('../Charts/dist_false_negatives.png')"
   ]
  },
  {
   "cell_type": "code",
   "execution_count": 426,
   "metadata": {},
   "outputs": [
    {
     "data": {
      "image/png": "[encoded data removed]",
      "text/plain": [
       "<Figure size 576x360 with 1 Axes>"
      ]
     },
     "metadata": {
      "needs_background": "light"
     },
     "output_type": "display_data"
    }
   ],
   "source": [
    "plt.figure(figsize=(8,5))\n",
    "df3_mf_train[df3_mf_train['Outperform / Underperform']==1]['Debt/Capital Last Year (%)'].hist(alpha=0.5,\n",
    "                                              color='blue', bins=30,label='Outperform')\n",
    "df3_mf_train[df3_mf_train['Outperform / Underperform']==0]['Debt/Capital Last Year (%)'].hist(alpha=0.5,\n",
    "                                              color='red', bins=30,label='Underperform')\n",
    "FP['Debt/Capital Last Year (%)'].hist(alpha=0.5, color='black', bins=30,label='False Positives')\n",
    "\n",
    "plt.legend()\n",
    "plt.grid(b=None)\n",
    "plt.title('Random Forest False Positives - Debt/Capital Last Year (%)', fontsize=15)\n",
    "plt.xlabel('Debt/Capital Last Year (%)')\n",
    "plt.tight_layout()\n",
    "plt.savefig('../Charts/dist_false_positives.png')"
   ]
  },
  {
   "cell_type": "markdown",
   "metadata": {},
   "source": [
    "## Save Model for Web App"
   ]
  },
  {
   "cell_type": "code",
   "execution_count": 433,
   "metadata": {},
   "outputs": [],
   "source": [
    "rfc3.feature_names = list(X3_test.columns[perm_importance.importances_mean.argsort()[::-1]])"
   ]
  },
  {
   "cell_type": "code",
   "execution_count": 434,
   "metadata": {},
   "outputs": [],
   "source": [
    "reverse_binary_mapper = {1:'Outperform', 0:'Underperform'}\n",
    "df3_mf_test['Outperform / Underperform'] = df3_mf_test['Outperform / Underperform'].replace(reverse_binary_mapper)\n",
    "rfc3.target_names = df3_mf_test['Outperform / Underperform'].unique()"
   ]
  },
  {
   "cell_type": "code",
   "execution_count": 435,
   "metadata": {},
   "outputs": [],
   "source": [
    "with open('../Web_app/predictor_app/models/rfc3.pkl', 'wb') as f:\n",
    "    pkl.dump(rfc3, f)"
   ]
  },
  {
   "cell_type": "code",
   "execution_count": 436,
   "metadata": {},
   "outputs": [
    {
     "data": {
      "text/plain": [
       "['% Assets in Top 10 Holdings',\n",
       " 'Debt/Capital Last Year (%)',\n",
       " 'ROE Last Year (%)',\n",
       " 'No. of Holdings in Portfolio',\n",
       " 'Closed to New Investors (Yes=1, No=0)']"
      ]
     },
     "execution_count": 436,
     "metadata": {},
     "output_type": "execute_result"
    }
   ],
   "source": [
    "rfc3.feature_names"
   ]
  },
  {
   "cell_type": "code",
   "execution_count": null,
   "metadata": {},
   "outputs": [],
   "source": []
  }
 ],
 "metadata": {
  "kernelspec": {
   "display_name": "Python 3",
   "language": "python",
   "name": "python3"
  },
  "language_info": {
   "codemirror_mode": {
    "name": "ipython",
    "version": 3
   },
   "file_extension": ".py",
   "mimetype": "text/x-python",
   "name": "python",
   "nbconvert_exporter": "python",
   "pygments_lexer": "ipython3",
   "version": "3.8.3"
  }
 },
 "nbformat": 4,
 "nbformat_minor": 4
}
